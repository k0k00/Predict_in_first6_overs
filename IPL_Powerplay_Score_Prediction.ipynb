{
 "metadata": {
  "language_info": {
   "codemirror_mode": {
    "name": "ipython",
    "version": 3
   },
   "file_extension": ".py",
   "mimetype": "text/x-python",
   "name": "python",
   "nbconvert_exporter": "python",
   "pygments_lexer": "ipython3",
   "version": "3.8.5"
  },
  "orig_nbformat": 4,
  "kernelspec": {
   "name": "python3",
   "display_name": "Python 3.8.5 64-bit"
  },
  "interpreter": {
   "hash": "77dcdf196944021a492e8af9322675174f43bd84fa8cdc1beb5f85b333fd20f6"
  }
 },
 "nbformat": 4,
 "nbformat_minor": 2,
 "cells": [
  {
   "source": [
    "# IPL Powerplay Score Prediction with AWS Lambda\n",
    "![IPL banner](https://cricketaddictor.gumlet.io/wp-content/uploads/2021/02/153757448_173638941016448_6980867142752435675_n.jpg?compress=true&quality=80&w=1920&dpr=2.6)\n",
    "\n",
    "It's COVID lockdown time. Everyone is worried about the increasing COVID cases, Work From Home (WFH) environment. No way to go out, no parties, no outing, no vacation plans, no gatherings ...... \n",
    "\n",
    "Government announces Lockdown : 1.0, 2.0, 3.0, 4.0 .....\n",
    "\n",
    "At that time every cricket fan had a question. \n",
    "> **\"Do new Govt. rules in lockdown 4.0 pave the way for IPL 2020 ????\"**\n",
    "\n",
    "\n",
    "\n",
    "Finally IPL 2020 happend. \n",
    "* **Even pandamic situation can't derail the IPL juggernaut.**\n",
    "* IPL 20202 earned revenue of : 4000 crores with \n",
    "  *  35% reduced cost and \n",
    "  *  25% increase in viewership. \n",
    "\n",
    "As a cricket fan I watch all the matches, during that time I observed that **\"Powerplay plays a mojor role\"** which is very Important in Team score.\n",
    "\n",
    "## What is powerplay in IPL & it's Importance???\n",
    "* In summary \"powerplay\" means fielding restrictions in 1<sup>st</sup> 6-overs.\n",
    "  * means, only 2-fielders can stay outside the Inner-circle\n",
    "  * After powerplay, upto 5-fielders can stay outside inner circle & 4-fielders must remain inside the inner circle.\n",
    "* Which makes the **batting compatively easy.**\n",
    "* Also **it's a trap for the batsmen**, as this will get them to take into a risk and loose their wickets in 1<sup>st</sup> 6-overs\n",
    "\n",
    "## Effect of \"Powerplay\" in IPL matches??\n",
    "* Powerplay overs are considered as pillars of any teams  victory.\n",
    "* 75% - of winning chance of the team depends on the Powerplay score.\n",
    "* So, every team's expectation from the top 3-batsmen is **\"START THE INNINGS BIG\"**\n",
    "\n",
    "In this blog post I am going to predict the score of an IPL match at the end of powerplay."
   ],
   "cell_type": "markdown",
   "metadata": {}
  },
  {
   "cell_type": "code",
   "execution_count": 1,
   "metadata": {},
   "outputs": [],
   "source": [
    "import requests,zipfile,io,json\n",
    "from pathlib import Path\n",
    "\n",
    "from sklearn.preprocessing import LabelEncoder\n",
    "from collections import OrderedDict\n",
    "\n",
    "import pandas as pd\n",
    "import seaborn as sns\n",
    "import numpy as np\n",
    "\n",
    "from matplotlib import pyplot as plt\n",
    "%matplotlib inline"
   ]
  },
  {
   "cell_type": "code",
   "execution_count": 2,
   "metadata": {},
   "outputs": [],
   "source": [
    "dataset_path = Path(Path.cwd(),'dataset_new')\n",
    "filename = 'all_matches.csv'\n",
    "\n",
    "json_path = Path.joinpath(dataset_path, 'label_encode.json')"
   ]
  },
  {
   "source": [
    "# 1. Loading the Data Set: \n",
    "\n",
    "Dataset will be available at : https://cricsheet.org/downloads/ipl_male_csv.zip"
   ],
   "cell_type": "markdown",
   "metadata": {}
  },
  {
   "cell_type": "code",
   "execution_count": 3,
   "metadata": {},
   "outputs": [],
   "source": [
    "def getCsvFile(url=\"https://cricsheet.org/downloads/ipl_male_csv2.zip\"):\n",
    "    res = requests.get(url, stream=True)\n",
    "    if res.status_code == 200:\n",
    "        print('### Downloading the CSV file')\n",
    "        z = zipfile.ZipFile(io.BytesIO(res.content))\n",
    "        if filename in z.namelist():\n",
    "            z.extract(filename, dataset_path)\n",
    "            print('### Extracted %s file' % filename)\n",
    "        else:\n",
    "            print('### %s : File not found in ZIP Artifact' % filename)\n",
    "\n",
    "def downloadDataset():\n",
    "    if not dataset_path.exists():\n",
    "        Path.mkdir(dataset_path)\n",
    "        print('### Created Dataset folder')\n",
    "        getCsvFile()\n",
    "    elif dataset_path.exists():\n",
    "        files = [file for file in dataset_path.iterdir() if file.name ==\n",
    "                 'all_matches.csv']\n",
    "        if len(files) == 0:\n",
    "            getCsvFile()\n",
    "        else:\n",
    "            print('### File already extracted in given path')"
   ]
  },
  {
   "cell_type": "code",
   "execution_count": 4,
   "metadata": {},
   "outputs": [
    {
     "output_type": "stream",
     "name": "stdout",
     "text": [
      "### File already extracted in given path\n"
     ]
    }
   ],
   "source": [
    "downloadDataset()"
   ]
  },
  {
   "source": [
    "# **2. Data Frames:** "
   ],
   "cell_type": "markdown",
   "metadata": {}
  },
  {
   "cell_type": "code",
   "execution_count": 5,
   "metadata": {},
   "outputs": [
    {
     "output_type": "stream",
     "name": "stdout",
     "text": [
      "(200664, 22)\n"
     ]
    },
    {
     "output_type": "execute_result",
     "data": {
      "text/plain": [
       "   match_id   season start_date                  venue  innings  ball  \\\n",
       "0    335982  2007/08 2008-04-18  M Chinnaswamy Stadium        1   0.1   \n",
       "1    335982  2007/08 2008-04-18  M Chinnaswamy Stadium        1   0.2   \n",
       "2    335982  2007/08 2008-04-18  M Chinnaswamy Stadium        1   0.3   \n",
       "3    335982  2007/08 2008-04-18  M Chinnaswamy Stadium        1   0.4   \n",
       "4    335982  2007/08 2008-04-18  M Chinnaswamy Stadium        1   0.5   \n",
       "\n",
       "            batting_team                 bowling_team      striker  \\\n",
       "0  Kolkata Knight Riders  Royal Challengers Bangalore   SC Ganguly   \n",
       "1  Kolkata Knight Riders  Royal Challengers Bangalore  BB McCullum   \n",
       "2  Kolkata Knight Riders  Royal Challengers Bangalore  BB McCullum   \n",
       "3  Kolkata Knight Riders  Royal Challengers Bangalore  BB McCullum   \n",
       "4  Kolkata Knight Riders  Royal Challengers Bangalore  BB McCullum   \n",
       "\n",
       "   non_striker  ... extras  wides  noballs  byes  legbyes  penalty  \\\n",
       "0  BB McCullum  ...      1    NaN      NaN   NaN      1.0      NaN   \n",
       "1   SC Ganguly  ...      0    NaN      NaN   NaN      NaN      NaN   \n",
       "2   SC Ganguly  ...      1    1.0      NaN   NaN      NaN      NaN   \n",
       "3   SC Ganguly  ...      0    NaN      NaN   NaN      NaN      NaN   \n",
       "4   SC Ganguly  ...      0    NaN      NaN   NaN      NaN      NaN   \n",
       "\n",
       "   wicket_type  player_dismissed other_wicket_type other_player_dismissed  \n",
       "0          NaN               NaN               NaN                    NaN  \n",
       "1          NaN               NaN               NaN                    NaN  \n",
       "2          NaN               NaN               NaN                    NaN  \n",
       "3          NaN               NaN               NaN                    NaN  \n",
       "4          NaN               NaN               NaN                    NaN  \n",
       "\n",
       "[5 rows x 22 columns]"
      ],
      "text/html": "<div>\n<style scoped>\n    .dataframe tbody tr th:only-of-type {\n        vertical-align: middle;\n    }\n\n    .dataframe tbody tr th {\n        vertical-align: top;\n    }\n\n    .dataframe thead th {\n        text-align: right;\n    }\n</style>\n<table border=\"1\" class=\"dataframe\">\n  <thead>\n    <tr style=\"text-align: right;\">\n      <th></th>\n      <th>match_id</th>\n      <th>season</th>\n      <th>start_date</th>\n      <th>venue</th>\n      <th>innings</th>\n      <th>ball</th>\n      <th>batting_team</th>\n      <th>bowling_team</th>\n      <th>striker</th>\n      <th>non_striker</th>\n      <th>...</th>\n      <th>extras</th>\n      <th>wides</th>\n      <th>noballs</th>\n      <th>byes</th>\n      <th>legbyes</th>\n      <th>penalty</th>\n      <th>wicket_type</th>\n      <th>player_dismissed</th>\n      <th>other_wicket_type</th>\n      <th>other_player_dismissed</th>\n    </tr>\n  </thead>\n  <tbody>\n    <tr>\n      <th>0</th>\n      <td>335982</td>\n      <td>2007/08</td>\n      <td>2008-04-18</td>\n      <td>M Chinnaswamy Stadium</td>\n      <td>1</td>\n      <td>0.1</td>\n      <td>Kolkata Knight Riders</td>\n      <td>Royal Challengers Bangalore</td>\n      <td>SC Ganguly</td>\n      <td>BB McCullum</td>\n      <td>...</td>\n      <td>1</td>\n      <td>NaN</td>\n      <td>NaN</td>\n      <td>NaN</td>\n      <td>1.0</td>\n      <td>NaN</td>\n      <td>NaN</td>\n      <td>NaN</td>\n      <td>NaN</td>\n      <td>NaN</td>\n    </tr>\n    <tr>\n      <th>1</th>\n      <td>335982</td>\n      <td>2007/08</td>\n      <td>2008-04-18</td>\n      <td>M Chinnaswamy Stadium</td>\n      <td>1</td>\n      <td>0.2</td>\n      <td>Kolkata Knight Riders</td>\n      <td>Royal Challengers Bangalore</td>\n      <td>BB McCullum</td>\n      <td>SC Ganguly</td>\n      <td>...</td>\n      <td>0</td>\n      <td>NaN</td>\n      <td>NaN</td>\n      <td>NaN</td>\n      <td>NaN</td>\n      <td>NaN</td>\n      <td>NaN</td>\n      <td>NaN</td>\n      <td>NaN</td>\n      <td>NaN</td>\n    </tr>\n    <tr>\n      <th>2</th>\n      <td>335982</td>\n      <td>2007/08</td>\n      <td>2008-04-18</td>\n      <td>M Chinnaswamy Stadium</td>\n      <td>1</td>\n      <td>0.3</td>\n      <td>Kolkata Knight Riders</td>\n      <td>Royal Challengers Bangalore</td>\n      <td>BB McCullum</td>\n      <td>SC Ganguly</td>\n      <td>...</td>\n      <td>1</td>\n      <td>1.0</td>\n      <td>NaN</td>\n      <td>NaN</td>\n      <td>NaN</td>\n      <td>NaN</td>\n      <td>NaN</td>\n      <td>NaN</td>\n      <td>NaN</td>\n      <td>NaN</td>\n    </tr>\n    <tr>\n      <th>3</th>\n      <td>335982</td>\n      <td>2007/08</td>\n      <td>2008-04-18</td>\n      <td>M Chinnaswamy Stadium</td>\n      <td>1</td>\n      <td>0.4</td>\n      <td>Kolkata Knight Riders</td>\n      <td>Royal Challengers Bangalore</td>\n      <td>BB McCullum</td>\n      <td>SC Ganguly</td>\n      <td>...</td>\n      <td>0</td>\n      <td>NaN</td>\n      <td>NaN</td>\n      <td>NaN</td>\n      <td>NaN</td>\n      <td>NaN</td>\n      <td>NaN</td>\n      <td>NaN</td>\n      <td>NaN</td>\n      <td>NaN</td>\n    </tr>\n    <tr>\n      <th>4</th>\n      <td>335982</td>\n      <td>2007/08</td>\n      <td>2008-04-18</td>\n      <td>M Chinnaswamy Stadium</td>\n      <td>1</td>\n      <td>0.5</td>\n      <td>Kolkata Knight Riders</td>\n      <td>Royal Challengers Bangalore</td>\n      <td>BB McCullum</td>\n      <td>SC Ganguly</td>\n      <td>...</td>\n      <td>0</td>\n      <td>NaN</td>\n      <td>NaN</td>\n      <td>NaN</td>\n      <td>NaN</td>\n      <td>NaN</td>\n      <td>NaN</td>\n      <td>NaN</td>\n      <td>NaN</td>\n      <td>NaN</td>\n    </tr>\n  </tbody>\n</table>\n<p>5 rows × 22 columns</p>\n</div>"
     },
     "metadata": {},
     "execution_count": 5
    }
   ],
   "source": [
    "csv_file=Path.joinpath(dataset_path, filename)\n",
    "\n",
    "df = pd.read_csv(csv_file,parse_dates=['start_date'],low_memory=False)\n",
    "df_parsed = df.copy(deep=True)\n",
    "print(df.shape)\n",
    "df.head()\n"
   ]
  },
  {
   "source": [
    "# **3. Exploratory Data Analysis (EDA) / Data Processing:**\n",
    "## 3.1: Identify \"null\" values in Dataset:"
   ],
   "cell_type": "markdown",
   "metadata": {}
  },
  {
   "cell_type": "code",
   "execution_count": 6,
   "metadata": {},
   "outputs": [
    {
     "output_type": "execute_result",
     "data": {
      "text/plain": [
       "match_id                       0\n",
       "season                         0\n",
       "start_date                     0\n",
       "venue                          0\n",
       "innings                        0\n",
       "ball                           0\n",
       "batting_team                   0\n",
       "bowling_team                   0\n",
       "striker                        0\n",
       "non_striker                    0\n",
       "bowler                         0\n",
       "runs_off_bat                   0\n",
       "extras                         0\n",
       "wides                     194583\n",
       "noballs                   199854\n",
       "byes                      200135\n",
       "legbyes                   197460\n",
       "penalty                   200662\n",
       "wicket_type               190799\n",
       "player_dismissed          190799\n",
       "other_wicket_type         200664\n",
       "other_player_dismissed    200664\n",
       "dtype: int64"
      ]
     },
     "metadata": {},
     "execution_count": 6
    }
   ],
   "source": [
    "df.isnull().sum()"
   ]
  },
  {
   "source": [
    "## 3.2: Cleaning Steps:\n",
    "1. Here columns 'season' and 'start_date'  are not needed for our prediction. ```So we can drop the columns 'season' and 'start_date' from the dataset.```\n",
    "2. Delete Non-existing teams : \n",
    "```\n",
    "       'Kochi Tuskers Kerala' 'Pune Warriors','Rising Pune Supergiants', 'Rising Pune Supergiant','Gujarat Lions'\n",
    "```\n",
    "3. Replace the old team names with new team name:\n",
    "```\n",
    "      'Delhi Daredevils'  --> 'Delhi Capitals'\n",
    "      'Deccan Chargers'   --> 'Sunrisers Hyderabad'\n",
    "      'Punjab Kings'      --> 'Kings XI Punjab'\n",
    "```\n",
    "\n",
    "4. Correct the venue column with unique names. In this dataset same stadium is being represented as in multiple ways. So identify those and rename.\n",
    "```\n",
    "      ['M Chinnaswamy Stadium', 'M.Chinnaswamy Stadium']\n",
    "      ['Brabourne Stadium', 'Brabourne Stadium, Mumbai']\n",
    "      ['Punjab Cricket Association Stadium, Mohali', 'Punjab Cricket Association IS Bindra Stadium, Mohali', 'Punjab Cricket Association IS Bindra Stadium']\n",
    "      ['Wankhede Stadium', 'Wankhede Stadium, Mumbai']\n",
    "      ['Rajiv Gandhi International Stadium, Uppal', 'Rajiv Gandhi International Stadium']\n",
    "      ['MA Chidambaram Stadium, Chepauk','MA Chidambaram Stadium',      'MA Chidambaram Stadium, Chepauk, Chennai']\n",
    "```\n",
    "\n",
    "5. Rename the column names (for easy coding)\n",
    "```\n",
    "      'striker'     --> 'batsmen'\n",
    "      'non-striker' --> 'batsmen_nonstriker'  (This column is not required)\n",
    "      'bowler'      --> 'bowlers'\n",
    "```\n",
    "      \n",
    "6. Create a columns \"Total_score\" : which reflects the runs through bat and extra runs through wides,byes,noballs,legbyes...etc.  \n",
    "Hence we can drop columsn ```['wides', 'noballs', 'byes', 'legbyes', 'penalty', 'wicket_type','other_wicket_type', 'other_player_dismissed']```"
   ],
   "cell_type": "markdown",
   "metadata": {}
  },
  {
   "cell_type": "code",
   "execution_count": 7,
   "metadata": {},
   "outputs": [],
   "source": [
    "df_parsed.drop(columns=['season','start_date'],inplace=True)"
   ]
  },
  {
   "cell_type": "code",
   "execution_count": 8,
   "metadata": {},
   "outputs": [
    {
     "output_type": "stream",
     "name": "stderr",
     "text": [
      "<ipython-input-8-567adafd9830>:9: UserWarning: Boolean Series key will be reindexed to match DataFrame index.\n  df_parsed = df_parsed[~mask_bow_team]\n"
     ]
    }
   ],
   "source": [
    "non_exist_teams = ['Kochi Tuskers Kerala',\n",
    "                    'Pune Warriors',\n",
    "                    'Rising Pune Supergiants',\n",
    "                    'Rising Pune Supergiant',\n",
    "                    'Gujarat Lions']\n",
    "mask_bat_team = df_parsed['batting_team'].isin(non_exist_teams)\n",
    "mask_bow_team = df_parsed['bowling_team'].isin(non_exist_teams)\n",
    "df_parsed = df_parsed[~mask_bat_team]\n",
    "df_parsed = df_parsed[~mask_bow_team]"
   ]
  },
  {
   "cell_type": "code",
   "execution_count": 9,
   "metadata": {},
   "outputs": [],
   "source": [
    "df_parsed.loc[df_parsed.batting_team ==\n",
    "                'Delhi Daredevils', 'batting_team'] = 'Delhi Capitals'\n",
    "df_parsed.loc[df_parsed.batting_team == 'Deccan Chargers',\n",
    "                'batting_team'] = 'Sunrisers Hyderabad'\n",
    "df_parsed.loc[df_parsed.batting_team ==\n",
    "                'Punjab Kings', 'batting_team'] = 'Kings XI Punjab'\n",
    "\n",
    "df_parsed.loc[df_parsed.bowling_team ==\n",
    "                'Delhi Daredevils', 'bowling_team'] = 'Delhi Capitals'\n",
    "df_parsed.loc[df_parsed.bowling_team == 'Deccan Chargers',\n",
    "                'bowling_team'] = 'Sunrisers Hyderabad'\n",
    "df_parsed.loc[df_parsed.bowling_team ==\n",
    "                'Punjab Kings', 'bowling_team'] = 'Kings XI Punjab'\n",
    "\n"
   ]
  },
  {
   "cell_type": "code",
   "execution_count": 10,
   "metadata": {},
   "outputs": [
    {
     "output_type": "execute_result",
     "data": {
      "text/plain": [
       "array(['M Chinnaswamy Stadium',\n",
       "       'Punjab Cricket Association Stadium, Mohali', 'Feroz Shah Kotla',\n",
       "       'Eden Gardens', 'Wankhede Stadium', 'Sawai Mansingh Stadium',\n",
       "       'Rajiv Gandhi International Stadium, Uppal',\n",
       "       'MA Chidambaram Stadium, Chepauk', 'Dr DY Patil Sports Academy',\n",
       "       'Newlands', \"St George's Park\", 'Kingsmead', 'SuperSport Park',\n",
       "       'Buffalo Park', 'New Wanderers Stadium', 'De Beers Diamond Oval',\n",
       "       'OUTsurance Oval', 'Brabourne Stadium',\n",
       "       'Sardar Patel Stadium, Motera', 'Barabati Stadium',\n",
       "       'Brabourne Stadium, Mumbai',\n",
       "       'Vidarbha Cricket Association Stadium, Jamtha',\n",
       "       'Himachal Pradesh Cricket Association Stadium',\n",
       "       'Dr. Y.S. Rajasekhara Reddy ACA-VDCA Cricket Stadium',\n",
       "       'Subrata Roy Sahara Stadium',\n",
       "       'Shaheed Veer Narayan Singh International Stadium',\n",
       "       'JSCA International Stadium Complex', 'Sheikh Zayed Stadium',\n",
       "       'Sharjah Cricket Stadium', 'Dubai International Cricket Stadium',\n",
       "       'Maharashtra Cricket Association Stadium',\n",
       "       'Punjab Cricket Association IS Bindra Stadium, Mohali',\n",
       "       'M.Chinnaswamy Stadium', 'Holkar Cricket Stadium',\n",
       "       'MA Chidambaram Stadium', 'Arun Jaitley Stadium',\n",
       "       'Rajiv Gandhi International Stadium',\n",
       "       'Punjab Cricket Association IS Bindra Stadium',\n",
       "       'MA Chidambaram Stadium, Chepauk, Chennai',\n",
       "       'Wankhede Stadium, Mumbai', 'Narendra Modi Stadium, Ahmedabad',\n",
       "       'Arun Jaitley Stadium, Delhi'], dtype=object)"
      ]
     },
     "metadata": {},
     "execution_count": 10
    }
   ],
   "source": [
    "df_parsed.venue.unique()"
   ]
  },
  {
   "cell_type": "code",
   "execution_count": 11,
   "metadata": {},
   "outputs": [
    {
     "output_type": "execute_result",
     "data": {
      "text/plain": [
       "['MA Chidambaram Stadium, Chepauk',\n",
       " 'MA Chidambaram Stadium',\n",
       " 'MA Chidambaram Stadium, Chepauk, Chennai']"
      ]
     },
     "metadata": {},
     "execution_count": 11
    }
   ],
   "source": [
    "list(filter(lambda x : 'chidam' in x.lower(),list(df_parsed.venue.unique())))\n",
    "    "
   ]
  },
  {
   "cell_type": "code",
   "execution_count": 12,
   "metadata": {},
   "outputs": [],
   "source": [
    "df_parsed.loc[df_parsed.venue == 'M.Chinnaswamy Stadium',\n",
    "                'venue'] = 'M Chinnaswamy Stadium'\n",
    "df_parsed.loc[df_parsed.venue == 'Brabourne Stadium, Mumbai',\n",
    "                'venue'] = 'Brabourne Stadium'\n",
    "df_parsed.loc[df_parsed.venue == 'Punjab Cricket Association IS Bindra Stadium, Mohali',\n",
    "                'venue'] = 'Punjab Cricket Association Stadium'\n",
    "df_parsed.loc[df_parsed.venue == 'Punjab Cricket Association IS Bindra Stadium',\n",
    "                'venue'] = 'Punjab Cricket Association Stadium'\n",
    "df_parsed.loc[df_parsed.venue == 'Wankhede Stadium, Mumbai',\n",
    "                'venue'] = 'Wankhede Stadium'\n",
    "df_parsed.loc[df_parsed.venue == 'Rajiv Gandhi International Stadium, Uppal',\n",
    "                'venue'] = 'Rajiv Gandhi International Stadium'\n",
    "df_parsed.loc[df_parsed.venue == 'MA Chidambaram Stadium, Chepauk',\n",
    "                'venue'] = 'MA Chidambaram Stadium'\n",
    "df_parsed.loc[df_parsed.venue == 'MA Chidambaram Stadium, Chepauk, Chennai',\n",
    "                'venue'] = 'MA Chidambaram Stadium'"
   ]
  },
  {
   "cell_type": "code",
   "execution_count": 13,
   "metadata": {},
   "outputs": [],
   "source": [
    "df_parsed = df_parsed.rename(columns={\n",
    "                                 'striker': 'batsmen', 'non_striker': 'batsmen_non_striker', 'bowler': 'bowlers'})"
   ]
  },
  {
   "cell_type": "code",
   "execution_count": 14,
   "metadata": {},
   "outputs": [
    {
     "output_type": "stream",
     "name": "stdout",
     "text": [
      "<class 'pandas.core.frame.DataFrame'>\nInt64Index: 173645 entries, 0 to 200663\nData columns (total 20 columns):\n #   Column                  Non-Null Count   Dtype  \n---  ------                  --------------   -----  \n 0   match_id                173645 non-null  int64  \n 1   venue                   173645 non-null  object \n 2   innings                 173645 non-null  int64  \n 3   ball                    173645 non-null  float64\n 4   batting_team            173645 non-null  object \n 5   bowling_team            173645 non-null  object \n 6   batsmen                 173645 non-null  object \n 7   batsmen_non_striker     173645 non-null  object \n 8   bowlers                 173645 non-null  object \n 9   runs_off_bat            173645 non-null  int64  \n 10  extras                  173645 non-null  int64  \n 11  wides                   5316 non-null    float64\n 12  noballs                 710 non-null     float64\n 13  byes                    468 non-null     float64\n 14  legbyes                 2789 non-null    float64\n 15  penalty                 2 non-null       float64\n 16  wicket_type             8541 non-null    object \n 17  player_dismissed        8541 non-null    object \n 18  other_wicket_type       0 non-null       float64\n 19  other_player_dismissed  0 non-null       float64\ndtypes: float64(8), int64(4), object(8)\nmemory usage: 27.8+ MB\n"
     ]
    }
   ],
   "source": [
    "df_parsed.info()"
   ]
  },
  {
   "cell_type": "code",
   "execution_count": 15,
   "metadata": {},
   "outputs": [],
   "source": [
    "df_parsed['Total_score'] = df_parsed.runs_off_bat + df_parsed.extras\n",
    "\n",
    "df_parsed.drop(columns=['wides', 'noballs', 'byes', 'legbyes', 'penalty', 'wicket_type',\n",
    "                'other_wicket_type', 'other_player_dismissed'], axis=1, inplace=True)"
   ]
  },
  {
   "source": [
    "## 3.3: Select required Data:\n",
    "   Here as we are predicting the IPL match **\"Powerplay\"** score, we can drop the rest of the balls and run detail through, \n",
    "   * by selecting the 1<sup>st</sup> 6-Overs details and  \n",
    "   * with Innings (1 and 2) : as there is no 3<sup>rd</sup> or 4<sup>th</sup> innings happen in powerplay\n"
   ],
   "cell_type": "markdown",
   "metadata": {}
  },
  {
   "cell_type": "code",
   "execution_count": 16,
   "metadata": {},
   "outputs": [
    {
     "output_type": "stream",
     "name": "stdout",
     "text": [
      "### Total 35 : venue details present \n### Total 8  : Batting teams are there\n### Total 8  : Bowlling teams are there\n### Batting teams are : ['Kolkata Knight Riders' 'Royal Challengers Bangalore'\n 'Chennai Super Kings' 'Kings XI Punjab' 'Rajasthan Royals'\n 'Delhi Capitals' 'Sunrisers Hyderabad' 'Mumbai Indians']\n### Bowling teams are : ['Royal Challengers Bangalore' 'Kolkata Knight Riders' 'Kings XI Punjab'\n 'Chennai Super Kings' 'Delhi Capitals' 'Rajasthan Royals'\n 'Sunrisers Hyderabad' 'Mumbai Indians']\n### Shape of data frame after initial cleanup :(173645, 13)\n"
     ]
    }
   ],
   "source": [
    "df_parsed[(df_parsed.ball < 6.0) & (df_parsed.innings < 3)].to_csv(\n",
    "    Path.joinpath(dataset_path, '1_parseDataset.csv'), index=False)\n",
    "\n",
    "print('### Total {} : venue details present '.format(\n",
    "    len(df_parsed.venue.unique())))\n",
    "print('### Total {}  : Batting teams are there'.format(\n",
    "    len(df_parsed.batting_team.unique())))\n",
    "print('### Total {}  : Bowlling teams are there'.format(\n",
    "    len(df_parsed.bowling_team.unique())))\n",
    "print('### Batting teams are : {}'.format(df_parsed.batting_team.unique()))\n",
    "print('### Bowling teams are : {}'.format(df_parsed.bowling_team.unique()))\n",
    "print('### Shape of data frame after initial cleanup :{}'.format(df_parsed.shape))\n"
   ]
  },
  {
   "cell_type": "code",
   "execution_count": 17,
   "metadata": {},
   "outputs": [
    {
     "output_type": "execute_result",
     "data": {
      "text/plain": [
       "        match_id                             venue  innings  ball  \\\n",
       "0         335982             M Chinnaswamy Stadium        1   0.1   \n",
       "1         335982             M Chinnaswamy Stadium        1   0.2   \n",
       "2         335982             M Chinnaswamy Stadium        1   0.3   \n",
       "3         335982             M Chinnaswamy Stadium        1   0.4   \n",
       "4         335982             M Chinnaswamy Stadium        1   0.5   \n",
       "...          ...                               ...      ...   ...   \n",
       "200659   1254086  Narendra Modi Stadium, Ahmedabad        2  17.2   \n",
       "200660   1254086  Narendra Modi Stadium, Ahmedabad        2  17.3   \n",
       "200661   1254086  Narendra Modi Stadium, Ahmedabad        2  17.4   \n",
       "200662   1254086  Narendra Modi Stadium, Ahmedabad        2  17.5   \n",
       "200663   1254086  Narendra Modi Stadium, Ahmedabad        2  17.6   \n",
       "\n",
       "                 batting_team                 bowling_team      batsmen  \\\n",
       "0       Kolkata Knight Riders  Royal Challengers Bangalore   SC Ganguly   \n",
       "1       Kolkata Knight Riders  Royal Challengers Bangalore  BB McCullum   \n",
       "2       Kolkata Knight Riders  Royal Challengers Bangalore  BB McCullum   \n",
       "3       Kolkata Knight Riders  Royal Challengers Bangalore  BB McCullum   \n",
       "4       Kolkata Knight Riders  Royal Challengers Bangalore  BB McCullum   \n",
       "...                       ...                          ...          ...   \n",
       "200659         Delhi Capitals              Kings XI Punjab   SO Hetmyer   \n",
       "200660         Delhi Capitals              Kings XI Punjab   SO Hetmyer   \n",
       "200661         Delhi Capitals              Kings XI Punjab   SO Hetmyer   \n",
       "200662         Delhi Capitals              Kings XI Punjab   SO Hetmyer   \n",
       "200663         Delhi Capitals              Kings XI Punjab   SO Hetmyer   \n",
       "\n",
       "       batsmen_non_striker      bowlers  runs_off_bat  extras  \\\n",
       "0              BB McCullum      P Kumar             0       1   \n",
       "1               SC Ganguly      P Kumar             0       0   \n",
       "2               SC Ganguly      P Kumar             0       1   \n",
       "3               SC Ganguly      P Kumar             0       0   \n",
       "4               SC Ganguly      P Kumar             0       0   \n",
       "...                    ...          ...           ...     ...   \n",
       "200659            S Dhawan  RP Meredith             6       0   \n",
       "200660            S Dhawan  RP Meredith             6       0   \n",
       "200661            S Dhawan  RP Meredith             4       0   \n",
       "200662            S Dhawan  RP Meredith             0       1   \n",
       "200663            S Dhawan  RP Meredith             0       1   \n",
       "\n",
       "       player_dismissed  Total_score  \n",
       "0                   NaN            1  \n",
       "1                   NaN            0  \n",
       "2                   NaN            1  \n",
       "3                   NaN            0  \n",
       "4                   NaN            0  \n",
       "...                 ...          ...  \n",
       "200659              NaN            6  \n",
       "200660              NaN            6  \n",
       "200661              NaN            4  \n",
       "200662              NaN            1  \n",
       "200663              NaN            1  \n",
       "\n",
       "[173645 rows x 13 columns]"
      ],
      "text/html": "<div>\n<style scoped>\n    .dataframe tbody tr th:only-of-type {\n        vertical-align: middle;\n    }\n\n    .dataframe tbody tr th {\n        vertical-align: top;\n    }\n\n    .dataframe thead th {\n        text-align: right;\n    }\n</style>\n<table border=\"1\" class=\"dataframe\">\n  <thead>\n    <tr style=\"text-align: right;\">\n      <th></th>\n      <th>match_id</th>\n      <th>venue</th>\n      <th>innings</th>\n      <th>ball</th>\n      <th>batting_team</th>\n      <th>bowling_team</th>\n      <th>batsmen</th>\n      <th>batsmen_non_striker</th>\n      <th>bowlers</th>\n      <th>runs_off_bat</th>\n      <th>extras</th>\n      <th>player_dismissed</th>\n      <th>Total_score</th>\n    </tr>\n  </thead>\n  <tbody>\n    <tr>\n      <th>0</th>\n      <td>335982</td>\n      <td>M Chinnaswamy Stadium</td>\n      <td>1</td>\n      <td>0.1</td>\n      <td>Kolkata Knight Riders</td>\n      <td>Royal Challengers Bangalore</td>\n      <td>SC Ganguly</td>\n      <td>BB McCullum</td>\n      <td>P Kumar</td>\n      <td>0</td>\n      <td>1</td>\n      <td>NaN</td>\n      <td>1</td>\n    </tr>\n    <tr>\n      <th>1</th>\n      <td>335982</td>\n      <td>M Chinnaswamy Stadium</td>\n      <td>1</td>\n      <td>0.2</td>\n      <td>Kolkata Knight Riders</td>\n      <td>Royal Challengers Bangalore</td>\n      <td>BB McCullum</td>\n      <td>SC Ganguly</td>\n      <td>P Kumar</td>\n      <td>0</td>\n      <td>0</td>\n      <td>NaN</td>\n      <td>0</td>\n    </tr>\n    <tr>\n      <th>2</th>\n      <td>335982</td>\n      <td>M Chinnaswamy Stadium</td>\n      <td>1</td>\n      <td>0.3</td>\n      <td>Kolkata Knight Riders</td>\n      <td>Royal Challengers Bangalore</td>\n      <td>BB McCullum</td>\n      <td>SC Ganguly</td>\n      <td>P Kumar</td>\n      <td>0</td>\n      <td>1</td>\n      <td>NaN</td>\n      <td>1</td>\n    </tr>\n    <tr>\n      <th>3</th>\n      <td>335982</td>\n      <td>M Chinnaswamy Stadium</td>\n      <td>1</td>\n      <td>0.4</td>\n      <td>Kolkata Knight Riders</td>\n      <td>Royal Challengers Bangalore</td>\n      <td>BB McCullum</td>\n      <td>SC Ganguly</td>\n      <td>P Kumar</td>\n      <td>0</td>\n      <td>0</td>\n      <td>NaN</td>\n      <td>0</td>\n    </tr>\n    <tr>\n      <th>4</th>\n      <td>335982</td>\n      <td>M Chinnaswamy Stadium</td>\n      <td>1</td>\n      <td>0.5</td>\n      <td>Kolkata Knight Riders</td>\n      <td>Royal Challengers Bangalore</td>\n      <td>BB McCullum</td>\n      <td>SC Ganguly</td>\n      <td>P Kumar</td>\n      <td>0</td>\n      <td>0</td>\n      <td>NaN</td>\n      <td>0</td>\n    </tr>\n    <tr>\n      <th>...</th>\n      <td>...</td>\n      <td>...</td>\n      <td>...</td>\n      <td>...</td>\n      <td>...</td>\n      <td>...</td>\n      <td>...</td>\n      <td>...</td>\n      <td>...</td>\n      <td>...</td>\n      <td>...</td>\n      <td>...</td>\n      <td>...</td>\n    </tr>\n    <tr>\n      <th>200659</th>\n      <td>1254086</td>\n      <td>Narendra Modi Stadium, Ahmedabad</td>\n      <td>2</td>\n      <td>17.2</td>\n      <td>Delhi Capitals</td>\n      <td>Kings XI Punjab</td>\n      <td>SO Hetmyer</td>\n      <td>S Dhawan</td>\n      <td>RP Meredith</td>\n      <td>6</td>\n      <td>0</td>\n      <td>NaN</td>\n      <td>6</td>\n    </tr>\n    <tr>\n      <th>200660</th>\n      <td>1254086</td>\n      <td>Narendra Modi Stadium, Ahmedabad</td>\n      <td>2</td>\n      <td>17.3</td>\n      <td>Delhi Capitals</td>\n      <td>Kings XI Punjab</td>\n      <td>SO Hetmyer</td>\n      <td>S Dhawan</td>\n      <td>RP Meredith</td>\n      <td>6</td>\n      <td>0</td>\n      <td>NaN</td>\n      <td>6</td>\n    </tr>\n    <tr>\n      <th>200661</th>\n      <td>1254086</td>\n      <td>Narendra Modi Stadium, Ahmedabad</td>\n      <td>2</td>\n      <td>17.4</td>\n      <td>Delhi Capitals</td>\n      <td>Kings XI Punjab</td>\n      <td>SO Hetmyer</td>\n      <td>S Dhawan</td>\n      <td>RP Meredith</td>\n      <td>4</td>\n      <td>0</td>\n      <td>NaN</td>\n      <td>4</td>\n    </tr>\n    <tr>\n      <th>200662</th>\n      <td>1254086</td>\n      <td>Narendra Modi Stadium, Ahmedabad</td>\n      <td>2</td>\n      <td>17.5</td>\n      <td>Delhi Capitals</td>\n      <td>Kings XI Punjab</td>\n      <td>SO Hetmyer</td>\n      <td>S Dhawan</td>\n      <td>RP Meredith</td>\n      <td>0</td>\n      <td>1</td>\n      <td>NaN</td>\n      <td>1</td>\n    </tr>\n    <tr>\n      <th>200663</th>\n      <td>1254086</td>\n      <td>Narendra Modi Stadium, Ahmedabad</td>\n      <td>2</td>\n      <td>17.6</td>\n      <td>Delhi Capitals</td>\n      <td>Kings XI Punjab</td>\n      <td>SO Hetmyer</td>\n      <td>S Dhawan</td>\n      <td>RP Meredith</td>\n      <td>0</td>\n      <td>1</td>\n      <td>NaN</td>\n      <td>1</td>\n    </tr>\n  </tbody>\n</table>\n<p>173645 rows × 13 columns</p>\n</div>"
     },
     "metadata": {},
     "execution_count": 17
    }
   ],
   "source": [
    "df_parsed"
   ]
  },
  {
   "cell_type": "code",
   "execution_count": 18,
   "metadata": {},
   "outputs": [
    {
     "output_type": "stream",
     "name": "stdout",
     "text": [
      "<class 'pandas.core.frame.DataFrame'>\nRangeIndex: 54525 entries, 0 to 54524\nData columns (total 13 columns):\n #   Column               Non-Null Count  Dtype  \n---  ------               --------------  -----  \n 0   match_id             54525 non-null  int64  \n 1   venue                54525 non-null  object \n 2   innings              54525 non-null  int64  \n 3   ball                 54525 non-null  float64\n 4   batting_team         54525 non-null  object \n 5   bowling_team         54525 non-null  object \n 6   batsmen              54525 non-null  object \n 7   batsmen_non_striker  54525 non-null  object \n 8   bowlers              54525 non-null  object \n 9   runs_off_bat         54525 non-null  int64  \n 10  extras               54525 non-null  int64  \n 11  player_dismissed     2062 non-null   object \n 12  Total_score          54525 non-null  int64  \ndtypes: float64(1), int64(5), object(7)\nmemory usage: 5.4+ MB\n"
     ]
    }
   ],
   "source": [
    "df_parsed = pd.read_csv(Path.joinpath(dataset_path, '1_parseDataset.csv'))\n",
    "df_parsed.info()"
   ]
  },
  {
   "source": [
    "# **4. Encoding:** \n",
    "\n",
    "Dataframe column values of Dtype Object:\n",
    "Till now as a initial step in step-2,\n",
    "* We cleaned our dataset with all the \"null\" values and \n",
    "* filtered the columns/rows data (which are not used for prediction) and\n",
    "* Added the required column with values (like total_score) to make the dataset clean.\n",
    "\n",
    "As you can see above, our cleaned dataset is having 13 columns of multiple Dtype like int64 and float64 and object.\n",
    "\n",
    "So next what I am going to do is trying to convert all these multiple Dtypes into a single Dtype, to train my model."
   ],
   "cell_type": "markdown",
   "metadata": {}
  },
  {
   "source": [
    "## 4.1:  Encode \"batsmen\" and \"bowlers\" column values:\n",
    "   * Here we can see, few players who can bat as well as bowl.\n",
    "    Means same player will be listed as a batsmen and as well as bowler.\n",
    "    * So to make the prediction properly, I am creating one Dataframe with all the players name it as \"players_df\", which I use for encoding the players with some value to identify.\n",
    "* For inference going further, I create a dictionary with all these encoded values \n",
    "\n",
    "Use \"sklearn label encoder\" module to encode the dataframe"
   ],
   "cell_type": "markdown",
   "metadata": {}
  },
  {
   "cell_type": "code",
   "execution_count": 19,
   "metadata": {},
   "outputs": [
    {
     "output_type": "execute_result",
     "data": {
      "text/plain": [
       "             Players\n",
       "0         SC Ganguly\n",
       "1        BB McCullum\n",
       "2         RT Ponting\n",
       "3           R Dravid\n",
       "4           W Jaffer\n",
       "..               ...\n",
       "605      RP Meredith\n",
       "606  Abhishek Sharma\n",
       "607      LI Meriwala\n",
       "608   Jalaj S Saxena\n",
       "609         FA Allen\n",
       "\n",
       "[610 rows x 1 columns]"
      ],
      "text/html": "<div>\n<style scoped>\n    .dataframe tbody tr th:only-of-type {\n        vertical-align: middle;\n    }\n\n    .dataframe tbody tr th {\n        vertical-align: top;\n    }\n\n    .dataframe thead th {\n        text-align: right;\n    }\n</style>\n<table border=\"1\" class=\"dataframe\">\n  <thead>\n    <tr style=\"text-align: right;\">\n      <th></th>\n      <th>Players</th>\n    </tr>\n  </thead>\n  <tbody>\n    <tr>\n      <th>0</th>\n      <td>SC Ganguly</td>\n    </tr>\n    <tr>\n      <th>1</th>\n      <td>BB McCullum</td>\n    </tr>\n    <tr>\n      <th>2</th>\n      <td>RT Ponting</td>\n    </tr>\n    <tr>\n      <th>3</th>\n      <td>R Dravid</td>\n    </tr>\n    <tr>\n      <th>4</th>\n      <td>W Jaffer</td>\n    </tr>\n    <tr>\n      <th>...</th>\n      <td>...</td>\n    </tr>\n    <tr>\n      <th>605</th>\n      <td>RP Meredith</td>\n    </tr>\n    <tr>\n      <th>606</th>\n      <td>Abhishek Sharma</td>\n    </tr>\n    <tr>\n      <th>607</th>\n      <td>LI Meriwala</td>\n    </tr>\n    <tr>\n      <th>608</th>\n      <td>Jalaj S Saxena</td>\n    </tr>\n    <tr>\n      <th>609</th>\n      <td>FA Allen</td>\n    </tr>\n  </tbody>\n</table>\n<p>610 rows × 1 columns</p>\n</div>"
     },
     "metadata": {},
     "execution_count": 19
    }
   ],
   "source": [
    "players_df = pd.DataFrame(np.append(\n",
    "                            df_parsed.batsmen.unique(), df_parsed.bowlers.unique()),\n",
    "                            columns=['Players']\n",
    "                        )\n",
    "players_df"
   ]
  },
  {
   "cell_type": "code",
   "execution_count": 20,
   "metadata": {},
   "outputs": [],
   "source": [
    "label_encode_dict = {}\n",
    "\n",
    "le = LabelEncoder()\n",
    "le.fit(players_df.Players)\n",
    "Players_e = le.transform(players_df.Players)\n",
    "Players_e_inv = le.inverse_transform(Players_e)\n",
    "\n",
    "label_encode_dict['Players'] = dict(\n",
    "        zip(Players_e_inv, map(int, Players_e)))"
   ]
  },
  {
   "source": [
    "## 4.2: Encode \"vennue\" and \"batting_team\" and \"bowling_team\" column values:"
   ],
   "cell_type": "markdown",
   "metadata": {}
  },
  {
   "cell_type": "code",
   "execution_count": 21,
   "metadata": {},
   "outputs": [],
   "source": [
    "le.fit(df_parsed.venue)\n",
    "venue_e = le.transform(df_parsed.venue)\n",
    "venue_e_inv = le.inverse_transform(venue_e)\n",
    "label_encode_dict['venue'] = dict(zip(venue_e_inv, map(int, venue_e)))\n",
    "\n",
    "le.fit(df_parsed.batting_team)\n",
    "batting_team_e = le.transform(df_parsed.batting_team)\n",
    "batting_team_e_inv = le.inverse_transform(batting_team_e)\n",
    "label_encode_dict['batting_team'] = dict(\n",
    "    zip(batting_team_e_inv, map(int, batting_team_e)))\n",
    "\n",
    "le.fit(df_parsed.bowling_team)\n",
    "bowling_team_e = le.transform(df_parsed.bowling_team)\n",
    "bowling_team_e_inv = le.inverse_transform(bowling_team_e)\n",
    "label_encode_dict['bowling_team'] = dict(\n",
    "    zip(bowling_team_e_inv, map(int, bowling_team_e)))"
   ]
  },
  {
   "source": [
    "## 4.3: Save the encoded values to a json file"
   ],
   "cell_type": "markdown",
   "metadata": {}
  },
  {
   "cell_type": "code",
   "execution_count": 22,
   "metadata": {},
   "outputs": [],
   "source": [
    "with open(json_path, 'w') as f:\n",
    "    json.dump(label_encode_dict, f)"
   ]
  },
  {
   "source": [
    "## 4.4: Format the Dataset:\n",
    "In this step I am trying to club the all rows with respect to matchID and Innings (as match ID is unique way to identify a particular match and Innings to identify who bat first).\n",
    "\n",
    "Based on these two details, \n",
    "* grab all the batsmen and bowler details who batted and bowled in 1<sup>st</sup> 6-overs\n",
    "* Calculate the total score (runs through bat + extra runs)\n",
    "* How many players dismissed in 1st 6-overs\n"
   ],
   "cell_type": "markdown",
   "metadata": {}
  },
  {
   "cell_type": "code",
   "execution_count": 23,
   "metadata": {},
   "outputs": [
    {
     "output_type": "stream",
     "name": "stdout",
     "text": [
      "### Shape of Dataframe before format_data : (54525, 13)\n"
     ]
    }
   ],
   "source": [
    "print('### Shape of Dataframe before format_data : {}'.format(df_parsed.shape))\n",
    "Runs_off_Bat_6_overs = df_parsed.groupby(\n",
    "    ['match_id', 'venue', 'innings', 'batting_team', 'bowling_team'])['runs_off_bat'].sum()\n",
    "Extras_6_overs = df_parsed.groupby(\n",
    "    ['match_id', 'venue', 'innings', 'batting_team', 'bowling_team'])['extras'].sum()\n",
    "TotalScore_6_overs = df_parsed.groupby(\n",
    "    ['match_id', 'venue', 'innings', 'batting_team', 'bowling_team'])['Total_score'].sum()\n",
    "\n",
    "Total_WktsDown = df_parsed.groupby(['match_id', 'venue', 'innings', 'batting_team', 'bowling_team'])[\n",
    "    'player_dismissed'].count()\n"
   ]
  },
  {
   "cell_type": "code",
   "execution_count": 24,
   "metadata": {},
   "outputs": [],
   "source": [
    "bat_df = df_parsed.groupby(['match_id', 'venue', 'innings',\n",
    "                    'batting_team', 'bowling_team'])['batsmen'].apply(list)\n",
    "bow_df = df_parsed.groupby(['match_id', 'venue', 'innings',\n",
    "                    'batting_team', 'bowling_team'])['bowlers'].apply(list)"
   ]
  },
  {
   "source": [
    "now concat all these formated data into a single dataframe"
   ],
   "cell_type": "markdown",
   "metadata": {}
  },
  {
   "cell_type": "code",
   "execution_count": 25,
   "metadata": {},
   "outputs": [],
   "source": [
    "pd.concat([bat_df, bow_df, Runs_off_Bat_6_overs, Extras_6_overs, TotalScore_6_overs, Total_WktsDown],\n",
    "          axis=1).to_csv(Path.joinpath(dataset_path,'2_format_data.csv'))"
   ]
  },
  {
   "cell_type": "code",
   "execution_count": 26,
   "metadata": {},
   "outputs": [
    {
     "output_type": "execute_result",
     "data": {
      "text/plain": [
       "      match_id                                       venue  innings  \\\n",
       "0       335982                       M Chinnaswamy Stadium        1   \n",
       "1       335982                       M Chinnaswamy Stadium        2   \n",
       "2       335983  Punjab Cricket Association Stadium, Mohali        1   \n",
       "3       335983  Punjab Cricket Association Stadium, Mohali        2   \n",
       "4       335984                            Feroz Shah Kotla        1   \n",
       "...        ...                                         ...      ...   \n",
       "1454   1254084                 Arun Jaitley Stadium, Delhi        2   \n",
       "1455   1254085                 Arun Jaitley Stadium, Delhi        1   \n",
       "1456   1254085                 Arun Jaitley Stadium, Delhi        2   \n",
       "1457   1254086            Narendra Modi Stadium, Ahmedabad        1   \n",
       "1458   1254086            Narendra Modi Stadium, Ahmedabad        2   \n",
       "\n",
       "                     batting_team                 bowling_team  \\\n",
       "0           Kolkata Knight Riders  Royal Challengers Bangalore   \n",
       "1     Royal Challengers Bangalore        Kolkata Knight Riders   \n",
       "2             Chennai Super Kings              Kings XI Punjab   \n",
       "3                 Kings XI Punjab          Chennai Super Kings   \n",
       "4                Rajasthan Royals               Delhi Capitals   \n",
       "...                           ...                          ...   \n",
       "1454               Mumbai Indians          Chennai Super Kings   \n",
       "1455             Rajasthan Royals          Sunrisers Hyderabad   \n",
       "1456          Sunrisers Hyderabad             Rajasthan Royals   \n",
       "1457              Kings XI Punjab               Delhi Capitals   \n",
       "1458               Delhi Capitals              Kings XI Punjab   \n",
       "\n",
       "                                                batsmen  \\\n",
       "0     ['SC Ganguly', 'BB McCullum', 'BB McCullum', '...   \n",
       "1     ['R Dravid', 'W Jaffer', 'W Jaffer', 'W Jaffer...   \n",
       "2     ['PA Patel', 'PA Patel', 'PA Patel', 'ML Hayde...   \n",
       "3     ['K Goel', 'K Goel', 'K Goel', 'K Goel', 'JR H...   \n",
       "4     ['T Kohli', 'T Kohli', 'T Kohli', 'T Kohli', '...   \n",
       "...                                                 ...   \n",
       "1454  ['Q de Kock', 'Q de Kock', 'Q de Kock', 'RG Sh...   \n",
       "1455  ['JC Buttler', 'JC Buttler', 'JC Buttler', 'YB...   \n",
       "1456  ['MK Pandey', 'MK Pandey', 'MK Pandey', 'MK Pa...   \n",
       "1457  ['P Simran Singh', 'P Simran Singh', 'P Simran...   \n",
       "1458  ['PP Shaw', 'S Dhawan', 'S Dhawan', 'S Dhawan'...   \n",
       "\n",
       "                                                bowlers  runs_off_bat  extras  \\\n",
       "0     ['P Kumar', 'P Kumar', 'P Kumar', 'P Kumar', '...            51      10   \n",
       "1     ['AB Dinda', 'AB Dinda', 'AB Dinda', 'AB Dinda...            19       7   \n",
       "2     ['B Lee', 'B Lee', 'B Lee', 'B Lee', 'B Lee', ...            50       3   \n",
       "3     ['JDP Oram', 'JDP Oram', 'JDP Oram', 'JDP Oram...            61       2   \n",
       "4     ['GD McGrath', 'GD McGrath', 'GD McGrath', 'GD...            38       2   \n",
       "...                                                 ...           ...     ...   \n",
       "1454  ['DL Chahar', 'DL Chahar', 'DL Chahar', 'DL Ch...            56       2   \n",
       "1455  ['B Kumar', 'B Kumar', 'B Kumar', 'B Kumar', '...            37       5   \n",
       "1456  ['Kartik Tyagi', 'Kartik Tyagi', 'Kartik Tyagi...            55       2   \n",
       "1457  ['I Sharma', 'I Sharma', 'I Sharma', 'I Sharma...            39       0   \n",
       "1458  ['RP Meredith', 'RP Meredith', 'RP Meredith', ...            61       2   \n",
       "\n",
       "      Total_score  player_dismissed  \n",
       "0              61                 1  \n",
       "1              26                 4  \n",
       "2              53                 1  \n",
       "3              63                 1  \n",
       "4              40                 2  \n",
       "...           ...               ...  \n",
       "1454           58                 0  \n",
       "1455           42                 1  \n",
       "1456           57                 0  \n",
       "1457           39                 2  \n",
       "1458           63                 0  \n",
       "\n",
       "[1459 rows x 11 columns]"
      ],
      "text/html": "<div>\n<style scoped>\n    .dataframe tbody tr th:only-of-type {\n        vertical-align: middle;\n    }\n\n    .dataframe tbody tr th {\n        vertical-align: top;\n    }\n\n    .dataframe thead th {\n        text-align: right;\n    }\n</style>\n<table border=\"1\" class=\"dataframe\">\n  <thead>\n    <tr style=\"text-align: right;\">\n      <th></th>\n      <th>match_id</th>\n      <th>venue</th>\n      <th>innings</th>\n      <th>batting_team</th>\n      <th>bowling_team</th>\n      <th>batsmen</th>\n      <th>bowlers</th>\n      <th>runs_off_bat</th>\n      <th>extras</th>\n      <th>Total_score</th>\n      <th>player_dismissed</th>\n    </tr>\n  </thead>\n  <tbody>\n    <tr>\n      <th>0</th>\n      <td>335982</td>\n      <td>M Chinnaswamy Stadium</td>\n      <td>1</td>\n      <td>Kolkata Knight Riders</td>\n      <td>Royal Challengers Bangalore</td>\n      <td>['SC Ganguly', 'BB McCullum', 'BB McCullum', '...</td>\n      <td>['P Kumar', 'P Kumar', 'P Kumar', 'P Kumar', '...</td>\n      <td>51</td>\n      <td>10</td>\n      <td>61</td>\n      <td>1</td>\n    </tr>\n    <tr>\n      <th>1</th>\n      <td>335982</td>\n      <td>M Chinnaswamy Stadium</td>\n      <td>2</td>\n      <td>Royal Challengers Bangalore</td>\n      <td>Kolkata Knight Riders</td>\n      <td>['R Dravid', 'W Jaffer', 'W Jaffer', 'W Jaffer...</td>\n      <td>['AB Dinda', 'AB Dinda', 'AB Dinda', 'AB Dinda...</td>\n      <td>19</td>\n      <td>7</td>\n      <td>26</td>\n      <td>4</td>\n    </tr>\n    <tr>\n      <th>2</th>\n      <td>335983</td>\n      <td>Punjab Cricket Association Stadium, Mohali</td>\n      <td>1</td>\n      <td>Chennai Super Kings</td>\n      <td>Kings XI Punjab</td>\n      <td>['PA Patel', 'PA Patel', 'PA Patel', 'ML Hayde...</td>\n      <td>['B Lee', 'B Lee', 'B Lee', 'B Lee', 'B Lee', ...</td>\n      <td>50</td>\n      <td>3</td>\n      <td>53</td>\n      <td>1</td>\n    </tr>\n    <tr>\n      <th>3</th>\n      <td>335983</td>\n      <td>Punjab Cricket Association Stadium, Mohali</td>\n      <td>2</td>\n      <td>Kings XI Punjab</td>\n      <td>Chennai Super Kings</td>\n      <td>['K Goel', 'K Goel', 'K Goel', 'K Goel', 'JR H...</td>\n      <td>['JDP Oram', 'JDP Oram', 'JDP Oram', 'JDP Oram...</td>\n      <td>61</td>\n      <td>2</td>\n      <td>63</td>\n      <td>1</td>\n    </tr>\n    <tr>\n      <th>4</th>\n      <td>335984</td>\n      <td>Feroz Shah Kotla</td>\n      <td>1</td>\n      <td>Rajasthan Royals</td>\n      <td>Delhi Capitals</td>\n      <td>['T Kohli', 'T Kohli', 'T Kohli', 'T Kohli', '...</td>\n      <td>['GD McGrath', 'GD McGrath', 'GD McGrath', 'GD...</td>\n      <td>38</td>\n      <td>2</td>\n      <td>40</td>\n      <td>2</td>\n    </tr>\n    <tr>\n      <th>...</th>\n      <td>...</td>\n      <td>...</td>\n      <td>...</td>\n      <td>...</td>\n      <td>...</td>\n      <td>...</td>\n      <td>...</td>\n      <td>...</td>\n      <td>...</td>\n      <td>...</td>\n      <td>...</td>\n    </tr>\n    <tr>\n      <th>1454</th>\n      <td>1254084</td>\n      <td>Arun Jaitley Stadium, Delhi</td>\n      <td>2</td>\n      <td>Mumbai Indians</td>\n      <td>Chennai Super Kings</td>\n      <td>['Q de Kock', 'Q de Kock', 'Q de Kock', 'RG Sh...</td>\n      <td>['DL Chahar', 'DL Chahar', 'DL Chahar', 'DL Ch...</td>\n      <td>56</td>\n      <td>2</td>\n      <td>58</td>\n      <td>0</td>\n    </tr>\n    <tr>\n      <th>1455</th>\n      <td>1254085</td>\n      <td>Arun Jaitley Stadium, Delhi</td>\n      <td>1</td>\n      <td>Rajasthan Royals</td>\n      <td>Sunrisers Hyderabad</td>\n      <td>['JC Buttler', 'JC Buttler', 'JC Buttler', 'YB...</td>\n      <td>['B Kumar', 'B Kumar', 'B Kumar', 'B Kumar', '...</td>\n      <td>37</td>\n      <td>5</td>\n      <td>42</td>\n      <td>1</td>\n    </tr>\n    <tr>\n      <th>1456</th>\n      <td>1254085</td>\n      <td>Arun Jaitley Stadium, Delhi</td>\n      <td>2</td>\n      <td>Sunrisers Hyderabad</td>\n      <td>Rajasthan Royals</td>\n      <td>['MK Pandey', 'MK Pandey', 'MK Pandey', 'MK Pa...</td>\n      <td>['Kartik Tyagi', 'Kartik Tyagi', 'Kartik Tyagi...</td>\n      <td>55</td>\n      <td>2</td>\n      <td>57</td>\n      <td>0</td>\n    </tr>\n    <tr>\n      <th>1457</th>\n      <td>1254086</td>\n      <td>Narendra Modi Stadium, Ahmedabad</td>\n      <td>1</td>\n      <td>Kings XI Punjab</td>\n      <td>Delhi Capitals</td>\n      <td>['P Simran Singh', 'P Simran Singh', 'P Simran...</td>\n      <td>['I Sharma', 'I Sharma', 'I Sharma', 'I Sharma...</td>\n      <td>39</td>\n      <td>0</td>\n      <td>39</td>\n      <td>2</td>\n    </tr>\n    <tr>\n      <th>1458</th>\n      <td>1254086</td>\n      <td>Narendra Modi Stadium, Ahmedabad</td>\n      <td>2</td>\n      <td>Delhi Capitals</td>\n      <td>Kings XI Punjab</td>\n      <td>['PP Shaw', 'S Dhawan', 'S Dhawan', 'S Dhawan'...</td>\n      <td>['RP Meredith', 'RP Meredith', 'RP Meredith', ...</td>\n      <td>61</td>\n      <td>2</td>\n      <td>63</td>\n      <td>0</td>\n    </tr>\n  </tbody>\n</table>\n<p>1459 rows × 11 columns</p>\n</div>"
     },
     "metadata": {},
     "execution_count": 26
    }
   ],
   "source": [
    "df_parsed = pd.read_csv(Path.joinpath(dataset_path, '2_format_data.csv'))\n",
    "df_parsed"
   ]
  },
  {
   "source": [
    "## 4.5 : Align the batsmen and bowlers details in to a separate column\n",
    "\n",
    "In above formated dataset, we got list of batsmen and bowlers details who batted and bowled in 6-overs.\n",
    "\n",
    "Now we have to arrange these batsmen into a separate columns,\n",
    "```\n",
    " * say bat1,bat2,bat3,bat4....bat10\n",
    " * say bow1,bow2,bow3.....bow6\n",
    "```\n",
    "\n",
    "Here I selected only 10-batsmen (as we have only 10-wickets), and 6-bowlers (can bowl in 6-overs) because in 6-overs this is only possible.\n",
    "\n",
    "```\n",
    "For proper prediction the order of batsmen and bowlers given the dataset matters. So we need to keep the order :\n",
    "* batsmen : who batted 1st,2nd 3rd and 4th ... wicket same\n",
    "* bowler  : who bowled in 1st,2nd,3rd,4th,5th and 6th overs same\n",
    "```"
   ],
   "cell_type": "markdown",
   "metadata": {}
  },
  {
   "source": [
    "## 4.6: Create a batsmen and bowlers dummy dataframe:\n",
    "Inorder to keep track of the order same, so 1st I am going to create a dummy dataframe \n",
    "* with 10-batsmen with column names [bat1,bat2,.....bat9,bat10]\n",
    "* with 6-bowlers with column names [bow1,bow2,bow3,bow4,bow5,bow6]"
   ],
   "cell_type": "markdown",
   "metadata": {}
  },
  {
   "cell_type": "code",
   "execution_count": 27,
   "metadata": {},
   "outputs": [
    {
     "output_type": "execute_result",
     "data": {
      "text/plain": [
       "(1459, 11)"
      ]
     },
     "metadata": {},
     "execution_count": 27
    }
   ],
   "source": [
    "df_parsed.shape"
   ]
  },
  {
   "cell_type": "code",
   "execution_count": 28,
   "metadata": {},
   "outputs": [
    {
     "output_type": "execute_result",
     "data": {
      "text/plain": [
       "      bat1  bat2  bat3  bat4  bat5  bat6  bat7  bat8  bat9  bat10  bow1  bow2  \\\n",
       "0      0.0   0.0   0.0   0.0   0.0   0.0   0.0   0.0   0.0    0.0   0.0   0.0   \n",
       "1      0.0   0.0   0.0   0.0   0.0   0.0   0.0   0.0   0.0    0.0   0.0   0.0   \n",
       "2      0.0   0.0   0.0   0.0   0.0   0.0   0.0   0.0   0.0    0.0   0.0   0.0   \n",
       "3      0.0   0.0   0.0   0.0   0.0   0.0   0.0   0.0   0.0    0.0   0.0   0.0   \n",
       "4      0.0   0.0   0.0   0.0   0.0   0.0   0.0   0.0   0.0    0.0   0.0   0.0   \n",
       "...    ...   ...   ...   ...   ...   ...   ...   ...   ...    ...   ...   ...   \n",
       "1454   0.0   0.0   0.0   0.0   0.0   0.0   0.0   0.0   0.0    0.0   0.0   0.0   \n",
       "1455   0.0   0.0   0.0   0.0   0.0   0.0   0.0   0.0   0.0    0.0   0.0   0.0   \n",
       "1456   0.0   0.0   0.0   0.0   0.0   0.0   0.0   0.0   0.0    0.0   0.0   0.0   \n",
       "1457   0.0   0.0   0.0   0.0   0.0   0.0   0.0   0.0   0.0    0.0   0.0   0.0   \n",
       "1458   0.0   0.0   0.0   0.0   0.0   0.0   0.0   0.0   0.0    0.0   0.0   0.0   \n",
       "\n",
       "      bow3  bow4  bow5  bow6  \n",
       "0      0.0   0.0   0.0   0.0  \n",
       "1      0.0   0.0   0.0   0.0  \n",
       "2      0.0   0.0   0.0   0.0  \n",
       "3      0.0   0.0   0.0   0.0  \n",
       "4      0.0   0.0   0.0   0.0  \n",
       "...    ...   ...   ...   ...  \n",
       "1454   0.0   0.0   0.0   0.0  \n",
       "1455   0.0   0.0   0.0   0.0  \n",
       "1456   0.0   0.0   0.0   0.0  \n",
       "1457   0.0   0.0   0.0   0.0  \n",
       "1458   0.0   0.0   0.0   0.0  \n",
       "\n",
       "[1459 rows x 16 columns]"
      ],
      "text/html": "<div>\n<style scoped>\n    .dataframe tbody tr th:only-of-type {\n        vertical-align: middle;\n    }\n\n    .dataframe tbody tr th {\n        vertical-align: top;\n    }\n\n    .dataframe thead th {\n        text-align: right;\n    }\n</style>\n<table border=\"1\" class=\"dataframe\">\n  <thead>\n    <tr style=\"text-align: right;\">\n      <th></th>\n      <th>bat1</th>\n      <th>bat2</th>\n      <th>bat3</th>\n      <th>bat4</th>\n      <th>bat5</th>\n      <th>bat6</th>\n      <th>bat7</th>\n      <th>bat8</th>\n      <th>bat9</th>\n      <th>bat10</th>\n      <th>bow1</th>\n      <th>bow2</th>\n      <th>bow3</th>\n      <th>bow4</th>\n      <th>bow5</th>\n      <th>bow6</th>\n    </tr>\n  </thead>\n  <tbody>\n    <tr>\n      <th>0</th>\n      <td>0.0</td>\n      <td>0.0</td>\n      <td>0.0</td>\n      <td>0.0</td>\n      <td>0.0</td>\n      <td>0.0</td>\n      <td>0.0</td>\n      <td>0.0</td>\n      <td>0.0</td>\n      <td>0.0</td>\n      <td>0.0</td>\n      <td>0.0</td>\n      <td>0.0</td>\n      <td>0.0</td>\n      <td>0.0</td>\n      <td>0.0</td>\n    </tr>\n    <tr>\n      <th>1</th>\n      <td>0.0</td>\n      <td>0.0</td>\n      <td>0.0</td>\n      <td>0.0</td>\n      <td>0.0</td>\n      <td>0.0</td>\n      <td>0.0</td>\n      <td>0.0</td>\n      <td>0.0</td>\n      <td>0.0</td>\n      <td>0.0</td>\n      <td>0.0</td>\n      <td>0.0</td>\n      <td>0.0</td>\n      <td>0.0</td>\n      <td>0.0</td>\n    </tr>\n    <tr>\n      <th>2</th>\n      <td>0.0</td>\n      <td>0.0</td>\n      <td>0.0</td>\n      <td>0.0</td>\n      <td>0.0</td>\n      <td>0.0</td>\n      <td>0.0</td>\n      <td>0.0</td>\n      <td>0.0</td>\n      <td>0.0</td>\n      <td>0.0</td>\n      <td>0.0</td>\n      <td>0.0</td>\n      <td>0.0</td>\n      <td>0.0</td>\n      <td>0.0</td>\n    </tr>\n    <tr>\n      <th>3</th>\n      <td>0.0</td>\n      <td>0.0</td>\n      <td>0.0</td>\n      <td>0.0</td>\n      <td>0.0</td>\n      <td>0.0</td>\n      <td>0.0</td>\n      <td>0.0</td>\n      <td>0.0</td>\n      <td>0.0</td>\n      <td>0.0</td>\n      <td>0.0</td>\n      <td>0.0</td>\n      <td>0.0</td>\n      <td>0.0</td>\n      <td>0.0</td>\n    </tr>\n    <tr>\n      <th>4</th>\n      <td>0.0</td>\n      <td>0.0</td>\n      <td>0.0</td>\n      <td>0.0</td>\n      <td>0.0</td>\n      <td>0.0</td>\n      <td>0.0</td>\n      <td>0.0</td>\n      <td>0.0</td>\n      <td>0.0</td>\n      <td>0.0</td>\n      <td>0.0</td>\n      <td>0.0</td>\n      <td>0.0</td>\n      <td>0.0</td>\n      <td>0.0</td>\n    </tr>\n    <tr>\n      <th>...</th>\n      <td>...</td>\n      <td>...</td>\n      <td>...</td>\n      <td>...</td>\n      <td>...</td>\n      <td>...</td>\n      <td>...</td>\n      <td>...</td>\n      <td>...</td>\n      <td>...</td>\n      <td>...</td>\n      <td>...</td>\n      <td>...</td>\n      <td>...</td>\n      <td>...</td>\n      <td>...</td>\n    </tr>\n    <tr>\n      <th>1454</th>\n      <td>0.0</td>\n      <td>0.0</td>\n      <td>0.0</td>\n      <td>0.0</td>\n      <td>0.0</td>\n      <td>0.0</td>\n      <td>0.0</td>\n      <td>0.0</td>\n      <td>0.0</td>\n      <td>0.0</td>\n      <td>0.0</td>\n      <td>0.0</td>\n      <td>0.0</td>\n      <td>0.0</td>\n      <td>0.0</td>\n      <td>0.0</td>\n    </tr>\n    <tr>\n      <th>1455</th>\n      <td>0.0</td>\n      <td>0.0</td>\n      <td>0.0</td>\n      <td>0.0</td>\n      <td>0.0</td>\n      <td>0.0</td>\n      <td>0.0</td>\n      <td>0.0</td>\n      <td>0.0</td>\n      <td>0.0</td>\n      <td>0.0</td>\n      <td>0.0</td>\n      <td>0.0</td>\n      <td>0.0</td>\n      <td>0.0</td>\n      <td>0.0</td>\n    </tr>\n    <tr>\n      <th>1456</th>\n      <td>0.0</td>\n      <td>0.0</td>\n      <td>0.0</td>\n      <td>0.0</td>\n      <td>0.0</td>\n      <td>0.0</td>\n      <td>0.0</td>\n      <td>0.0</td>\n      <td>0.0</td>\n      <td>0.0</td>\n      <td>0.0</td>\n      <td>0.0</td>\n      <td>0.0</td>\n      <td>0.0</td>\n      <td>0.0</td>\n      <td>0.0</td>\n    </tr>\n    <tr>\n      <th>1457</th>\n      <td>0.0</td>\n      <td>0.0</td>\n      <td>0.0</td>\n      <td>0.0</td>\n      <td>0.0</td>\n      <td>0.0</td>\n      <td>0.0</td>\n      <td>0.0</td>\n      <td>0.0</td>\n      <td>0.0</td>\n      <td>0.0</td>\n      <td>0.0</td>\n      <td>0.0</td>\n      <td>0.0</td>\n      <td>0.0</td>\n      <td>0.0</td>\n    </tr>\n    <tr>\n      <th>1458</th>\n      <td>0.0</td>\n      <td>0.0</td>\n      <td>0.0</td>\n      <td>0.0</td>\n      <td>0.0</td>\n      <td>0.0</td>\n      <td>0.0</td>\n      <td>0.0</td>\n      <td>0.0</td>\n      <td>0.0</td>\n      <td>0.0</td>\n      <td>0.0</td>\n      <td>0.0</td>\n      <td>0.0</td>\n      <td>0.0</td>\n      <td>0.0</td>\n    </tr>\n  </tbody>\n</table>\n<p>1459 rows × 16 columns</p>\n</div>"
     },
     "metadata": {},
     "execution_count": 28
    }
   ],
   "source": [
    "bat  = pd.DataFrame(np.zeros((df_parsed.shape[0],10),dtype=float),columns=['bat1', 'bat2', 'bat3', 'bat4', 'bat5', 'bat6', 'bat7', 'bat8', 'bat9', 'bat10'])\n",
    "bowl = pd.DataFrame(np.zeros((df_parsed.shape[0],6),dtype=float),columns=['bow1', 'bow2', 'bow3', 'bow4', 'bow5', 'bow6'])\n",
    "\n",
    "columns = ['bat1', 'bat2', 'bat3', 'bat4', 'bat5', 'bat6', 'bat7', 'bat8', 'bat9', 'bat10','bow1', 'bow2', 'bow3', 'bow4', 'bow5', 'bow6']\n",
    "df_bat_bow = pd.concat([bat,bowl],axis=1)\n",
    "df_bat_bow\n",
    "\n"
   ]
  },
  {
   "cell_type": "code",
   "execution_count": 29,
   "metadata": {},
   "outputs": [],
   "source": [
    "pd.concat([df_parsed, df_bat_bow], axis=1).to_csv(Path.joinpath(\n",
    "    dataset_path, '3_create_batsmen_bowler_df.csv'),                index=False)\n",
    "df_parsed = pd.read_csv(Path.joinpath(\n",
    "    dataset_path, '3_create_batsmen_bowler_df.csv'))"
   ]
  },
  {
   "cell_type": "code",
   "execution_count": 30,
   "metadata": {},
   "outputs": [
    {
     "output_type": "execute_result",
     "data": {
      "text/plain": [
       "   match_id                                       venue  innings  \\\n",
       "0    335982                       M Chinnaswamy Stadium        1   \n",
       "1    335982                       M Chinnaswamy Stadium        2   \n",
       "2    335983  Punjab Cricket Association Stadium, Mohali        1   \n",
       "\n",
       "                  batting_team                 bowling_team  \\\n",
       "0        Kolkata Knight Riders  Royal Challengers Bangalore   \n",
       "1  Royal Challengers Bangalore        Kolkata Knight Riders   \n",
       "2          Chennai Super Kings              Kings XI Punjab   \n",
       "\n",
       "                                             batsmen  \\\n",
       "0  ['SC Ganguly', 'BB McCullum', 'BB McCullum', '...   \n",
       "1  ['R Dravid', 'W Jaffer', 'W Jaffer', 'W Jaffer...   \n",
       "2  ['PA Patel', 'PA Patel', 'PA Patel', 'ML Hayde...   \n",
       "\n",
       "                                             bowlers  runs_off_bat  extras  \\\n",
       "0  ['P Kumar', 'P Kumar', 'P Kumar', 'P Kumar', '...            51      10   \n",
       "1  ['AB Dinda', 'AB Dinda', 'AB Dinda', 'AB Dinda...            19       7   \n",
       "2  ['B Lee', 'B Lee', 'B Lee', 'B Lee', 'B Lee', ...            50       3   \n",
       "\n",
       "   Total_score  ...  bat7  bat8  bat9  bat10  bow1  bow2  bow3  bow4  bow5  \\\n",
       "0           61  ...   0.0   0.0   0.0    0.0   0.0   0.0   0.0   0.0   0.0   \n",
       "1           26  ...   0.0   0.0   0.0    0.0   0.0   0.0   0.0   0.0   0.0   \n",
       "2           53  ...   0.0   0.0   0.0    0.0   0.0   0.0   0.0   0.0   0.0   \n",
       "\n",
       "   bow6  \n",
       "0   0.0  \n",
       "1   0.0  \n",
       "2   0.0  \n",
       "\n",
       "[3 rows x 27 columns]"
      ],
      "text/html": "<div>\n<style scoped>\n    .dataframe tbody tr th:only-of-type {\n        vertical-align: middle;\n    }\n\n    .dataframe tbody tr th {\n        vertical-align: top;\n    }\n\n    .dataframe thead th {\n        text-align: right;\n    }\n</style>\n<table border=\"1\" class=\"dataframe\">\n  <thead>\n    <tr style=\"text-align: right;\">\n      <th></th>\n      <th>match_id</th>\n      <th>venue</th>\n      <th>innings</th>\n      <th>batting_team</th>\n      <th>bowling_team</th>\n      <th>batsmen</th>\n      <th>bowlers</th>\n      <th>runs_off_bat</th>\n      <th>extras</th>\n      <th>Total_score</th>\n      <th>...</th>\n      <th>bat7</th>\n      <th>bat8</th>\n      <th>bat9</th>\n      <th>bat10</th>\n      <th>bow1</th>\n      <th>bow2</th>\n      <th>bow3</th>\n      <th>bow4</th>\n      <th>bow5</th>\n      <th>bow6</th>\n    </tr>\n  </thead>\n  <tbody>\n    <tr>\n      <th>0</th>\n      <td>335982</td>\n      <td>M Chinnaswamy Stadium</td>\n      <td>1</td>\n      <td>Kolkata Knight Riders</td>\n      <td>Royal Challengers Bangalore</td>\n      <td>['SC Ganguly', 'BB McCullum', 'BB McCullum', '...</td>\n      <td>['P Kumar', 'P Kumar', 'P Kumar', 'P Kumar', '...</td>\n      <td>51</td>\n      <td>10</td>\n      <td>61</td>\n      <td>...</td>\n      <td>0.0</td>\n      <td>0.0</td>\n      <td>0.0</td>\n      <td>0.0</td>\n      <td>0.0</td>\n      <td>0.0</td>\n      <td>0.0</td>\n      <td>0.0</td>\n      <td>0.0</td>\n      <td>0.0</td>\n    </tr>\n    <tr>\n      <th>1</th>\n      <td>335982</td>\n      <td>M Chinnaswamy Stadium</td>\n      <td>2</td>\n      <td>Royal Challengers Bangalore</td>\n      <td>Kolkata Knight Riders</td>\n      <td>['R Dravid', 'W Jaffer', 'W Jaffer', 'W Jaffer...</td>\n      <td>['AB Dinda', 'AB Dinda', 'AB Dinda', 'AB Dinda...</td>\n      <td>19</td>\n      <td>7</td>\n      <td>26</td>\n      <td>...</td>\n      <td>0.0</td>\n      <td>0.0</td>\n      <td>0.0</td>\n      <td>0.0</td>\n      <td>0.0</td>\n      <td>0.0</td>\n      <td>0.0</td>\n      <td>0.0</td>\n      <td>0.0</td>\n      <td>0.0</td>\n    </tr>\n    <tr>\n      <th>2</th>\n      <td>335983</td>\n      <td>Punjab Cricket Association Stadium, Mohali</td>\n      <td>1</td>\n      <td>Chennai Super Kings</td>\n      <td>Kings XI Punjab</td>\n      <td>['PA Patel', 'PA Patel', 'PA Patel', 'ML Hayde...</td>\n      <td>['B Lee', 'B Lee', 'B Lee', 'B Lee', 'B Lee', ...</td>\n      <td>50</td>\n      <td>3</td>\n      <td>53</td>\n      <td>...</td>\n      <td>0.0</td>\n      <td>0.0</td>\n      <td>0.0</td>\n      <td>0.0</td>\n      <td>0.0</td>\n      <td>0.0</td>\n      <td>0.0</td>\n      <td>0.0</td>\n      <td>0.0</td>\n      <td>0.0</td>\n    </tr>\n  </tbody>\n</table>\n<p>3 rows × 27 columns</p>\n</div>"
     },
     "metadata": {},
     "execution_count": 30
    }
   ],
   "source": [
    "df_parsed.head(3)"
   ]
  },
  {
   "source": [
    "## 4.7: Update the batsmen list of elements into each column in the same order:\n",
    "\n",
    "Means, data which is in list of elements in each matchID and innings into corresponding individual batsmen columns in the same order. \n",
    "```\n",
    "Example, here in below list 1st batsmen is bat1 -> SC Ganguly, 2nd is bat2 -> BB McCullum, 3rd is bat3 -> RT Poting ...etc like \n",
    "\n",
    "\"['SC Ganguly', 'BB McCullum', 'BB McCullum', 'BB McCullum', 'BB McCullum', 'BB McCullum', 'BB McCullum', 'BB McCullum', 'BB McCullum', 'BB McCullum', 'BB McCullum', 'BB McCullum', 'BB McCullum', 'SC Ganguly', 'SC Ganguly', 'SC Ganguly', 'BB McCullum', 'BB McCullum', 'SC Ganguly', 'BB McCullum', 'BB McCullum', 'BB McCullum', 'SC Ganguly', 'SC Ganguly', 'SC Ganguly', 'BB McCullum', 'SC Ganguly', 'SC Ganguly', 'BB McCullum', 'BB McCullum', 'BB McCullum', 'SC Ganguly', 'BB McCullum', 'SC Ganguly', 'RT Ponting', 'RT Ponting', 'RT Ponting', 'RT Ponting', 'BB McCullum', 'RT Ponting', 'BB McCullum', 'RT Ponting', 'RT Ponting', 'BB McCullum', 'BB McCullum', 'BB McCullum', 'RT Ponting', 'BB McCullum', 'RT Ponting', 'BB McCullum', 'BB McCullum', 'BB McCullum', 'BB McCullum', 'BB McCullum', 'RT Ponting', 'BB McCullum', 'RT Ponting', 'BB McCullum', 'RT Ponting', 'BB McCullum', 'BB McCullum', 'BB McCullum', 'BB McCullum', 'RT Ponting', 'RT Ponting', 'RT Ponting', 'RT Ponting', 'RT Ponting', 'BB McCullum', 'BB McCullum', 'BB McCullum', 'BB McCullum', 'RT Ponting', 'RT Ponting', 'RT Ponting', 'BB McCullum', 'BB McCullum', 'BB McCullum', 'BB McCullum', 'BB McCullum', 'BB McCullum', 'BB McCullum', 'DJ Hussey', 'DJ Hussey', 'BB McCullum', 'DJ Hussey', 'BB McCullum', 'DJ Hussey', 'DJ Hussey', 'BB McCullum', 'BB McCullum', 'BB McCullum', 'DJ Hussey', 'BB McCullum', 'DJ Hussey', 'DJ Hussey', 'BB McCullum', 'BB McCullum', 'BB McCullum', 'DJ Hussey', 'BB McCullum', 'DJ Hussey', 'DJ Hussey', 'BB McCullum', 'BB McCullum', 'BB McCullum', 'DJ Hussey', 'BB McCullum', 'Mohammad Hafeez', 'Mohammad Hafeez', 'BB McCullum', 'BB McCullum', 'BB McCullum', 'BB McCullum', 'BB McCullum', 'BB McCullum', 'BB McCullum', 'Mohammad Hafeez', 'BB McCullum', 'BB McCullum', 'BB McCullum', 'BB McCullum', 'BB McCullum', 'BB McCullum']\"\n",
    "\n",
    "```\n"
   ],
   "cell_type": "markdown",
   "metadata": {}
  },
  {
   "cell_type": "code",
   "execution_count": 31,
   "metadata": {},
   "outputs": [
    {
     "output_type": "stream",
     "name": "stderr",
     "text": [
      "<ipython-input-31-1c0513554501>:10: SettingWithCopyWarning: \nA value is trying to be set on a copy of a slice from a DataFrame\n\nSee the caveats in the documentation: https://pandas.pydata.org/pandas-docs/stable/user_guide/indexing.html#returning-a-view-versus-a-copy\n  df_parsed[col][row] = j\nC:\\Users\\skanukollu\\AppData\\Local\\Programs\\Python\\Python38\\lib\\site-packages\\pandas\\core\\indexing.py:1636: SettingWithCopyWarning: \nA value is trying to be set on a copy of a slice from a DataFrame\n\nSee the caveats in the documentation: https://pandas.pydata.org/pandas-docs/stable/user_guide/indexing.html#returning-a-view-versus-a-copy\n  self._setitem_single_block(indexer, value, name)\n"
     ]
    }
   ],
   "source": [
    "for row,val in enumerate(df_parsed.batsmen):\n",
    "    tmp = val[1:-1].split(', ')\n",
    "    tmp_list = list(map(lambda x : x.strip(\"'\"),tmp))\n",
    "    tmp_list = list(OrderedDict.fromkeys(tmp_list))\n",
    "    for i,j in enumerate(list(map(lambda x : x.strip(\"'\"),tmp_list))):\n",
    "        if i==10:\n",
    "            import pdb;pdb.set_trace()\n",
    "\n",
    "        col = \"bat%i\"%(i+1)\n",
    "        df_parsed[col][row] = j"
   ]
  },
  {
   "cell_type": "code",
   "execution_count": 32,
   "metadata": {},
   "outputs": [
    {
     "output_type": "stream",
     "name": "stderr",
     "text": [
      "<ipython-input-32-3e8e2b55314b>:7: SettingWithCopyWarning: \nA value is trying to be set on a copy of a slice from a DataFrame\n\nSee the caveats in the documentation: https://pandas.pydata.org/pandas-docs/stable/user_guide/indexing.html#returning-a-view-versus-a-copy\n  df_parsed[col][row] = j\n"
     ]
    }
   ],
   "source": [
    "for row, val in enumerate(df_parsed.bowlers):\n",
    "    tmp = val[1:-1].split(', ')\n",
    "    tmp_list = list(map(lambda x: x.strip(\"'\"), tmp))\n",
    "    tmp_list = list(OrderedDict.fromkeys(tmp_list))\n",
    "    for i, j in enumerate(list(map(lambda x: x.strip(\"'\"), tmp_list))):\n",
    "        col = \"bow%i\" % (i+1)\n",
    "        df_parsed[col][row] = j"
   ]
  },
  {
   "cell_type": "code",
   "execution_count": 33,
   "metadata": {},
   "outputs": [],
   "source": [
    "df_parsed.to_csv(Path.joinpath(dataset_path,\n",
    "            '4_update_batsmen_bowler_column_names.csv'),                     index=False)\n",
    "df_parsed = pd.read_csv(Path.joinpath(\n",
    "    dataset_path, '4_update_batsmen_bowler_column_names.csv'))"
   ]
  },
  {
   "cell_type": "code",
   "execution_count": 34,
   "metadata": {},
   "outputs": [
    {
     "output_type": "execute_result",
     "data": {
      "text/plain": [
       "   match_id                                       venue  innings  \\\n",
       "0    335982                       M Chinnaswamy Stadium        1   \n",
       "1    335982                       M Chinnaswamy Stadium        2   \n",
       "2    335983  Punjab Cricket Association Stadium, Mohali        1   \n",
       "\n",
       "                  batting_team                 bowling_team  \\\n",
       "0        Kolkata Knight Riders  Royal Challengers Bangalore   \n",
       "1  Royal Challengers Bangalore        Kolkata Knight Riders   \n",
       "2          Chennai Super Kings              Kings XI Punjab   \n",
       "\n",
       "                                             batsmen  \\\n",
       "0  ['SC Ganguly', 'BB McCullum', 'BB McCullum', '...   \n",
       "1  ['R Dravid', 'W Jaffer', 'W Jaffer', 'W Jaffer...   \n",
       "2  ['PA Patel', 'PA Patel', 'PA Patel', 'ML Hayde...   \n",
       "\n",
       "                                             bowlers  runs_off_bat  extras  \\\n",
       "0  ['P Kumar', 'P Kumar', 'P Kumar', 'P Kumar', '...            51      10   \n",
       "1  ['AB Dinda', 'AB Dinda', 'AB Dinda', 'AB Dinda...            19       7   \n",
       "2  ['B Lee', 'B Lee', 'B Lee', 'B Lee', 'B Lee', ...            50       3   \n",
       "\n",
       "   Total_score  ...  bat7 bat8 bat9 bat10      bow1         bow2        bow3  \\\n",
       "0           61  ...   0.0  0.0  0.0   0.0   P Kumar       Z Khan   AA Noffke   \n",
       "1           26  ...   0.0  0.0  0.0   0.0  AB Dinda     I Sharma  AB Agarkar   \n",
       "2           53  ...   0.0  0.0  0.0   0.0     B Lee  S Sreesanth    JR Hopes   \n",
       "\n",
       "  bow4 bow5  bow6  \n",
       "0  0.0  0.0   0.0  \n",
       "1  0.0  0.0   0.0  \n",
       "2  0.0  0.0   0.0  \n",
       "\n",
       "[3 rows x 27 columns]"
      ],
      "text/html": "<div>\n<style scoped>\n    .dataframe tbody tr th:only-of-type {\n        vertical-align: middle;\n    }\n\n    .dataframe tbody tr th {\n        vertical-align: top;\n    }\n\n    .dataframe thead th {\n        text-align: right;\n    }\n</style>\n<table border=\"1\" class=\"dataframe\">\n  <thead>\n    <tr style=\"text-align: right;\">\n      <th></th>\n      <th>match_id</th>\n      <th>venue</th>\n      <th>innings</th>\n      <th>batting_team</th>\n      <th>bowling_team</th>\n      <th>batsmen</th>\n      <th>bowlers</th>\n      <th>runs_off_bat</th>\n      <th>extras</th>\n      <th>Total_score</th>\n      <th>...</th>\n      <th>bat7</th>\n      <th>bat8</th>\n      <th>bat9</th>\n      <th>bat10</th>\n      <th>bow1</th>\n      <th>bow2</th>\n      <th>bow3</th>\n      <th>bow4</th>\n      <th>bow5</th>\n      <th>bow6</th>\n    </tr>\n  </thead>\n  <tbody>\n    <tr>\n      <th>0</th>\n      <td>335982</td>\n      <td>M Chinnaswamy Stadium</td>\n      <td>1</td>\n      <td>Kolkata Knight Riders</td>\n      <td>Royal Challengers Bangalore</td>\n      <td>['SC Ganguly', 'BB McCullum', 'BB McCullum', '...</td>\n      <td>['P Kumar', 'P Kumar', 'P Kumar', 'P Kumar', '...</td>\n      <td>51</td>\n      <td>10</td>\n      <td>61</td>\n      <td>...</td>\n      <td>0.0</td>\n      <td>0.0</td>\n      <td>0.0</td>\n      <td>0.0</td>\n      <td>P Kumar</td>\n      <td>Z Khan</td>\n      <td>AA Noffke</td>\n      <td>0.0</td>\n      <td>0.0</td>\n      <td>0.0</td>\n    </tr>\n    <tr>\n      <th>1</th>\n      <td>335982</td>\n      <td>M Chinnaswamy Stadium</td>\n      <td>2</td>\n      <td>Royal Challengers Bangalore</td>\n      <td>Kolkata Knight Riders</td>\n      <td>['R Dravid', 'W Jaffer', 'W Jaffer', 'W Jaffer...</td>\n      <td>['AB Dinda', 'AB Dinda', 'AB Dinda', 'AB Dinda...</td>\n      <td>19</td>\n      <td>7</td>\n      <td>26</td>\n      <td>...</td>\n      <td>0.0</td>\n      <td>0.0</td>\n      <td>0.0</td>\n      <td>0.0</td>\n      <td>AB Dinda</td>\n      <td>I Sharma</td>\n      <td>AB Agarkar</td>\n      <td>0.0</td>\n      <td>0.0</td>\n      <td>0.0</td>\n    </tr>\n    <tr>\n      <th>2</th>\n      <td>335983</td>\n      <td>Punjab Cricket Association Stadium, Mohali</td>\n      <td>1</td>\n      <td>Chennai Super Kings</td>\n      <td>Kings XI Punjab</td>\n      <td>['PA Patel', 'PA Patel', 'PA Patel', 'ML Hayde...</td>\n      <td>['B Lee', 'B Lee', 'B Lee', 'B Lee', 'B Lee', ...</td>\n      <td>50</td>\n      <td>3</td>\n      <td>53</td>\n      <td>...</td>\n      <td>0.0</td>\n      <td>0.0</td>\n      <td>0.0</td>\n      <td>0.0</td>\n      <td>B Lee</td>\n      <td>S Sreesanth</td>\n      <td>JR Hopes</td>\n      <td>0.0</td>\n      <td>0.0</td>\n      <td>0.0</td>\n    </tr>\n  </tbody>\n</table>\n<p>3 rows × 27 columns</p>\n</div>"
     },
     "metadata": {},
     "execution_count": 34
    }
   ],
   "source": [
    "df_parsed.head(3)"
   ]
  },
  {
   "source": [
    "So finally our dataframe is ready with batsmen and bowlers details.\n",
    "\n",
    "So we can drop few columns which are not important."
   ],
   "cell_type": "markdown",
   "metadata": {}
  },
  {
   "cell_type": "code",
   "execution_count": 35,
   "metadata": {},
   "outputs": [
    {
     "output_type": "execute_result",
     "data": {
      "text/plain": [
       "Index(['venue', 'innings', 'batting_team', 'bowling_team', 'bat1', 'bat2',\n",
       "       'bat3', 'bat4', 'bat5', 'bat6', 'bat7', 'bat8', 'bat9', 'bat10', 'bow1',\n",
       "       'bow2', 'bow3', 'bow4', 'bow5', 'bow6', 'runs_off_bat', 'extras',\n",
       "       'Total_score', 'player_dismissed'],\n",
       "      dtype='object')"
      ]
     },
     "metadata": {},
     "execution_count": 35
    }
   ],
   "source": [
    "df_model = df_parsed[['venue', 'innings', 'batting_team', 'bowling_team', 'bat1', 'bat2', 'bat3', 'bat4', 'bat5', 'bat6', 'bat7', 'bat8','bat9', 'bat10', 'bow1', 'bow2', 'bow3', 'bow4', 'bow5', 'bow6', 'runs_off_bat', 'extras', 'Total_score', 'player_dismissed']]\n",
    "df_model.columns"
   ]
  },
  {
   "cell_type": "code",
   "execution_count": 36,
   "metadata": {},
   "outputs": [
    {
     "output_type": "display_data",
     "data": {
      "text/plain": "<IPython.core.display.Markdown object>",
      "text/markdown": "venue|innings|batting_team|bowling_team|bat1|bat2|bat3|bat4|bat5|bat6|bat7|bat8|bat9|bat10|bow1|bow2|bow3|bow4|bow5|bow6|runs_off_bat|extras|Total_score|player_dismissed\r\n---|---|---|---|---|---|---|---|---|---|---|---|---|---|---|---|---|---|---|---|---|---|---|---\r\nM Chinnaswamy Stadium|1|Kolkata Knight Riders|Royal Challengers Bangalore|SC Ganguly|BB McCullum|RT Ponting|0.0|0.0|0.0|0.0|0.0|0.0|0.0|P Kumar|Z Khan|AA Noffke|0.0|0.0|0.0|51|10|61|1\r\nM Chinnaswamy Stadium|2|Royal Challengers Bangalore|Kolkata Knight Riders|R Dravid|W Jaffer|V Kohli|JH Kallis|CL White|MV Boucher|0.0|0.0|0.0|0.0|AB Dinda|I Sharma|AB Agarkar|0.0|0.0|0.0|19|7|26|4\r\nPunjab Cricket Association Stadium, Mohali|1|Chennai Super Kings|Kings XI Punjab|PA Patel|ML Hayden|MEK Hussey|0.0|0.0|0.0|0.0|0.0|0.0|0.0|B Lee|S Sreesanth|JR Hopes|0.0|0.0|0.0|50|3|53|1\r\nPunjab Cricket Association Stadium, Mohali|2|Kings XI Punjab|Chennai Super Kings|K Goel|JR Hopes|0.0|0.0|0.0|0.0|0.0|0.0|0.0|0.0|JDP Oram|MS Gony|0.0|0.0|0.0|0.0|61|2|63|1\r\nFeroz Shah Kotla|1|Rajasthan Royals|Delhi Capitals|T Kohli|YK Pathan|SR Watson|M Kaif|0.0|0.0|0.0|0.0|0.0|0.0|GD McGrath|B Geeves|MF Maharoof|0.0|0.0|0.0|38|2|40|2\r\n"
     },
     "metadata": {}
    }
   ],
   "source": [
    "def pandas_df_to_markdown_table(df):\n",
    "    from IPython.display import Markdown, display\n",
    "    fmt = ['---' for i in range(len(df.columns))]\n",
    "    df_fmt = pd.DataFrame([fmt], columns=df.columns)\n",
    "    df_formatted = pd.concat([df_fmt, df])\n",
    "    display(Markdown(df_formatted.to_csv(sep=\"|\", index=False)))\n",
    "\n",
    "pandas_df_to_markdown_table(df_model.head())"
   ]
  },
  {
   "source": [
    "# 4.8: Encode the multiple Dtypes into single Dtype:\n",
    "\n",
    "Now its time to use, the label encoded values (already done in previous steps) to encode the dataframe."
   ],
   "cell_type": "markdown",
   "metadata": {}
  },
  {
   "cell_type": "code",
   "execution_count": 37,
   "metadata": {},
   "outputs": [],
   "source": [
    "json_path = Path.joinpath(dataset_path, 'label_encode.json')\n",
    "with open(json_path) as f:\n",
    "    data = json.load(f)\n",
    "\n",
    "condition = False\n",
    "\n",
    "for col in df_model.columns:\n",
    "    if col in data.keys():\n",
    "        condition = True\n",
    "        col = col\n",
    "    elif col in ['bat1', 'bat2','bat3', 'bat4', 'bat5', 'bat6', 'bat7', 'bat8', 'bat9', 'bat10']:\n",
    "        condition = True\n",
    "        col = 'Players' #'batsmen'\n",
    "    elif col in ['bow1','bow2', 'bow3', 'bow4', 'bow5', 'bow6']:\n",
    "        col = 'Players' #'bowlers'\n",
    "        condition = True\n",
    "\n",
    "    if condition:\n",
    "        condition = False\n",
    "        for key in data[col]:\n",
    "            df_model = df_model.replace([key], data[col][key])\n",
    "\n",
    "df_model.to_csv(Path.joinpath(dataset_path, '5_model_df.csv'), index=False)"
   ]
  },
  {
   "source": [
    "So finally dataset is ready. \n",
    "Next step is prepare model for training "
   ],
   "cell_type": "markdown",
   "metadata": {}
  },
  {
   "cell_type": "code",
   "execution_count": 38,
   "metadata": {},
   "outputs": [
    {
     "output_type": "display_data",
     "data": {
      "text/plain": "<IPython.core.display.Markdown object>",
      "text/markdown": "venue|innings|batting_team|bowling_team|bat1|bat2|bat3|bat4|bat5|bat6|bat7|bat8|bat9|bat10|bow1|bow2|bow3|bow4|bow5|bow6|runs_off_bat|extras|Total_score|player_dismissed\r\n---|---|---|---|---|---|---|---|---|---|---|---|---|---|---|---|---|---|---|---|---|---|---|---\r\n15|1|3|6|419|70|385|0.0|0.0|0.0|0.0|0.0|0.0|0.0|326|512|19|0.0|0.0|0.0|51|10|61|1\r\n15|2|6|3|351|496|483|187|97|297|0.0|0.0|0.0|0.0|22|163|20|0.0|0.0|0.0|19|7|26|4\r\n23|1|0|2|331|286|274|0.0|0.0|0.0|0.0|0.0|0.0|0.0|65|408|201|0.0|0.0|0.0|50|3|53|1\r\n23|2|2|0|207|201|0.0|0.0|0.0|0.0|0.0|0.0|0.0|0.0|184|296|0.0|0.0|0.0|0.0|61|2|63|1\r\n10|1|5|1|468|506|443|255|0.0|0.0|0.0|0.0|0.0|0.0|146|62|275|0.0|0.0|0.0|38|2|40|2\r\n"
     },
     "metadata": {}
    }
   ],
   "source": [
    "pandas_df_to_markdown_table(df_model.head())"
   ]
  },
  {
   "source": [
    "## 5 Normalization:"
   ],
   "cell_type": "markdown",
   "metadata": {}
  },
  {
   "cell_type": "code",
   "execution_count": null,
   "metadata": {},
   "outputs": [],
   "source": []
  }
 ]
}