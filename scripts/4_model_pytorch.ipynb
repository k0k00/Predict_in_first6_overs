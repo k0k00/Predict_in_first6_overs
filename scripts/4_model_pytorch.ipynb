{
 "metadata": {
  "language_info": {
   "codemirror_mode": {
    "name": "ipython",
    "version": 3
   },
   "file_extension": ".py",
   "mimetype": "text/x-python",
   "name": "python",
   "nbconvert_exporter": "python",
   "pygments_lexer": "ipython3",
   "version": ""
  },
  "orig_nbformat": 2,
  "kernelspec": {
   "name": "pythonjvsc74a57bd077dcdf196944021a492e8af9322675174f43bd84fa8cdc1beb5f85b333fd20f6",
   "display_name": "Python"
  },
  "metadata": {
   "interpreter": {
    "hash": "77dcdf196944021a492e8af9322675174f43bd84fa8cdc1beb5f85b333fd20f6"
   }
  }
 },
 "nbformat": 4,
 "nbformat_minor": 2,
 "cells": [
  {
   "cell_type": "code",
   "execution_count": 1,
   "metadata": {},
   "outputs": [],
   "source": [
    "import pandas as pd\n",
    "import numpy as np\n",
    "import torch\n",
    "\n",
    "from sklearn.preprocessing import MinMaxScaler\n",
    "\n",
    "import torch.nn as nn\n",
    "from torch.utils.data import TensorDataset\n",
    "from torch.utils.data import DataLoader\n",
    "\n",
    "# Import nn.functional\n",
    "import torch.nn.functional as F\n"
   ]
  },
  {
   "cell_type": "code",
   "execution_count": 2,
   "metadata": {},
   "outputs": [
    {
     "output_type": "stream",
     "name": "stdout",
     "text": [
      "(1401, 24)\n"
     ]
    },
    {
     "output_type": "execute_result",
     "data": {
      "text/plain": [
       "   venue  innings  batting_team  bowling_team  bat1  bat2   bat3   bat4  bat5  \\\n",
       "0     14        1             2             5   410    73  378.0    0.0   0.0   \n",
       "1     14        2             5             2   344   493  481.0  190.0  99.0   \n",
       "2     21        1             0             3   324   278  268.0    0.0   0.0   \n",
       "3     21        2             3             0   206   202    0.0    0.0   0.0   \n",
       "4      9        1             6             1   463   505  435.0  248.0   0.0   \n",
       "\n",
       "    bat6  ...  bow1  bow2   bow3  bow4  bow5  bow6  runs_off_bat  extras  \\\n",
       "0    0.0  ...   318   511   18.0   0.0   0.0   0.0            51      10   \n",
       "1  290.0  ...    21   168   19.0   0.0   0.0   0.0            19       7   \n",
       "2    0.0  ...    67   399  202.0   0.0   0.0   0.0            50       3   \n",
       "3    0.0  ...   187   288    0.0   0.0   0.0   0.0            61       2   \n",
       "4    0.0  ...   151    54  269.0   0.0   0.0   0.0            38       2   \n",
       "\n",
       "   Total_score  player_dismissed  \n",
       "0           61                 1  \n",
       "1           26                 4  \n",
       "2           53                 1  \n",
       "3           63                 1  \n",
       "4           40                 2  \n",
       "\n",
       "[5 rows x 24 columns]"
      ],
      "text/html": "<div>\n<style scoped>\n    .dataframe tbody tr th:only-of-type {\n        vertical-align: middle;\n    }\n\n    .dataframe tbody tr th {\n        vertical-align: top;\n    }\n\n    .dataframe thead th {\n        text-align: right;\n    }\n</style>\n<table border=\"1\" class=\"dataframe\">\n  <thead>\n    <tr style=\"text-align: right;\">\n      <th></th>\n      <th>venue</th>\n      <th>innings</th>\n      <th>batting_team</th>\n      <th>bowling_team</th>\n      <th>bat1</th>\n      <th>bat2</th>\n      <th>bat3</th>\n      <th>bat4</th>\n      <th>bat5</th>\n      <th>bat6</th>\n      <th>...</th>\n      <th>bow1</th>\n      <th>bow2</th>\n      <th>bow3</th>\n      <th>bow4</th>\n      <th>bow5</th>\n      <th>bow6</th>\n      <th>runs_off_bat</th>\n      <th>extras</th>\n      <th>Total_score</th>\n      <th>player_dismissed</th>\n    </tr>\n  </thead>\n  <tbody>\n    <tr>\n      <th>0</th>\n      <td>14</td>\n      <td>1</td>\n      <td>2</td>\n      <td>5</td>\n      <td>410</td>\n      <td>73</td>\n      <td>378.0</td>\n      <td>0.0</td>\n      <td>0.0</td>\n      <td>0.0</td>\n      <td>...</td>\n      <td>318</td>\n      <td>511</td>\n      <td>18.0</td>\n      <td>0.0</td>\n      <td>0.0</td>\n      <td>0.0</td>\n      <td>51</td>\n      <td>10</td>\n      <td>61</td>\n      <td>1</td>\n    </tr>\n    <tr>\n      <th>1</th>\n      <td>14</td>\n      <td>2</td>\n      <td>5</td>\n      <td>2</td>\n      <td>344</td>\n      <td>493</td>\n      <td>481.0</td>\n      <td>190.0</td>\n      <td>99.0</td>\n      <td>290.0</td>\n      <td>...</td>\n      <td>21</td>\n      <td>168</td>\n      <td>19.0</td>\n      <td>0.0</td>\n      <td>0.0</td>\n      <td>0.0</td>\n      <td>19</td>\n      <td>7</td>\n      <td>26</td>\n      <td>4</td>\n    </tr>\n    <tr>\n      <th>2</th>\n      <td>21</td>\n      <td>1</td>\n      <td>0</td>\n      <td>3</td>\n      <td>324</td>\n      <td>278</td>\n      <td>268.0</td>\n      <td>0.0</td>\n      <td>0.0</td>\n      <td>0.0</td>\n      <td>...</td>\n      <td>67</td>\n      <td>399</td>\n      <td>202.0</td>\n      <td>0.0</td>\n      <td>0.0</td>\n      <td>0.0</td>\n      <td>50</td>\n      <td>3</td>\n      <td>53</td>\n      <td>1</td>\n    </tr>\n    <tr>\n      <th>3</th>\n      <td>21</td>\n      <td>2</td>\n      <td>3</td>\n      <td>0</td>\n      <td>206</td>\n      <td>202</td>\n      <td>0.0</td>\n      <td>0.0</td>\n      <td>0.0</td>\n      <td>0.0</td>\n      <td>...</td>\n      <td>187</td>\n      <td>288</td>\n      <td>0.0</td>\n      <td>0.0</td>\n      <td>0.0</td>\n      <td>0.0</td>\n      <td>61</td>\n      <td>2</td>\n      <td>63</td>\n      <td>1</td>\n    </tr>\n    <tr>\n      <th>4</th>\n      <td>9</td>\n      <td>1</td>\n      <td>6</td>\n      <td>1</td>\n      <td>463</td>\n      <td>505</td>\n      <td>435.0</td>\n      <td>248.0</td>\n      <td>0.0</td>\n      <td>0.0</td>\n      <td>...</td>\n      <td>151</td>\n      <td>54</td>\n      <td>269.0</td>\n      <td>0.0</td>\n      <td>0.0</td>\n      <td>0.0</td>\n      <td>38</td>\n      <td>2</td>\n      <td>40</td>\n      <td>2</td>\n    </tr>\n  </tbody>\n</table>\n<p>5 rows × 24 columns</p>\n</div>"
     },
     "metadata": {},
     "execution_count": 2
    }
   ],
   "source": [
    "df = pd.read_csv('3_dataset.csv')\n",
    "print(df.shape)\n",
    "df.head()"
   ]
  },
  {
   "cell_type": "code",
   "execution_count": 9,
   "metadata": {},
   "outputs": [
    {
     "output_type": "stream",
     "name": "stdout",
     "text": [
      "(1401, 20) (1401, 1)\n"
     ]
    },
    {
     "output_type": "execute_result",
     "data": {
      "text/plain": [
       "   venue  innings  batting_team  bowling_team  bat1  bat2   bat3   bat4  bat5  \\\n",
       "0     14        1             2             5   410    73  378.0    0.0   0.0   \n",
       "1     14        2             5             2   344   493  481.0  190.0  99.0   \n",
       "2     21        1             0             3   324   278  268.0    0.0   0.0   \n",
       "3     21        2             3             0   206   202    0.0    0.0   0.0   \n",
       "4      9        1             6             1   463   505  435.0  248.0   0.0   \n",
       "\n",
       "    bat6  bat7  bat8  bat9  bat10  bow1  bow2   bow3  bow4  bow5  bow6  \n",
       "0    0.0   0.0   0.0   0.0    0.0   318   511   18.0   0.0   0.0   0.0  \n",
       "1  290.0   0.0   0.0   0.0    0.0    21   168   19.0   0.0   0.0   0.0  \n",
       "2    0.0   0.0   0.0   0.0    0.0    67   399  202.0   0.0   0.0   0.0  \n",
       "3    0.0   0.0   0.0   0.0    0.0   187   288    0.0   0.0   0.0   0.0  \n",
       "4    0.0   0.0   0.0   0.0    0.0   151    54  269.0   0.0   0.0   0.0  "
      ],
      "text/html": "<div>\n<style scoped>\n    .dataframe tbody tr th:only-of-type {\n        vertical-align: middle;\n    }\n\n    .dataframe tbody tr th {\n        vertical-align: top;\n    }\n\n    .dataframe thead th {\n        text-align: right;\n    }\n</style>\n<table border=\"1\" class=\"dataframe\">\n  <thead>\n    <tr style=\"text-align: right;\">\n      <th></th>\n      <th>venue</th>\n      <th>innings</th>\n      <th>batting_team</th>\n      <th>bowling_team</th>\n      <th>bat1</th>\n      <th>bat2</th>\n      <th>bat3</th>\n      <th>bat4</th>\n      <th>bat5</th>\n      <th>bat6</th>\n      <th>bat7</th>\n      <th>bat8</th>\n      <th>bat9</th>\n      <th>bat10</th>\n      <th>bow1</th>\n      <th>bow2</th>\n      <th>bow3</th>\n      <th>bow4</th>\n      <th>bow5</th>\n      <th>bow6</th>\n    </tr>\n  </thead>\n  <tbody>\n    <tr>\n      <th>0</th>\n      <td>14</td>\n      <td>1</td>\n      <td>2</td>\n      <td>5</td>\n      <td>410</td>\n      <td>73</td>\n      <td>378.0</td>\n      <td>0.0</td>\n      <td>0.0</td>\n      <td>0.0</td>\n      <td>0.0</td>\n      <td>0.0</td>\n      <td>0.0</td>\n      <td>0.0</td>\n      <td>318</td>\n      <td>511</td>\n      <td>18.0</td>\n      <td>0.0</td>\n      <td>0.0</td>\n      <td>0.0</td>\n    </tr>\n    <tr>\n      <th>1</th>\n      <td>14</td>\n      <td>2</td>\n      <td>5</td>\n      <td>2</td>\n      <td>344</td>\n      <td>493</td>\n      <td>481.0</td>\n      <td>190.0</td>\n      <td>99.0</td>\n      <td>290.0</td>\n      <td>0.0</td>\n      <td>0.0</td>\n      <td>0.0</td>\n      <td>0.0</td>\n      <td>21</td>\n      <td>168</td>\n      <td>19.0</td>\n      <td>0.0</td>\n      <td>0.0</td>\n      <td>0.0</td>\n    </tr>\n    <tr>\n      <th>2</th>\n      <td>21</td>\n      <td>1</td>\n      <td>0</td>\n      <td>3</td>\n      <td>324</td>\n      <td>278</td>\n      <td>268.0</td>\n      <td>0.0</td>\n      <td>0.0</td>\n      <td>0.0</td>\n      <td>0.0</td>\n      <td>0.0</td>\n      <td>0.0</td>\n      <td>0.0</td>\n      <td>67</td>\n      <td>399</td>\n      <td>202.0</td>\n      <td>0.0</td>\n      <td>0.0</td>\n      <td>0.0</td>\n    </tr>\n    <tr>\n      <th>3</th>\n      <td>21</td>\n      <td>2</td>\n      <td>3</td>\n      <td>0</td>\n      <td>206</td>\n      <td>202</td>\n      <td>0.0</td>\n      <td>0.0</td>\n      <td>0.0</td>\n      <td>0.0</td>\n      <td>0.0</td>\n      <td>0.0</td>\n      <td>0.0</td>\n      <td>0.0</td>\n      <td>187</td>\n      <td>288</td>\n      <td>0.0</td>\n      <td>0.0</td>\n      <td>0.0</td>\n      <td>0.0</td>\n    </tr>\n    <tr>\n      <th>4</th>\n      <td>9</td>\n      <td>1</td>\n      <td>6</td>\n      <td>1</td>\n      <td>463</td>\n      <td>505</td>\n      <td>435.0</td>\n      <td>248.0</td>\n      <td>0.0</td>\n      <td>0.0</td>\n      <td>0.0</td>\n      <td>0.0</td>\n      <td>0.0</td>\n      <td>0.0</td>\n      <td>151</td>\n      <td>54</td>\n      <td>269.0</td>\n      <td>0.0</td>\n      <td>0.0</td>\n      <td>0.0</td>\n    </tr>\n  </tbody>\n</table>\n</div>"
     },
     "metadata": {},
     "execution_count": 9
    }
   ],
   "source": [
    "inputs_df = df[['venue','innings','batting_team', 'bowling_team', 'bat1', 'bat2','bat3', 'bat4', 'bat5', 'bat6', 'bat7', 'bat8', 'bat9', 'bat10', 'bow1','bow2', 'bow3', 'bow4', 'bow5', 'bow6']]#.to_numpy() #dtype=float)\n",
    "\n",
    "targets_df = df[['Total_score']]#.to_numpy()#dtype=float)\n",
    "\n",
    "print(inputs_df.shape,targets_df.shape)\n",
    "inputs_df.head()\n",
    "\n"
   ]
  },
  {
   "cell_type": "code",
   "execution_count": 10,
   "metadata": {},
   "outputs": [
    {
     "output_type": "execute_result",
     "data": {
      "text/plain": [
       "   Total_score\n",
       "0           61\n",
       "1           26\n",
       "2           53\n",
       "3           63\n",
       "4           40"
      ],
      "text/html": "<div>\n<style scoped>\n    .dataframe tbody tr th:only-of-type {\n        vertical-align: middle;\n    }\n\n    .dataframe tbody tr th {\n        vertical-align: top;\n    }\n\n    .dataframe thead th {\n        text-align: right;\n    }\n</style>\n<table border=\"1\" class=\"dataframe\">\n  <thead>\n    <tr style=\"text-align: right;\">\n      <th></th>\n      <th>Total_score</th>\n    </tr>\n  </thead>\n  <tbody>\n    <tr>\n      <th>0</th>\n      <td>61</td>\n    </tr>\n    <tr>\n      <th>1</th>\n      <td>26</td>\n    </tr>\n    <tr>\n      <th>2</th>\n      <td>53</td>\n    </tr>\n    <tr>\n      <th>3</th>\n      <td>63</td>\n    </tr>\n    <tr>\n      <th>4</th>\n      <td>40</td>\n    </tr>\n  </tbody>\n</table>\n</div>"
     },
     "metadata": {},
     "execution_count": 10
    }
   ],
   "source": [
    "targets_df.head()"
   ]
  },
  {
   "source": [
    "# Normalize data:"
   ],
   "cell_type": "markdown",
   "metadata": {}
  },
  {
   "cell_type": "code",
   "execution_count": 11,
   "metadata": {},
   "outputs": [
    {
     "output_type": "execute_result",
     "data": {
      "text/plain": [
       "     venue  innings  batting_team  bowling_team      bat1      bat2      bat3  \\\n",
       "0  0.43750      0.0      0.285714      0.714286  0.803150  0.140594  0.739726   \n",
       "1  0.43750      1.0      0.714286      0.285714  0.673228  0.972277  0.941292   \n",
       "2  0.65625      0.0      0.000000      0.428571  0.633858  0.546535  0.524462   \n",
       "3  0.65625      1.0      0.428571      0.000000  0.401575  0.396040  0.000000   \n",
       "4  0.28125      0.0      0.857143      0.142857  0.907480  0.996040  0.851272   \n",
       "\n",
       "       bat4      bat5      bat6  bat7  bat8  bat9  bat10      bow1      bow2  \\\n",
       "0  0.000000  0.000000  0.000000   0.0   0.0   0.0    0.0  0.621569  1.000000   \n",
       "1  0.372549  0.194118  0.574257   0.0   0.0   0.0    0.0  0.039216  0.324803   \n",
       "2  0.000000  0.000000  0.000000   0.0   0.0   0.0    0.0  0.129412  0.779528   \n",
       "3  0.000000  0.000000  0.000000   0.0   0.0   0.0    0.0  0.364706  0.561024   \n",
       "4  0.486275  0.000000  0.000000   0.0   0.0   0.0    0.0  0.294118  0.100394   \n",
       "\n",
       "       bow3  bow4  bow5  bow6  \n",
       "0  0.035225   0.0   0.0   0.0  \n",
       "1  0.037182   0.0   0.0   0.0  \n",
       "2  0.395303   0.0   0.0   0.0  \n",
       "3  0.000000   0.0   0.0   0.0  \n",
       "4  0.526419   0.0   0.0   0.0  "
      ],
      "text/html": "<div>\n<style scoped>\n    .dataframe tbody tr th:only-of-type {\n        vertical-align: middle;\n    }\n\n    .dataframe tbody tr th {\n        vertical-align: top;\n    }\n\n    .dataframe thead th {\n        text-align: right;\n    }\n</style>\n<table border=\"1\" class=\"dataframe\">\n  <thead>\n    <tr style=\"text-align: right;\">\n      <th></th>\n      <th>venue</th>\n      <th>innings</th>\n      <th>batting_team</th>\n      <th>bowling_team</th>\n      <th>bat1</th>\n      <th>bat2</th>\n      <th>bat3</th>\n      <th>bat4</th>\n      <th>bat5</th>\n      <th>bat6</th>\n      <th>bat7</th>\n      <th>bat8</th>\n      <th>bat9</th>\n      <th>bat10</th>\n      <th>bow1</th>\n      <th>bow2</th>\n      <th>bow3</th>\n      <th>bow4</th>\n      <th>bow5</th>\n      <th>bow6</th>\n    </tr>\n  </thead>\n  <tbody>\n    <tr>\n      <th>0</th>\n      <td>0.43750</td>\n      <td>0.0</td>\n      <td>0.285714</td>\n      <td>0.714286</td>\n      <td>0.803150</td>\n      <td>0.140594</td>\n      <td>0.739726</td>\n      <td>0.000000</td>\n      <td>0.000000</td>\n      <td>0.000000</td>\n      <td>0.0</td>\n      <td>0.0</td>\n      <td>0.0</td>\n      <td>0.0</td>\n      <td>0.621569</td>\n      <td>1.000000</td>\n      <td>0.035225</td>\n      <td>0.0</td>\n      <td>0.0</td>\n      <td>0.0</td>\n    </tr>\n    <tr>\n      <th>1</th>\n      <td>0.43750</td>\n      <td>1.0</td>\n      <td>0.714286</td>\n      <td>0.285714</td>\n      <td>0.673228</td>\n      <td>0.972277</td>\n      <td>0.941292</td>\n      <td>0.372549</td>\n      <td>0.194118</td>\n      <td>0.574257</td>\n      <td>0.0</td>\n      <td>0.0</td>\n      <td>0.0</td>\n      <td>0.0</td>\n      <td>0.039216</td>\n      <td>0.324803</td>\n      <td>0.037182</td>\n      <td>0.0</td>\n      <td>0.0</td>\n      <td>0.0</td>\n    </tr>\n    <tr>\n      <th>2</th>\n      <td>0.65625</td>\n      <td>0.0</td>\n      <td>0.000000</td>\n      <td>0.428571</td>\n      <td>0.633858</td>\n      <td>0.546535</td>\n      <td>0.524462</td>\n      <td>0.000000</td>\n      <td>0.000000</td>\n      <td>0.000000</td>\n      <td>0.0</td>\n      <td>0.0</td>\n      <td>0.0</td>\n      <td>0.0</td>\n      <td>0.129412</td>\n      <td>0.779528</td>\n      <td>0.395303</td>\n      <td>0.0</td>\n      <td>0.0</td>\n      <td>0.0</td>\n    </tr>\n    <tr>\n      <th>3</th>\n      <td>0.65625</td>\n      <td>1.0</td>\n      <td>0.428571</td>\n      <td>0.000000</td>\n      <td>0.401575</td>\n      <td>0.396040</td>\n      <td>0.000000</td>\n      <td>0.000000</td>\n      <td>0.000000</td>\n      <td>0.000000</td>\n      <td>0.0</td>\n      <td>0.0</td>\n      <td>0.0</td>\n      <td>0.0</td>\n      <td>0.364706</td>\n      <td>0.561024</td>\n      <td>0.000000</td>\n      <td>0.0</td>\n      <td>0.0</td>\n      <td>0.0</td>\n    </tr>\n    <tr>\n      <th>4</th>\n      <td>0.28125</td>\n      <td>0.0</td>\n      <td>0.857143</td>\n      <td>0.142857</td>\n      <td>0.907480</td>\n      <td>0.996040</td>\n      <td>0.851272</td>\n      <td>0.486275</td>\n      <td>0.000000</td>\n      <td>0.000000</td>\n      <td>0.0</td>\n      <td>0.0</td>\n      <td>0.0</td>\n      <td>0.0</td>\n      <td>0.294118</td>\n      <td>0.100394</td>\n      <td>0.526419</td>\n      <td>0.0</td>\n      <td>0.0</td>\n      <td>0.0</td>\n    </tr>\n  </tbody>\n</table>\n</div>"
     },
     "metadata": {},
     "execution_count": 11
    }
   ],
   "source": [
    "\n",
    "mms_input_obj = MinMaxScaler()\n",
    "df_input_norm = pd.DataFrame(mms_input_obj.fit_transform(inputs_df),columns=inputs_df.columns)\n",
    "df_input_norm.head()"
   ]
  },
  {
   "cell_type": "code",
   "execution_count": 12,
   "metadata": {},
   "outputs": [
    {
     "output_type": "execute_result",
     "data": {
      "text/plain": [
       "   Total_score\n",
       "0     0.572816\n",
       "1     0.233010\n",
       "2     0.495146\n",
       "3     0.592233\n",
       "4     0.368932"
      ],
      "text/html": "<div>\n<style scoped>\n    .dataframe tbody tr th:only-of-type {\n        vertical-align: middle;\n    }\n\n    .dataframe tbody tr th {\n        vertical-align: top;\n    }\n\n    .dataframe thead th {\n        text-align: right;\n    }\n</style>\n<table border=\"1\" class=\"dataframe\">\n  <thead>\n    <tr style=\"text-align: right;\">\n      <th></th>\n      <th>Total_score</th>\n    </tr>\n  </thead>\n  <tbody>\n    <tr>\n      <th>0</th>\n      <td>0.572816</td>\n    </tr>\n    <tr>\n      <th>1</th>\n      <td>0.233010</td>\n    </tr>\n    <tr>\n      <th>2</th>\n      <td>0.495146</td>\n    </tr>\n    <tr>\n      <th>3</th>\n      <td>0.592233</td>\n    </tr>\n    <tr>\n      <th>4</th>\n      <td>0.368932</td>\n    </tr>\n  </tbody>\n</table>\n</div>"
     },
     "metadata": {},
     "execution_count": 12
    }
   ],
   "source": [
    "mms_output_obj = MinMaxScaler()\n",
    "df_output_norm = pd.DataFrame(mms_output_obj.fit_transform(targets_df),columns=targets_df.columns)\n",
    "df_output_norm.head()"
   ]
  },
  {
   "cell_type": "code",
   "execution_count": 18,
   "metadata": {},
   "outputs": [],
   "source": [
    "inputs_np = df_input_norm.to_numpy()\n",
    "targets_np = df_output_norm.to_numpy()"
   ]
  },
  {
   "cell_type": "code",
   "execution_count": 19,
   "metadata": {},
   "outputs": [
    {
     "output_type": "stream",
     "name": "stdout",
     "text": [
      "tensor([[0.4375, 0.0000, 0.2857,  ..., 0.0000, 0.0000, 0.0000],\n        [0.4375, 1.0000, 0.7143,  ..., 0.0000, 0.0000, 0.0000],\n        [0.6562, 0.0000, 0.0000,  ..., 0.0000, 0.0000, 0.0000],\n        ...,\n        [0.8438, 1.0000, 1.0000,  ..., 0.5558, 0.0000, 0.0000],\n        [0.2188, 0.0000, 0.1429,  ..., 0.6047, 0.0000, 0.0000],\n        [0.2188, 1.0000, 0.5714,  ..., 0.5558, 0.0909, 0.0000]])\ntensor([[0.5728],\n        [0.2330],\n        [0.4951],\n        ...,\n        [0.4563],\n        [0.3786],\n        [0.5728]])\n"
     ]
    }
   ],
   "source": [
    "inputs = torch.from_numpy(inputs_np).float()\n",
    "targets = torch.from_numpy(targets_np).float()\n",
    "targets = targets.view(1401,1)\n",
    "print(inputs)\n",
    "print(targets)"
   ]
  },
  {
   "cell_type": "code",
   "execution_count": 20,
   "metadata": {},
   "outputs": [
    {
     "output_type": "stream",
     "name": "stdout",
     "text": [
      "torch.Size([1401, 20])\ntorch.Size([1401, 1])\n"
     ]
    }
   ],
   "source": [
    "print(inputs.shape)\n",
    "print(targets.shape)"
   ]
  },
  {
   "cell_type": "code",
   "execution_count": 21,
   "metadata": {},
   "outputs": [
    {
     "output_type": "execute_result",
     "data": {
      "text/plain": [
       "1401"
      ]
     },
     "metadata": {},
     "execution_count": 21
    }
   ],
   "source": [
    "# Define dataset\n",
    "train_ds = TensorDataset(inputs, targets)\n",
    "len(train_ds)"
   ]
  },
  {
   "cell_type": "code",
   "execution_count": 22,
   "metadata": {},
   "outputs": [],
   "source": [
    "# Define data loader\n",
    "batch_size = 5\n",
    "train_dl = DataLoader(train_ds, batch_size, shuffle=True)\n"
   ]
  },
  {
   "cell_type": "code",
   "execution_count": 23,
   "metadata": {},
   "outputs": [
    {
     "output_type": "stream",
     "name": "stdout",
     "text": [
      "torch.Size([5, 20]) torch.Size([5, 1])\ntensor([[0.7500, 1.0000, 0.0000, 0.8571, 0.5236, 0.5050, 0.8160, 0.0000, 0.0000,\n         0.0000, 0.0000, 0.0000, 0.0000, 0.0000, 0.8510, 0.6575, 0.8689, 0.0000,\n         0.0000, 0.0000],\n        [0.4375, 0.0000, 0.5714, 0.7143, 0.6752, 0.8554, 0.0000, 0.0000, 0.0000,\n         0.0000, 0.0000, 0.0000, 0.0000, 0.0000, 0.2725, 0.6890, 0.6595, 0.3718,\n         0.0000, 0.0000],\n        [1.0000, 0.0000, 0.2857, 0.5714, 0.2854, 0.3723, 0.8415, 0.5431, 0.9902,\n         0.7267, 0.0000, 0.0000, 0.0000, 0.0000, 0.2647, 0.5453, 0.3209, 0.8219,\n         0.0000, 0.0000],\n        [0.6562, 1.0000, 0.4286, 0.0000, 0.6378, 0.0455, 0.0000, 0.0000, 0.0000,\n         0.0000, 0.0000, 0.0000, 0.0000, 0.0000, 0.6647, 0.9154, 0.3562, 0.0000,\n         0.0000, 0.0000],\n        [0.2812, 0.0000, 0.1429, 0.2857, 0.2146, 0.9525, 0.2564, 0.4804, 0.0000,\n         0.0000, 0.0000, 0.0000, 0.0000, 0.0000, 0.1294, 0.6417, 0.3718, 0.8454,\n         0.0000, 0.0000]])\ntensor([[0.3301],\n        [0.3107],\n        [0.2233],\n        [0.6117],\n        [0.4660]])\n"
     ]
    }
   ],
   "source": [
    "for i,j in train_dl:\n",
    "    print(i.shape,j.shape)\n",
    "    print(i)\n",
    "    print(j)\n",
    "    break"
   ]
  },
  {
   "cell_type": "code",
   "execution_count": 24,
   "metadata": {},
   "outputs": [
    {
     "output_type": "stream",
     "name": "stdout",
     "text": [
      "tensor([[0.2812, 1.0000, 0.2857, 0.1429, 0.7421, 0.2871, 0.5401, 0.7941, 0.0000,\n         0.0000, 0.0000, 0.0000, 0.0000, 0.0000, 0.2373, 0.6024, 0.0568, 0.0000,\n         0.0000, 0.0000],\n        [0.2812, 1.0000, 0.8571, 1.0000, 0.6732, 0.0752, 0.8513, 0.0000, 0.0000,\n         0.0000, 0.0000, 0.0000, 0.0000, 0.0000, 0.2725, 0.3248, 0.6027, 0.0000,\n         0.0000, 0.0000],\n        [0.6875, 0.0000, 0.5714, 1.0000, 0.2618, 0.8554, 0.4188, 0.7078, 0.0000,\n         0.0000, 0.0000, 0.0000, 0.0000, 0.0000, 0.4451, 0.2697, 0.3288, 0.6027,\n         0.0000, 0.0000],\n        [0.3750, 0.0000, 0.0000, 0.2857, 0.2618, 0.1406, 0.8160, 0.0000, 0.0000,\n         0.0000, 0.0000, 0.0000, 0.0000, 0.0000, 0.8804, 0.8445, 0.6497, 0.0000,\n         0.0000, 0.0000],\n        [1.0000, 0.0000, 0.5714, 0.1429, 0.6339, 0.3604, 0.5949, 0.7078, 0.0000,\n         0.0000, 0.0000, 0.0000, 0.0000, 0.0000, 0.4059, 0.1772, 1.0000, 0.0000,\n         0.0000, 0.0000]])\ntensor([[0.4466],\n        [0.4078],\n        [0.3786],\n        [0.3981],\n        [0.4466]])\n"
     ]
    }
   ],
   "source": [
    "for xb, yb in train_dl:\n",
    "    print(xb)\n",
    "    print(yb)\n",
    "    break"
   ]
  },
  {
   "cell_type": "code",
   "execution_count": 25,
   "metadata": {},
   "outputs": [
    {
     "output_type": "stream",
     "name": "stdout",
     "text": [
      "torch.Size([1, 20])\ntorch.Size([1])\n"
     ]
    }
   ],
   "source": [
    "#torch.autograd.detect_anomaly(True)\n",
    "\n",
    "# Define model\n",
    "model = nn.Linear(20,1)\n",
    "print(model.weight.shape)\n",
    "print(model.bias.shape)"
   ]
  },
  {
   "cell_type": "code",
   "execution_count": 26,
   "metadata": {},
   "outputs": [
    {
     "output_type": "execute_result",
     "data": {
      "text/plain": [
       "[Parameter containing:\n",
       " tensor([[-0.2012, -0.1648,  0.0150,  0.0070, -0.0349, -0.2039,  0.0166,  0.0358,\n",
       "           0.0949, -0.0835,  0.0623, -0.0488,  0.1865, -0.1277, -0.0991, -0.1090,\n",
       "           0.0785,  0.1058,  0.0039,  0.2139]], requires_grad=True),\n",
       " Parameter containing:\n",
       " tensor([0.1230], requires_grad=True)]"
      ]
     },
     "metadata": {},
     "execution_count": 26
    }
   ],
   "source": [
    "# Parameters\n",
    "list(model.parameters())"
   ]
  },
  {
   "cell_type": "code",
   "execution_count": 27,
   "metadata": {},
   "outputs": [
    {
     "output_type": "execute_result",
     "data": {
      "text/plain": [
       "tensor([[-0.1681],\n",
       "        [-0.3760],\n",
       "        [-0.1977],\n",
       "        ...,\n",
       "        [-0.2499],\n",
       "        [ 0.1233],\n",
       "        [-0.2730]], grad_fn=<AddmmBackward>)"
      ]
     },
     "metadata": {},
     "execution_count": 27
    }
   ],
   "source": [
    "# Generate predictions\n",
    "preds = model(inputs)\n",
    "preds"
   ]
  },
  {
   "source": [
    "# Loss Function\n"
   ],
   "cell_type": "markdown",
   "metadata": {}
  },
  {
   "cell_type": "code",
   "execution_count": 28,
   "metadata": {},
   "outputs": [
    {
     "output_type": "stream",
     "name": "stdout",
     "text": [
      "tensor(0.4204, grad_fn=<MseLossBackward>)\n"
     ]
    }
   ],
   "source": [
    "# Define loss function\n",
    "loss_fn = nn.MSELoss()\n",
    "\n",
    "loss = loss_fn(model(inputs), targets)\n",
    "print(loss)"
   ]
  },
  {
   "source": [
    "# Optimizer"
   ],
   "cell_type": "markdown",
   "metadata": {}
  },
  {
   "cell_type": "code",
   "execution_count": 29,
   "metadata": {},
   "outputs": [],
   "source": [
    "# Define optimizer\n",
    "opt = torch.optim.SGD(model.parameters(), lr=1e-1)"
   ]
  },
  {
   "source": [
    "# Train the model\n",
    "\n",
    "We are now ready to train the model. We'll follow the same process to implement gradient descent:\n",
    "\n",
    "1. Generate predictions\n",
    "2. Calculate the loss\n",
    "3. Compute gradients w.r.t the weights and biases\n",
    "4. Adjust the weights by subtracting a small quantity proportional to the gradient\n",
    "5. Reset the gradients to zero\n",
    "\n",
    "The only change is that we'll work batches of data instead of processing the entire training data in every iteration. Let's define a utility function fit that trains the model for a given number of epochs."
   ],
   "cell_type": "markdown",
   "metadata": {}
  },
  {
   "cell_type": "code",
   "execution_count": 30,
   "metadata": {},
   "outputs": [],
   "source": [
    "# Utility function to train the model\n",
    "def fit(num_epochs, model, loss_fn, opt, train_dl):\n",
    "    # Repeat for given number of epochs\n",
    "    for epoch in range(num_epochs):\n",
    "        # Train with batches of data\n",
    "        for xb,yb in train_dl:\n",
    "            # 1. Generate predictions\n",
    "            pred = model(xb)\n",
    "            #print(pred)\n",
    "            #import pdb;pdb.set_trace()\n",
    "            #print(pred);import pdb;pdb.set_trace()\n",
    "            # 2. Calculate loss\n",
    "            loss = loss_fn(pred, yb)\n",
    "            # 3. Compute gradients\n",
    "            loss.backward()\n",
    "            # 4. Update parameters using gradients\n",
    "            opt.step()\n",
    "            # 5. Reset the gradients to zero\n",
    "            opt.zero_grad()\n",
    "        # Print the progress\n",
    "        if (epoch+1) % 10 == 0:\n",
    "            print('Epoch [{}/{}], Loss: {}'.format(epoch+1, num_epochs, loss.item()))"
   ]
  },
  {
   "cell_type": "code",
   "execution_count": 31,
   "metadata": {},
   "outputs": [
    {
     "output_type": "stream",
     "name": "stdout",
     "text": [
      "Epoch [10/100], Loss: 0.0032354933209717274\n",
      "Epoch [20/100], Loss: 0.0006307504372671247\n",
      "Epoch [30/100], Loss: 0.001007897430099547\n",
      "Epoch [40/100], Loss: 0.010409107431769371\n",
      "Epoch [50/100], Loss: 0.005613001529127359\n",
      "Epoch [60/100], Loss: 0.13057604432106018\n",
      "Epoch [70/100], Loss: 0.001513162744231522\n",
      "Epoch [80/100], Loss: 0.01755564846098423\n",
      "Epoch [90/100], Loss: 0.013629505410790443\n",
      "Epoch [100/100], Loss: 0.021487638354301453\n"
     ]
    }
   ],
   "source": [
    "fit(100, model, loss_fn, opt, train_dl)"
   ]
  },
  {
   "cell_type": "code",
   "execution_count": 32,
   "metadata": {},
   "outputs": [
    {
     "output_type": "execute_result",
     "data": {
      "text/plain": [
       "tensor([[0.3759],\n",
       "        [0.2808],\n",
       "        [0.4122],\n",
       "        ...,\n",
       "        [0.3344],\n",
       "        [0.2807],\n",
       "        [0.4078]], grad_fn=<AddmmBackward>)"
      ]
     },
     "metadata": {},
     "execution_count": 32
    }
   ],
   "source": [
    "# Generate predictions\n",
    "preds = model(inputs)\n",
    "preds"
   ]
  },
  {
   "cell_type": "code",
   "execution_count": 50,
   "metadata": {},
   "outputs": [
    {
     "output_type": "execute_result",
     "data": {
      "text/plain": [
       "array([[61.00000036],\n",
       "       [26.00000022],\n",
       "       [52.99999875],\n",
       "       ...,\n",
       "       [49.00000101],\n",
       "       [40.9999994 ],\n",
       "       [61.00000036]])"
      ]
     },
     "metadata": {},
     "execution_count": 50
    }
   ],
   "source": [
    "#pd.DataFrame(,index=False,columns='Actual Score in 6-overs')\n",
    "mms_output_obj.inverse_transform(targets)"
   ]
  },
  {
   "cell_type": "code",
   "execution_count": 52,
   "metadata": {},
   "outputs": [],
   "source": [
    "pred_df = pd.DataFrame(mms_output_obj.inverse_transform(preds.detach().numpy()),columns=['Predicted Score in 6-Overs'])"
   ]
  },
  {
   "cell_type": "code",
   "execution_count": 56,
   "metadata": {},
   "outputs": [],
   "source": [
    "pd.concat([inputs_df,targets_df,pred_df],axis=1).to_csv('model_pred.csv')"
   ]
  },
  {
   "cell_type": "code",
   "execution_count": null,
   "metadata": {},
   "outputs": [],
   "source": []
  }
 ]
}