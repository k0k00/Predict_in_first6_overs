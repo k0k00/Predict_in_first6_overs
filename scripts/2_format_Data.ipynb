{
 "metadata": {
  "language_info": {
   "codemirror_mode": {
    "name": "ipython",
    "version": 3
   },
   "file_extension": ".py",
   "mimetype": "text/x-python",
   "name": "python",
   "nbconvert_exporter": "python",
   "pygments_lexer": "ipython3",
   "version": ""
  },
  "orig_nbformat": 2,
  "kernelspec": {
   "name": "pythonjvsc74a57bd077dcdf196944021a492e8af9322675174f43bd84fa8cdc1beb5f85b333fd20f6",
   "display_name": "Python"
  },
  "metadata": {
   "interpreter": {
    "hash": "77dcdf196944021a492e8af9322675174f43bd84fa8cdc1beb5f85b333fd20f6"
   }
  }
 },
 "nbformat": 4,
 "nbformat_minor": 2,
 "cells": [
  {
   "cell_type": "code",
   "execution_count": 1,
   "metadata": {},
   "outputs": [],
   "source": [
    "import requests, zipfile, io,glob,shutil\n",
    "from pathlib import Path\n",
    "from sklearn.preprocessing import LabelEncoder\n",
    "from pprint import pprint\n",
    "from collections import OrderedDict\n",
    "\n",
    "import numpy as np\n",
    "import pandas as pd"
   ]
  },
  {
   "cell_type": "code",
   "execution_count": 2,
   "metadata": {},
   "outputs": [],
   "source": [
    "df = pd.read_csv('1_cleaned_Data.csv')\n"
   ]
  },
  {
   "cell_type": "code",
   "execution_count": 3,
   "metadata": {},
   "outputs": [],
   "source": [
    "Runs_off_Bat_6_overs = df.groupby(['match_id','venue','innings','batting_team','bowling_team'])['runs_off_bat'].sum()\n",
    "Extras_6_overs       = df.groupby(['match_id','venue','innings','batting_team','bowling_team'])['extras'].sum()\n",
    "TotalScore_6_overs   = df.groupby(['match_id','venue','innings','batting_team','bowling_team'])['Total_score'].sum()\n",
    "\n",
    "Total_WktsDown      = df.groupby(['match_id','venue','innings','batting_team','bowling_team'])['player_dismissed'].count()"
   ]
  },
  {
   "cell_type": "code",
   "execution_count": 4,
   "metadata": {},
   "outputs": [],
   "source": [
    "bat_df   = df.groupby(['match_id','venue','innings','batting_team','bowling_team'])['batsmen'].apply(list)\n",
    "bow_df   = df.groupby(['match_id','venue','innings','batting_team','bowling_team'])['bowlers'].apply(list)"
   ]
  },
  {
   "cell_type": "code",
   "execution_count": 5,
   "metadata": {},
   "outputs": [],
   "source": [
    "pd.concat([bat_df,bow_df,Runs_off_Bat_6_overs,Extras_6_overs,TotalScore_6_overs,Total_WktsDown],axis=1).to_csv('test.csv')"
   ]
  },
  {
   "cell_type": "code",
   "execution_count": 6,
   "metadata": {},
   "outputs": [
    {
     "output_type": "execute_result",
     "data": {
      "text/plain": [
       "   match_id                                       venue  innings batting_team  \\\n",
       "0    335982                       M Chinnaswamy Stadium        1          KKR   \n",
       "1    335982                       M Chinnaswamy Stadium        2          RCB   \n",
       "2    335983  Punjab Cricket Association Stadium, Mohali        1          CSK   \n",
       "3    335983  Punjab Cricket Association Stadium, Mohali        2         KXIP   \n",
       "4    335984                            Feroz Shah Kotla        1           RR   \n",
       "\n",
       "  bowling_team                                            batsmen  \\\n",
       "0          RCB  ['SC Ganguly', 'BB McCullum', 'BB McCullum', '...   \n",
       "1          KKR  ['R Dravid', 'W Jaffer', 'W Jaffer', 'W Jaffer...   \n",
       "2         KXIP  ['PA Patel', 'PA Patel', 'PA Patel', 'ML Hayde...   \n",
       "3          CSK  ['K Goel', 'K Goel', 'K Goel', 'K Goel', 'JR H...   \n",
       "4           DC  ['T Kohli', 'T Kohli', 'T Kohli', 'T Kohli', '...   \n",
       "\n",
       "                                             bowlers  runs_off_bat  extras  \\\n",
       "0  ['P Kumar', 'P Kumar', 'P Kumar', 'P Kumar', '...            51      10   \n",
       "1  ['AB Dinda', 'AB Dinda', 'AB Dinda', 'AB Dinda...            19       7   \n",
       "2  ['B Lee', 'B Lee', 'B Lee', 'B Lee', 'B Lee', ...            50       3   \n",
       "3  ['JDP Oram', 'JDP Oram', 'JDP Oram', 'JDP Oram...            61       2   \n",
       "4  ['GD McGrath', 'GD McGrath', 'GD McGrath', 'GD...            38       2   \n",
       "\n",
       "   Total_score  player_dismissed  \n",
       "0           61                 1  \n",
       "1           26                 4  \n",
       "2           53                 1  \n",
       "3           63                 1  \n",
       "4           40                 2  "
      ],
      "text/html": "<div>\n<style scoped>\n    .dataframe tbody tr th:only-of-type {\n        vertical-align: middle;\n    }\n\n    .dataframe tbody tr th {\n        vertical-align: top;\n    }\n\n    .dataframe thead th {\n        text-align: right;\n    }\n</style>\n<table border=\"1\" class=\"dataframe\">\n  <thead>\n    <tr style=\"text-align: right;\">\n      <th></th>\n      <th>match_id</th>\n      <th>venue</th>\n      <th>innings</th>\n      <th>batting_team</th>\n      <th>bowling_team</th>\n      <th>batsmen</th>\n      <th>bowlers</th>\n      <th>runs_off_bat</th>\n      <th>extras</th>\n      <th>Total_score</th>\n      <th>player_dismissed</th>\n    </tr>\n  </thead>\n  <tbody>\n    <tr>\n      <th>0</th>\n      <td>335982</td>\n      <td>M Chinnaswamy Stadium</td>\n      <td>1</td>\n      <td>KKR</td>\n      <td>RCB</td>\n      <td>['SC Ganguly', 'BB McCullum', 'BB McCullum', '...</td>\n      <td>['P Kumar', 'P Kumar', 'P Kumar', 'P Kumar', '...</td>\n      <td>51</td>\n      <td>10</td>\n      <td>61</td>\n      <td>1</td>\n    </tr>\n    <tr>\n      <th>1</th>\n      <td>335982</td>\n      <td>M Chinnaswamy Stadium</td>\n      <td>2</td>\n      <td>RCB</td>\n      <td>KKR</td>\n      <td>['R Dravid', 'W Jaffer', 'W Jaffer', 'W Jaffer...</td>\n      <td>['AB Dinda', 'AB Dinda', 'AB Dinda', 'AB Dinda...</td>\n      <td>19</td>\n      <td>7</td>\n      <td>26</td>\n      <td>4</td>\n    </tr>\n    <tr>\n      <th>2</th>\n      <td>335983</td>\n      <td>Punjab Cricket Association Stadium, Mohali</td>\n      <td>1</td>\n      <td>CSK</td>\n      <td>KXIP</td>\n      <td>['PA Patel', 'PA Patel', 'PA Patel', 'ML Hayde...</td>\n      <td>['B Lee', 'B Lee', 'B Lee', 'B Lee', 'B Lee', ...</td>\n      <td>50</td>\n      <td>3</td>\n      <td>53</td>\n      <td>1</td>\n    </tr>\n    <tr>\n      <th>3</th>\n      <td>335983</td>\n      <td>Punjab Cricket Association Stadium, Mohali</td>\n      <td>2</td>\n      <td>KXIP</td>\n      <td>CSK</td>\n      <td>['K Goel', 'K Goel', 'K Goel', 'K Goel', 'JR H...</td>\n      <td>['JDP Oram', 'JDP Oram', 'JDP Oram', 'JDP Oram...</td>\n      <td>61</td>\n      <td>2</td>\n      <td>63</td>\n      <td>1</td>\n    </tr>\n    <tr>\n      <th>4</th>\n      <td>335984</td>\n      <td>Feroz Shah Kotla</td>\n      <td>1</td>\n      <td>RR</td>\n      <td>DC</td>\n      <td>['T Kohli', 'T Kohli', 'T Kohli', 'T Kohli', '...</td>\n      <td>['GD McGrath', 'GD McGrath', 'GD McGrath', 'GD...</td>\n      <td>38</td>\n      <td>2</td>\n      <td>40</td>\n      <td>2</td>\n    </tr>\n  </tbody>\n</table>\n</div>"
     },
     "metadata": {},
     "execution_count": 6
    }
   ],
   "source": [
    "df = pd.read_csv('test.csv')\n",
    "df.head()"
   ]
  },
  {
   "cell_type": "code",
   "execution_count": 7,
   "metadata": {},
   "outputs": [
    {
     "output_type": "execute_result",
     "data": {
      "text/plain": [
       "      bat1  bat2  bat3  bat4  bat5  bat6  bat7  bat8  bat9  bat10  bow1  bow2  \\\n",
       "0      0.0   0.0   0.0   0.0   0.0   0.0   0.0   0.0   0.0    0.0   0.0   0.0   \n",
       "1      0.0   0.0   0.0   0.0   0.0   0.0   0.0   0.0   0.0    0.0   0.0   0.0   \n",
       "2      0.0   0.0   0.0   0.0   0.0   0.0   0.0   0.0   0.0    0.0   0.0   0.0   \n",
       "3      0.0   0.0   0.0   0.0   0.0   0.0   0.0   0.0   0.0    0.0   0.0   0.0   \n",
       "4      0.0   0.0   0.0   0.0   0.0   0.0   0.0   0.0   0.0    0.0   0.0   0.0   \n",
       "...    ...   ...   ...   ...   ...   ...   ...   ...   ...    ...   ...   ...   \n",
       "1396   0.0   0.0   0.0   0.0   0.0   0.0   0.0   0.0   0.0    0.0   0.0   0.0   \n",
       "1397   0.0   0.0   0.0   0.0   0.0   0.0   0.0   0.0   0.0    0.0   0.0   0.0   \n",
       "1398   0.0   0.0   0.0   0.0   0.0   0.0   0.0   0.0   0.0    0.0   0.0   0.0   \n",
       "1399   0.0   0.0   0.0   0.0   0.0   0.0   0.0   0.0   0.0    0.0   0.0   0.0   \n",
       "1400   0.0   0.0   0.0   0.0   0.0   0.0   0.0   0.0   0.0    0.0   0.0   0.0   \n",
       "\n",
       "      bow3  bow4  bow5  bow6  \n",
       "0      0.0   0.0   0.0   0.0  \n",
       "1      0.0   0.0   0.0   0.0  \n",
       "2      0.0   0.0   0.0   0.0  \n",
       "3      0.0   0.0   0.0   0.0  \n",
       "4      0.0   0.0   0.0   0.0  \n",
       "...    ...   ...   ...   ...  \n",
       "1396   0.0   0.0   0.0   0.0  \n",
       "1397   0.0   0.0   0.0   0.0  \n",
       "1398   0.0   0.0   0.0   0.0  \n",
       "1399   0.0   0.0   0.0   0.0  \n",
       "1400   0.0   0.0   0.0   0.0  \n",
       "\n",
       "[1401 rows x 16 columns]"
      ],
      "text/html": "<div>\n<style scoped>\n    .dataframe tbody tr th:only-of-type {\n        vertical-align: middle;\n    }\n\n    .dataframe tbody tr th {\n        vertical-align: top;\n    }\n\n    .dataframe thead th {\n        text-align: right;\n    }\n</style>\n<table border=\"1\" class=\"dataframe\">\n  <thead>\n    <tr style=\"text-align: right;\">\n      <th></th>\n      <th>bat1</th>\n      <th>bat2</th>\n      <th>bat3</th>\n      <th>bat4</th>\n      <th>bat5</th>\n      <th>bat6</th>\n      <th>bat7</th>\n      <th>bat8</th>\n      <th>bat9</th>\n      <th>bat10</th>\n      <th>bow1</th>\n      <th>bow2</th>\n      <th>bow3</th>\n      <th>bow4</th>\n      <th>bow5</th>\n      <th>bow6</th>\n    </tr>\n  </thead>\n  <tbody>\n    <tr>\n      <th>0</th>\n      <td>0.0</td>\n      <td>0.0</td>\n      <td>0.0</td>\n      <td>0.0</td>\n      <td>0.0</td>\n      <td>0.0</td>\n      <td>0.0</td>\n      <td>0.0</td>\n      <td>0.0</td>\n      <td>0.0</td>\n      <td>0.0</td>\n      <td>0.0</td>\n      <td>0.0</td>\n      <td>0.0</td>\n      <td>0.0</td>\n      <td>0.0</td>\n    </tr>\n    <tr>\n      <th>1</th>\n      <td>0.0</td>\n      <td>0.0</td>\n      <td>0.0</td>\n      <td>0.0</td>\n      <td>0.0</td>\n      <td>0.0</td>\n      <td>0.0</td>\n      <td>0.0</td>\n      <td>0.0</td>\n      <td>0.0</td>\n      <td>0.0</td>\n      <td>0.0</td>\n      <td>0.0</td>\n      <td>0.0</td>\n      <td>0.0</td>\n      <td>0.0</td>\n    </tr>\n    <tr>\n      <th>2</th>\n      <td>0.0</td>\n      <td>0.0</td>\n      <td>0.0</td>\n      <td>0.0</td>\n      <td>0.0</td>\n      <td>0.0</td>\n      <td>0.0</td>\n      <td>0.0</td>\n      <td>0.0</td>\n      <td>0.0</td>\n      <td>0.0</td>\n      <td>0.0</td>\n      <td>0.0</td>\n      <td>0.0</td>\n      <td>0.0</td>\n      <td>0.0</td>\n    </tr>\n    <tr>\n      <th>3</th>\n      <td>0.0</td>\n      <td>0.0</td>\n      <td>0.0</td>\n      <td>0.0</td>\n      <td>0.0</td>\n      <td>0.0</td>\n      <td>0.0</td>\n      <td>0.0</td>\n      <td>0.0</td>\n      <td>0.0</td>\n      <td>0.0</td>\n      <td>0.0</td>\n      <td>0.0</td>\n      <td>0.0</td>\n      <td>0.0</td>\n      <td>0.0</td>\n    </tr>\n    <tr>\n      <th>4</th>\n      <td>0.0</td>\n      <td>0.0</td>\n      <td>0.0</td>\n      <td>0.0</td>\n      <td>0.0</td>\n      <td>0.0</td>\n      <td>0.0</td>\n      <td>0.0</td>\n      <td>0.0</td>\n      <td>0.0</td>\n      <td>0.0</td>\n      <td>0.0</td>\n      <td>0.0</td>\n      <td>0.0</td>\n      <td>0.0</td>\n      <td>0.0</td>\n    </tr>\n    <tr>\n      <th>...</th>\n      <td>...</td>\n      <td>...</td>\n      <td>...</td>\n      <td>...</td>\n      <td>...</td>\n      <td>...</td>\n      <td>...</td>\n      <td>...</td>\n      <td>...</td>\n      <td>...</td>\n      <td>...</td>\n      <td>...</td>\n      <td>...</td>\n      <td>...</td>\n      <td>...</td>\n      <td>...</td>\n    </tr>\n    <tr>\n      <th>1396</th>\n      <td>0.0</td>\n      <td>0.0</td>\n      <td>0.0</td>\n      <td>0.0</td>\n      <td>0.0</td>\n      <td>0.0</td>\n      <td>0.0</td>\n      <td>0.0</td>\n      <td>0.0</td>\n      <td>0.0</td>\n      <td>0.0</td>\n      <td>0.0</td>\n      <td>0.0</td>\n      <td>0.0</td>\n      <td>0.0</td>\n      <td>0.0</td>\n    </tr>\n    <tr>\n      <th>1397</th>\n      <td>0.0</td>\n      <td>0.0</td>\n      <td>0.0</td>\n      <td>0.0</td>\n      <td>0.0</td>\n      <td>0.0</td>\n      <td>0.0</td>\n      <td>0.0</td>\n      <td>0.0</td>\n      <td>0.0</td>\n      <td>0.0</td>\n      <td>0.0</td>\n      <td>0.0</td>\n      <td>0.0</td>\n      <td>0.0</td>\n      <td>0.0</td>\n    </tr>\n    <tr>\n      <th>1398</th>\n      <td>0.0</td>\n      <td>0.0</td>\n      <td>0.0</td>\n      <td>0.0</td>\n      <td>0.0</td>\n      <td>0.0</td>\n      <td>0.0</td>\n      <td>0.0</td>\n      <td>0.0</td>\n      <td>0.0</td>\n      <td>0.0</td>\n      <td>0.0</td>\n      <td>0.0</td>\n      <td>0.0</td>\n      <td>0.0</td>\n      <td>0.0</td>\n    </tr>\n    <tr>\n      <th>1399</th>\n      <td>0.0</td>\n      <td>0.0</td>\n      <td>0.0</td>\n      <td>0.0</td>\n      <td>0.0</td>\n      <td>0.0</td>\n      <td>0.0</td>\n      <td>0.0</td>\n      <td>0.0</td>\n      <td>0.0</td>\n      <td>0.0</td>\n      <td>0.0</td>\n      <td>0.0</td>\n      <td>0.0</td>\n      <td>0.0</td>\n      <td>0.0</td>\n    </tr>\n    <tr>\n      <th>1400</th>\n      <td>0.0</td>\n      <td>0.0</td>\n      <td>0.0</td>\n      <td>0.0</td>\n      <td>0.0</td>\n      <td>0.0</td>\n      <td>0.0</td>\n      <td>0.0</td>\n      <td>0.0</td>\n      <td>0.0</td>\n      <td>0.0</td>\n      <td>0.0</td>\n      <td>0.0</td>\n      <td>0.0</td>\n      <td>0.0</td>\n      <td>0.0</td>\n    </tr>\n  </tbody>\n</table>\n<p>1401 rows × 16 columns</p>\n</div>"
     },
     "metadata": {},
     "execution_count": 7
    }
   ],
   "source": [
    "bat  = pd.DataFrame(np.zeros((df.shape[0],10),dtype=float),columns=['bat1', 'bat2', 'bat3', 'bat4', 'bat5', 'bat6', 'bat7', 'bat8', 'bat9', 'bat10'])\n",
    "bowl = pd.DataFrame(np.zeros((df.shape[0],6),dtype=float),columns=['bow1', 'bow2', 'bow3', 'bow4', 'bow5', 'bow6'])\n",
    "\n",
    "columns = ['bat1', 'bat2', 'bat3', 'bat4', 'bat5', 'bat6', 'bat7', 'bat8', 'bat9', 'bat10','bow1', 'bow2', 'bow3', 'bow4', 'bow5', 'bow6']\n",
    "df_bat_bow = pd.concat([bat,bowl],axis=1)\n",
    "df_bat_bow\n",
    "\n"
   ]
  },
  {
   "cell_type": "code",
   "execution_count": 8,
   "metadata": {},
   "outputs": [],
   "source": [
    "pd.concat([df,df_bat_bow],axis=1).to_csv('test.csv',index=False)"
   ]
  },
  {
   "cell_type": "code",
   "execution_count": 9,
   "metadata": {},
   "outputs": [
    {
     "output_type": "execute_result",
     "data": {
      "text/plain": [
       "   match_id                                       venue  innings batting_team  \\\n",
       "0    335982                       M Chinnaswamy Stadium        1          KKR   \n",
       "1    335982                       M Chinnaswamy Stadium        2          RCB   \n",
       "2    335983  Punjab Cricket Association Stadium, Mohali        1          CSK   \n",
       "3    335983  Punjab Cricket Association Stadium, Mohali        2         KXIP   \n",
       "4    335984                            Feroz Shah Kotla        1           RR   \n",
       "\n",
       "  bowling_team                                            batsmen  \\\n",
       "0          RCB  ['SC Ganguly', 'BB McCullum', 'BB McCullum', '...   \n",
       "1          KKR  ['R Dravid', 'W Jaffer', 'W Jaffer', 'W Jaffer...   \n",
       "2         KXIP  ['PA Patel', 'PA Patel', 'PA Patel', 'ML Hayde...   \n",
       "3          CSK  ['K Goel', 'K Goel', 'K Goel', 'K Goel', 'JR H...   \n",
       "4           DC  ['T Kohli', 'T Kohli', 'T Kohli', 'T Kohli', '...   \n",
       "\n",
       "                                             bowlers  runs_off_bat  extras  \\\n",
       "0  ['P Kumar', 'P Kumar', 'P Kumar', 'P Kumar', '...            51      10   \n",
       "1  ['AB Dinda', 'AB Dinda', 'AB Dinda', 'AB Dinda...            19       7   \n",
       "2  ['B Lee', 'B Lee', 'B Lee', 'B Lee', 'B Lee', ...            50       3   \n",
       "3  ['JDP Oram', 'JDP Oram', 'JDP Oram', 'JDP Oram...            61       2   \n",
       "4  ['GD McGrath', 'GD McGrath', 'GD McGrath', 'GD...            38       2   \n",
       "\n",
       "   Total_score  ...  bat7  bat8  bat9  bat10  bow1  bow2  bow3  bow4  bow5  \\\n",
       "0           61  ...   0.0   0.0   0.0    0.0   0.0   0.0   0.0   0.0   0.0   \n",
       "1           26  ...   0.0   0.0   0.0    0.0   0.0   0.0   0.0   0.0   0.0   \n",
       "2           53  ...   0.0   0.0   0.0    0.0   0.0   0.0   0.0   0.0   0.0   \n",
       "3           63  ...   0.0   0.0   0.0    0.0   0.0   0.0   0.0   0.0   0.0   \n",
       "4           40  ...   0.0   0.0   0.0    0.0   0.0   0.0   0.0   0.0   0.0   \n",
       "\n",
       "   bow6  \n",
       "0   0.0  \n",
       "1   0.0  \n",
       "2   0.0  \n",
       "3   0.0  \n",
       "4   0.0  \n",
       "\n",
       "[5 rows x 27 columns]"
      ],
      "text/html": "<div>\n<style scoped>\n    .dataframe tbody tr th:only-of-type {\n        vertical-align: middle;\n    }\n\n    .dataframe tbody tr th {\n        vertical-align: top;\n    }\n\n    .dataframe thead th {\n        text-align: right;\n    }\n</style>\n<table border=\"1\" class=\"dataframe\">\n  <thead>\n    <tr style=\"text-align: right;\">\n      <th></th>\n      <th>match_id</th>\n      <th>venue</th>\n      <th>innings</th>\n      <th>batting_team</th>\n      <th>bowling_team</th>\n      <th>batsmen</th>\n      <th>bowlers</th>\n      <th>runs_off_bat</th>\n      <th>extras</th>\n      <th>Total_score</th>\n      <th>...</th>\n      <th>bat7</th>\n      <th>bat8</th>\n      <th>bat9</th>\n      <th>bat10</th>\n      <th>bow1</th>\n      <th>bow2</th>\n      <th>bow3</th>\n      <th>bow4</th>\n      <th>bow5</th>\n      <th>bow6</th>\n    </tr>\n  </thead>\n  <tbody>\n    <tr>\n      <th>0</th>\n      <td>335982</td>\n      <td>M Chinnaswamy Stadium</td>\n      <td>1</td>\n      <td>KKR</td>\n      <td>RCB</td>\n      <td>['SC Ganguly', 'BB McCullum', 'BB McCullum', '...</td>\n      <td>['P Kumar', 'P Kumar', 'P Kumar', 'P Kumar', '...</td>\n      <td>51</td>\n      <td>10</td>\n      <td>61</td>\n      <td>...</td>\n      <td>0.0</td>\n      <td>0.0</td>\n      <td>0.0</td>\n      <td>0.0</td>\n      <td>0.0</td>\n      <td>0.0</td>\n      <td>0.0</td>\n      <td>0.0</td>\n      <td>0.0</td>\n      <td>0.0</td>\n    </tr>\n    <tr>\n      <th>1</th>\n      <td>335982</td>\n      <td>M Chinnaswamy Stadium</td>\n      <td>2</td>\n      <td>RCB</td>\n      <td>KKR</td>\n      <td>['R Dravid', 'W Jaffer', 'W Jaffer', 'W Jaffer...</td>\n      <td>['AB Dinda', 'AB Dinda', 'AB Dinda', 'AB Dinda...</td>\n      <td>19</td>\n      <td>7</td>\n      <td>26</td>\n      <td>...</td>\n      <td>0.0</td>\n      <td>0.0</td>\n      <td>0.0</td>\n      <td>0.0</td>\n      <td>0.0</td>\n      <td>0.0</td>\n      <td>0.0</td>\n      <td>0.0</td>\n      <td>0.0</td>\n      <td>0.0</td>\n    </tr>\n    <tr>\n      <th>2</th>\n      <td>335983</td>\n      <td>Punjab Cricket Association Stadium, Mohali</td>\n      <td>1</td>\n      <td>CSK</td>\n      <td>KXIP</td>\n      <td>['PA Patel', 'PA Patel', 'PA Patel', 'ML Hayde...</td>\n      <td>['B Lee', 'B Lee', 'B Lee', 'B Lee', 'B Lee', ...</td>\n      <td>50</td>\n      <td>3</td>\n      <td>53</td>\n      <td>...</td>\n      <td>0.0</td>\n      <td>0.0</td>\n      <td>0.0</td>\n      <td>0.0</td>\n      <td>0.0</td>\n      <td>0.0</td>\n      <td>0.0</td>\n      <td>0.0</td>\n      <td>0.0</td>\n      <td>0.0</td>\n    </tr>\n    <tr>\n      <th>3</th>\n      <td>335983</td>\n      <td>Punjab Cricket Association Stadium, Mohali</td>\n      <td>2</td>\n      <td>KXIP</td>\n      <td>CSK</td>\n      <td>['K Goel', 'K Goel', 'K Goel', 'K Goel', 'JR H...</td>\n      <td>['JDP Oram', 'JDP Oram', 'JDP Oram', 'JDP Oram...</td>\n      <td>61</td>\n      <td>2</td>\n      <td>63</td>\n      <td>...</td>\n      <td>0.0</td>\n      <td>0.0</td>\n      <td>0.0</td>\n      <td>0.0</td>\n      <td>0.0</td>\n      <td>0.0</td>\n      <td>0.0</td>\n      <td>0.0</td>\n      <td>0.0</td>\n      <td>0.0</td>\n    </tr>\n    <tr>\n      <th>4</th>\n      <td>335984</td>\n      <td>Feroz Shah Kotla</td>\n      <td>1</td>\n      <td>RR</td>\n      <td>DC</td>\n      <td>['T Kohli', 'T Kohli', 'T Kohli', 'T Kohli', '...</td>\n      <td>['GD McGrath', 'GD McGrath', 'GD McGrath', 'GD...</td>\n      <td>38</td>\n      <td>2</td>\n      <td>40</td>\n      <td>...</td>\n      <td>0.0</td>\n      <td>0.0</td>\n      <td>0.0</td>\n      <td>0.0</td>\n      <td>0.0</td>\n      <td>0.0</td>\n      <td>0.0</td>\n      <td>0.0</td>\n      <td>0.0</td>\n      <td>0.0</td>\n    </tr>\n  </tbody>\n</table>\n<p>5 rows × 27 columns</p>\n</div>"
     },
     "metadata": {},
     "execution_count": 9
    }
   ],
   "source": [
    "df = pd.read_csv('test.csv')\n",
    "os.remove('test.csv')\n",
    "df.head()"
   ]
  },
  {
   "cell_type": "code",
   "execution_count": 10,
   "metadata": {},
   "outputs": [
    {
     "output_type": "stream",
     "name": "stderr",
     "text": [
      "<ipython-input-10-546d063ed2a4>:7: SettingWithCopyWarning: \nA value is trying to be set on a copy of a slice from a DataFrame\n\nSee the caveats in the documentation: https://pandas.pydata.org/pandas-docs/stable/user_guide/indexing.html#returning-a-view-versus-a-copy\n  df[col][row] = j\nC:\\Users\\skanukollu\\AppData\\Local\\Programs\\Python\\Python38\\lib\\site-packages\\pandas\\core\\indexing.py:1636: SettingWithCopyWarning: \nA value is trying to be set on a copy of a slice from a DataFrame\n\nSee the caveats in the documentation: https://pandas.pydata.org/pandas-docs/stable/user_guide/indexing.html#returning-a-view-versus-a-copy\n  self._setitem_single_block(indexer, value, name)\n"
     ]
    }
   ],
   "source": [
    "for row,val in enumerate(df.batsmen):\n",
    "    tmp = val[1:-1].split(', ')\n",
    "    tmp_list = list(map(lambda x : x.strip(\"'\"),tmp))\n",
    "    tmp_list = list(OrderedDict.fromkeys(tmp_list))\n",
    "    for i,j in enumerate(list(map(lambda x : x.strip(\"'\"),tmp_list))):\n",
    "        col = \"bat%i\"%(i+1)\n",
    "        df[col][row] = j"
   ]
  },
  {
   "cell_type": "code",
   "execution_count": 11,
   "metadata": {},
   "outputs": [
    {
     "output_type": "stream",
     "name": "stderr",
     "text": [
      "<ipython-input-11-247dc14cd009>:7: SettingWithCopyWarning: \nA value is trying to be set on a copy of a slice from a DataFrame\n\nSee the caveats in the documentation: https://pandas.pydata.org/pandas-docs/stable/user_guide/indexing.html#returning-a-view-versus-a-copy\n  df[col][row] = j\n"
     ]
    }
   ],
   "source": [
    "for row,val in enumerate(df.bowlers):\n",
    "    tmp = val[1:-1].split(', ')\n",
    "    tmp_list = list(map(lambda x : x.strip(\"'\"),tmp))\n",
    "    tmp_list = list(OrderedDict.fromkeys(tmp_list))\n",
    "    for i,j in enumerate(list(map(lambda x : x.strip(\"'\"),tmp_list))):\n",
    "        col = \"bow%i\"%(i+1)\n",
    "        df[col][row] = j"
   ]
  },
  {
   "cell_type": "code",
   "execution_count": 12,
   "metadata": {},
   "outputs": [],
   "source": [
    "df.to_csv('2_formated_Dataset.csv',index=False)"
   ]
  },
  {
   "cell_type": "code",
   "execution_count": 13,
   "metadata": {},
   "outputs": [],
   "source": [
    "df = pd.read_csv('2_formated_Dataset.csv')\n"
   ]
  },
  {
   "cell_type": "code",
   "execution_count": 14,
   "metadata": {},
   "outputs": [
    {
     "output_type": "execute_result",
     "data": {
      "text/plain": [
       "   match_id                                       venue  innings batting_team  \\\n",
       "0    335982                       M Chinnaswamy Stadium        1          KKR   \n",
       "1    335982                       M Chinnaswamy Stadium        2          RCB   \n",
       "2    335983  Punjab Cricket Association Stadium, Mohali        1          CSK   \n",
       "3    335983  Punjab Cricket Association Stadium, Mohali        2         KXIP   \n",
       "4    335984                            Feroz Shah Kotla        1           RR   \n",
       "\n",
       "  bowling_team                                            batsmen  \\\n",
       "0          RCB  ['SC Ganguly', 'BB McCullum', 'BB McCullum', '...   \n",
       "1          KKR  ['R Dravid', 'W Jaffer', 'W Jaffer', 'W Jaffer...   \n",
       "2         KXIP  ['PA Patel', 'PA Patel', 'PA Patel', 'ML Hayde...   \n",
       "3          CSK  ['K Goel', 'K Goel', 'K Goel', 'K Goel', 'JR H...   \n",
       "4           DC  ['T Kohli', 'T Kohli', 'T Kohli', 'T Kohli', '...   \n",
       "\n",
       "                                             bowlers  runs_off_bat  extras  \\\n",
       "0  ['P Kumar', 'P Kumar', 'P Kumar', 'P Kumar', '...            51      10   \n",
       "1  ['AB Dinda', 'AB Dinda', 'AB Dinda', 'AB Dinda...            19       7   \n",
       "2  ['B Lee', 'B Lee', 'B Lee', 'B Lee', 'B Lee', ...            50       3   \n",
       "3  ['JDP Oram', 'JDP Oram', 'JDP Oram', 'JDP Oram...            61       2   \n",
       "4  ['GD McGrath', 'GD McGrath', 'GD McGrath', 'GD...            38       2   \n",
       "\n",
       "   Total_score  ...  bat7 bat8 bat9 bat10        bow1         bow2  \\\n",
       "0           61  ...   0.0  0.0  0.0   0.0     P Kumar       Z Khan   \n",
       "1           26  ...   0.0  0.0  0.0   0.0    AB Dinda     I Sharma   \n",
       "2           53  ...   0.0  0.0  0.0   0.0       B Lee  S Sreesanth   \n",
       "3           63  ...   0.0  0.0  0.0   0.0    JDP Oram      MS Gony   \n",
       "4           40  ...   0.0  0.0  0.0   0.0  GD McGrath     B Geeves   \n",
       "\n",
       "          bow3 bow4 bow5  bow6  \n",
       "0    AA Noffke  0.0  0.0   0.0  \n",
       "1   AB Agarkar  0.0  0.0   0.0  \n",
       "2     JR Hopes  0.0  0.0   0.0  \n",
       "3          0.0  0.0  0.0   0.0  \n",
       "4  MF Maharoof  0.0  0.0   0.0  \n",
       "\n",
       "[5 rows x 27 columns]"
      ],
      "text/html": "<div>\n<style scoped>\n    .dataframe tbody tr th:only-of-type {\n        vertical-align: middle;\n    }\n\n    .dataframe tbody tr th {\n        vertical-align: top;\n    }\n\n    .dataframe thead th {\n        text-align: right;\n    }\n</style>\n<table border=\"1\" class=\"dataframe\">\n  <thead>\n    <tr style=\"text-align: right;\">\n      <th></th>\n      <th>match_id</th>\n      <th>venue</th>\n      <th>innings</th>\n      <th>batting_team</th>\n      <th>bowling_team</th>\n      <th>batsmen</th>\n      <th>bowlers</th>\n      <th>runs_off_bat</th>\n      <th>extras</th>\n      <th>Total_score</th>\n      <th>...</th>\n      <th>bat7</th>\n      <th>bat8</th>\n      <th>bat9</th>\n      <th>bat10</th>\n      <th>bow1</th>\n      <th>bow2</th>\n      <th>bow3</th>\n      <th>bow4</th>\n      <th>bow5</th>\n      <th>bow6</th>\n    </tr>\n  </thead>\n  <tbody>\n    <tr>\n      <th>0</th>\n      <td>335982</td>\n      <td>M Chinnaswamy Stadium</td>\n      <td>1</td>\n      <td>KKR</td>\n      <td>RCB</td>\n      <td>['SC Ganguly', 'BB McCullum', 'BB McCullum', '...</td>\n      <td>['P Kumar', 'P Kumar', 'P Kumar', 'P Kumar', '...</td>\n      <td>51</td>\n      <td>10</td>\n      <td>61</td>\n      <td>...</td>\n      <td>0.0</td>\n      <td>0.0</td>\n      <td>0.0</td>\n      <td>0.0</td>\n      <td>P Kumar</td>\n      <td>Z Khan</td>\n      <td>AA Noffke</td>\n      <td>0.0</td>\n      <td>0.0</td>\n      <td>0.0</td>\n    </tr>\n    <tr>\n      <th>1</th>\n      <td>335982</td>\n      <td>M Chinnaswamy Stadium</td>\n      <td>2</td>\n      <td>RCB</td>\n      <td>KKR</td>\n      <td>['R Dravid', 'W Jaffer', 'W Jaffer', 'W Jaffer...</td>\n      <td>['AB Dinda', 'AB Dinda', 'AB Dinda', 'AB Dinda...</td>\n      <td>19</td>\n      <td>7</td>\n      <td>26</td>\n      <td>...</td>\n      <td>0.0</td>\n      <td>0.0</td>\n      <td>0.0</td>\n      <td>0.0</td>\n      <td>AB Dinda</td>\n      <td>I Sharma</td>\n      <td>AB Agarkar</td>\n      <td>0.0</td>\n      <td>0.0</td>\n      <td>0.0</td>\n    </tr>\n    <tr>\n      <th>2</th>\n      <td>335983</td>\n      <td>Punjab Cricket Association Stadium, Mohali</td>\n      <td>1</td>\n      <td>CSK</td>\n      <td>KXIP</td>\n      <td>['PA Patel', 'PA Patel', 'PA Patel', 'ML Hayde...</td>\n      <td>['B Lee', 'B Lee', 'B Lee', 'B Lee', 'B Lee', ...</td>\n      <td>50</td>\n      <td>3</td>\n      <td>53</td>\n      <td>...</td>\n      <td>0.0</td>\n      <td>0.0</td>\n      <td>0.0</td>\n      <td>0.0</td>\n      <td>B Lee</td>\n      <td>S Sreesanth</td>\n      <td>JR Hopes</td>\n      <td>0.0</td>\n      <td>0.0</td>\n      <td>0.0</td>\n    </tr>\n    <tr>\n      <th>3</th>\n      <td>335983</td>\n      <td>Punjab Cricket Association Stadium, Mohali</td>\n      <td>2</td>\n      <td>KXIP</td>\n      <td>CSK</td>\n      <td>['K Goel', 'K Goel', 'K Goel', 'K Goel', 'JR H...</td>\n      <td>['JDP Oram', 'JDP Oram', 'JDP Oram', 'JDP Oram...</td>\n      <td>61</td>\n      <td>2</td>\n      <td>63</td>\n      <td>...</td>\n      <td>0.0</td>\n      <td>0.0</td>\n      <td>0.0</td>\n      <td>0.0</td>\n      <td>JDP Oram</td>\n      <td>MS Gony</td>\n      <td>0.0</td>\n      <td>0.0</td>\n      <td>0.0</td>\n      <td>0.0</td>\n    </tr>\n    <tr>\n      <th>4</th>\n      <td>335984</td>\n      <td>Feroz Shah Kotla</td>\n      <td>1</td>\n      <td>RR</td>\n      <td>DC</td>\n      <td>['T Kohli', 'T Kohli', 'T Kohli', 'T Kohli', '...</td>\n      <td>['GD McGrath', 'GD McGrath', 'GD McGrath', 'GD...</td>\n      <td>38</td>\n      <td>2</td>\n      <td>40</td>\n      <td>...</td>\n      <td>0.0</td>\n      <td>0.0</td>\n      <td>0.0</td>\n      <td>0.0</td>\n      <td>GD McGrath</td>\n      <td>B Geeves</td>\n      <td>MF Maharoof</td>\n      <td>0.0</td>\n      <td>0.0</td>\n      <td>0.0</td>\n    </tr>\n  </tbody>\n</table>\n<p>5 rows × 27 columns</p>\n</div>"
     },
     "metadata": {},
     "execution_count": 14
    }
   ],
   "source": [
    "df.head()"
   ]
  }
 ]
}