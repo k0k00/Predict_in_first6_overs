{
 "metadata": {
  "language_info": {
   "codemirror_mode": {
    "name": "ipython",
    "version": 3
   },
   "file_extension": ".py",
   "mimetype": "text/x-python",
   "name": "python",
   "nbconvert_exporter": "python",
   "pygments_lexer": "ipython3",
   "version": "3.8.5"
  },
  "orig_nbformat": 2,
  "kernelspec": {
   "name": "python385jvsc74a57bd077dcdf196944021a492e8af9322675174f43bd84fa8cdc1beb5f85b333fd20f6",
   "display_name": "Python 3.8.5 64-bit"
  },
  "metadata": {
   "interpreter": {
    "hash": "77dcdf196944021a492e8af9322675174f43bd84fa8cdc1beb5f85b333fd20f6"
   }
  }
 },
 "nbformat": 4,
 "nbformat_minor": 2,
 "cells": [
  {
   "source": [
    "1. Fetch dataand load dataset\n",
    "2. split train-70% val-30%\n",
    "3. Train loader, val loader\n",
    "4. Prepare model\n",
    "5. Loss function\n",
    "6. optimizer\n",
    "7. Plot graphs w.r.t loss vs train accuracy and val accuracy"
   ],
   "cell_type": "markdown",
   "metadata": {}
  },
  {
   "cell_type": "code",
   "execution_count": 1,
   "metadata": {},
   "outputs": [],
   "source": [
    "from pathlib import Path\n",
    "import pandas as pd\n",
    "import numpy as np\n",
    "\n",
    "import torch\n",
    "from torchvision import transforms\n",
    "\n",
    "from sklearn.model_selection import train_test_split\n",
    "from sklearn.preprocessing import MinMaxScaler\n"
   ]
  },
  {
   "cell_type": "code",
   "execution_count": 47,
   "metadata": {},
   "outputs": [
    {
     "output_type": "execute_result",
     "data": {
      "text/plain": [
       "      venue  innings  batting_team  bowling_team  bat1  bat2   bat3   bat4  \\\n",
       "0        15        1             2             5   220    36  205.0    0.0   \n",
       "1        15        2             5             2   186   264  257.0   97.0   \n",
       "2        23        1             0             3   174   148  141.0    0.0   \n",
       "3        23        2             3             0   107   105    0.0    0.0   \n",
       "4        10        1             6             1   252   270  235.0  130.0   \n",
       "...     ...      ...           ...           ...   ...   ...    ...    ...   \n",
       "1454      1        2             4             0   183   196    0.0    0.0   \n",
       "1455      1        1             6             7    94   269  240.0    0.0   \n",
       "1456      1        2             7             6   146   100    0.0    0.0   \n",
       "1457     18        1             3             1   173   136   48.0   63.0   \n",
       "1458     18        2             1             3   181   210    0.0    0.0   \n",
       "\n",
       "      bat5   bat6  ...  bat8  bat9  bat10  bow1  bow2   bow3   bow4  bow5  \\\n",
       "0      0.0    0.0  ...   0.0   0.0    0.0   171   275   16.0    0.0   0.0   \n",
       "1     51.0  155.0  ...   0.0   0.0    0.0    18   109    8.0    0.0   0.0   \n",
       "2      0.0    0.0  ...   0.0   0.0    0.0    46   268  105.0    0.0   0.0   \n",
       "3      0.0    0.0  ...   0.0   0.0    0.0   126   200    0.0    0.0   0.0   \n",
       "4      0.0    0.0  ...   0.0   0.0    0.0    96    43  189.0    0.0   0.0   \n",
       "...    ...    ...  ...   ...   ...    ...   ...   ...    ...    ...   ...   \n",
       "1454   0.0    0.0  ...   0.0   0.0    0.0    82   225  171.0    0.0   0.0   \n",
       "1455   0.0    0.0  ...   0.0   0.0    0.0    44   297  254.0  154.0   0.0   \n",
       "1456   0.0    0.0  ...   0.0   0.0    0.0   167   208   58.0   49.0   0.0   \n",
       "1457   0.0    0.0  ...   0.0   0.0    0.0   109   152  109.0   40.0   0.0   \n",
       "1458   0.0    0.0  ...   0.0   0.0    0.0   247   204  256.0   65.0   0.0   \n",
       "\n",
       "      bow6  Total_score  \n",
       "0      0.0           61  \n",
       "1      0.0           26  \n",
       "2      0.0           53  \n",
       "3      0.0           63  \n",
       "4      0.0           40  \n",
       "...    ...          ...  \n",
       "1454   0.0           58  \n",
       "1455   0.0           42  \n",
       "1456   0.0           57  \n",
       "1457   0.0           39  \n",
       "1458   0.0           63  \n",
       "\n",
       "[1459 rows x 21 columns]"
      ],
      "text/html": "<div>\n<style scoped>\n    .dataframe tbody tr th:only-of-type {\n        vertical-align: middle;\n    }\n\n    .dataframe tbody tr th {\n        vertical-align: top;\n    }\n\n    .dataframe thead th {\n        text-align: right;\n    }\n</style>\n<table border=\"1\" class=\"dataframe\">\n  <thead>\n    <tr style=\"text-align: right;\">\n      <th></th>\n      <th>venue</th>\n      <th>innings</th>\n      <th>batting_team</th>\n      <th>bowling_team</th>\n      <th>bat1</th>\n      <th>bat2</th>\n      <th>bat3</th>\n      <th>bat4</th>\n      <th>bat5</th>\n      <th>bat6</th>\n      <th>...</th>\n      <th>bat8</th>\n      <th>bat9</th>\n      <th>bat10</th>\n      <th>bow1</th>\n      <th>bow2</th>\n      <th>bow3</th>\n      <th>bow4</th>\n      <th>bow5</th>\n      <th>bow6</th>\n      <th>Total_score</th>\n    </tr>\n  </thead>\n  <tbody>\n    <tr>\n      <th>0</th>\n      <td>15</td>\n      <td>1</td>\n      <td>2</td>\n      <td>5</td>\n      <td>220</td>\n      <td>36</td>\n      <td>205.0</td>\n      <td>0.0</td>\n      <td>0.0</td>\n      <td>0.0</td>\n      <td>...</td>\n      <td>0.0</td>\n      <td>0.0</td>\n      <td>0.0</td>\n      <td>171</td>\n      <td>275</td>\n      <td>16.0</td>\n      <td>0.0</td>\n      <td>0.0</td>\n      <td>0.0</td>\n      <td>61</td>\n    </tr>\n    <tr>\n      <th>1</th>\n      <td>15</td>\n      <td>2</td>\n      <td>5</td>\n      <td>2</td>\n      <td>186</td>\n      <td>264</td>\n      <td>257.0</td>\n      <td>97.0</td>\n      <td>51.0</td>\n      <td>155.0</td>\n      <td>...</td>\n      <td>0.0</td>\n      <td>0.0</td>\n      <td>0.0</td>\n      <td>18</td>\n      <td>109</td>\n      <td>8.0</td>\n      <td>0.0</td>\n      <td>0.0</td>\n      <td>0.0</td>\n      <td>26</td>\n    </tr>\n    <tr>\n      <th>2</th>\n      <td>23</td>\n      <td>1</td>\n      <td>0</td>\n      <td>3</td>\n      <td>174</td>\n      <td>148</td>\n      <td>141.0</td>\n      <td>0.0</td>\n      <td>0.0</td>\n      <td>0.0</td>\n      <td>...</td>\n      <td>0.0</td>\n      <td>0.0</td>\n      <td>0.0</td>\n      <td>46</td>\n      <td>268</td>\n      <td>105.0</td>\n      <td>0.0</td>\n      <td>0.0</td>\n      <td>0.0</td>\n      <td>53</td>\n    </tr>\n    <tr>\n      <th>3</th>\n      <td>23</td>\n      <td>2</td>\n      <td>3</td>\n      <td>0</td>\n      <td>107</td>\n      <td>105</td>\n      <td>0.0</td>\n      <td>0.0</td>\n      <td>0.0</td>\n      <td>0.0</td>\n      <td>...</td>\n      <td>0.0</td>\n      <td>0.0</td>\n      <td>0.0</td>\n      <td>126</td>\n      <td>200</td>\n      <td>0.0</td>\n      <td>0.0</td>\n      <td>0.0</td>\n      <td>0.0</td>\n      <td>63</td>\n    </tr>\n    <tr>\n      <th>4</th>\n      <td>10</td>\n      <td>1</td>\n      <td>6</td>\n      <td>1</td>\n      <td>252</td>\n      <td>270</td>\n      <td>235.0</td>\n      <td>130.0</td>\n      <td>0.0</td>\n      <td>0.0</td>\n      <td>...</td>\n      <td>0.0</td>\n      <td>0.0</td>\n      <td>0.0</td>\n      <td>96</td>\n      <td>43</td>\n      <td>189.0</td>\n      <td>0.0</td>\n      <td>0.0</td>\n      <td>0.0</td>\n      <td>40</td>\n    </tr>\n    <tr>\n      <th>...</th>\n      <td>...</td>\n      <td>...</td>\n      <td>...</td>\n      <td>...</td>\n      <td>...</td>\n      <td>...</td>\n      <td>...</td>\n      <td>...</td>\n      <td>...</td>\n      <td>...</td>\n      <td>...</td>\n      <td>...</td>\n      <td>...</td>\n      <td>...</td>\n      <td>...</td>\n      <td>...</td>\n      <td>...</td>\n      <td>...</td>\n      <td>...</td>\n      <td>...</td>\n      <td>...</td>\n    </tr>\n    <tr>\n      <th>1454</th>\n      <td>1</td>\n      <td>2</td>\n      <td>4</td>\n      <td>0</td>\n      <td>183</td>\n      <td>196</td>\n      <td>0.0</td>\n      <td>0.0</td>\n      <td>0.0</td>\n      <td>0.0</td>\n      <td>...</td>\n      <td>0.0</td>\n      <td>0.0</td>\n      <td>0.0</td>\n      <td>82</td>\n      <td>225</td>\n      <td>171.0</td>\n      <td>0.0</td>\n      <td>0.0</td>\n      <td>0.0</td>\n      <td>58</td>\n    </tr>\n    <tr>\n      <th>1455</th>\n      <td>1</td>\n      <td>1</td>\n      <td>6</td>\n      <td>7</td>\n      <td>94</td>\n      <td>269</td>\n      <td>240.0</td>\n      <td>0.0</td>\n      <td>0.0</td>\n      <td>0.0</td>\n      <td>...</td>\n      <td>0.0</td>\n      <td>0.0</td>\n      <td>0.0</td>\n      <td>44</td>\n      <td>297</td>\n      <td>254.0</td>\n      <td>154.0</td>\n      <td>0.0</td>\n      <td>0.0</td>\n      <td>42</td>\n    </tr>\n    <tr>\n      <th>1456</th>\n      <td>1</td>\n      <td>2</td>\n      <td>7</td>\n      <td>6</td>\n      <td>146</td>\n      <td>100</td>\n      <td>0.0</td>\n      <td>0.0</td>\n      <td>0.0</td>\n      <td>0.0</td>\n      <td>...</td>\n      <td>0.0</td>\n      <td>0.0</td>\n      <td>0.0</td>\n      <td>167</td>\n      <td>208</td>\n      <td>58.0</td>\n      <td>49.0</td>\n      <td>0.0</td>\n      <td>0.0</td>\n      <td>57</td>\n    </tr>\n    <tr>\n      <th>1457</th>\n      <td>18</td>\n      <td>1</td>\n      <td>3</td>\n      <td>1</td>\n      <td>173</td>\n      <td>136</td>\n      <td>48.0</td>\n      <td>63.0</td>\n      <td>0.0</td>\n      <td>0.0</td>\n      <td>...</td>\n      <td>0.0</td>\n      <td>0.0</td>\n      <td>0.0</td>\n      <td>109</td>\n      <td>152</td>\n      <td>109.0</td>\n      <td>40.0</td>\n      <td>0.0</td>\n      <td>0.0</td>\n      <td>39</td>\n    </tr>\n    <tr>\n      <th>1458</th>\n      <td>18</td>\n      <td>2</td>\n      <td>1</td>\n      <td>3</td>\n      <td>181</td>\n      <td>210</td>\n      <td>0.0</td>\n      <td>0.0</td>\n      <td>0.0</td>\n      <td>0.0</td>\n      <td>...</td>\n      <td>0.0</td>\n      <td>0.0</td>\n      <td>0.0</td>\n      <td>247</td>\n      <td>204</td>\n      <td>256.0</td>\n      <td>65.0</td>\n      <td>0.0</td>\n      <td>0.0</td>\n      <td>63</td>\n    </tr>\n  </tbody>\n</table>\n<p>1459 rows × 21 columns</p>\n</div>"
     },
     "metadata": {},
     "execution_count": 47
    }
   ],
   "source": [
    "df = pd.read_csv(Path.joinpath(Path.cwd().parent,'dataset','5_model_df.csv'))\n",
    "df.drop(columns=['runs_off_bat', 'extras','player_dismissed'],inplace=True)\n",
    "df"
   ]
  },
  {
   "cell_type": "code",
   "execution_count": 48,
   "metadata": {},
   "outputs": [],
   "source": [
    "input_params = ['venue', 'innings', 'batting_team', 'bowling_team', 'bat1', 'bat2', 'bat3', 'bat4', 'bat5', 'bat6',\n",
    "                    'bat7', 'bat8', 'bat9', 'bat10', 'bow1', 'bow2', 'bow3', 'bow4', 'bow5', 'bow6']\n",
    "\n",
    "output_param = ['Total_score']"
   ]
  },
  {
   "source": [
    "# Normalize DataFrame"
   ],
   "cell_type": "markdown",
   "metadata": {}
  },
  {
   "cell_type": "code",
   "execution_count": 49,
   "metadata": {},
   "outputs": [
    {
     "output_type": "execute_result",
     "data": {
      "text/plain": [
       "         venue  innings  batting_team  bowling_team      bat1      bat2  \\\n",
       "0     0.441176      0.0      0.285714      0.714286  0.802198  0.129630   \n",
       "1     0.441176      1.0      0.714286      0.285714  0.677656  0.974074   \n",
       "2     0.676471      0.0      0.000000      0.428571  0.633700  0.544444   \n",
       "3     0.676471      1.0      0.428571      0.000000  0.388278  0.385185   \n",
       "4     0.294118      0.0      0.857143      0.142857  0.919414  0.996296   \n",
       "...        ...      ...           ...           ...       ...       ...   \n",
       "1454  0.029412      1.0      0.571429      0.000000  0.666667  0.722222   \n",
       "1455  0.029412      0.0      0.857143      1.000000  0.340659  0.992593   \n",
       "1456  0.029412      1.0      1.000000      0.857143  0.531136  0.366667   \n",
       "1457  0.529412      0.0      0.428571      0.142857  0.630037  0.500000   \n",
       "1458  0.529412      1.0      0.142857      0.428571  0.659341  0.774074   \n",
       "\n",
       "          bat3      bat4      bat5      bat6  ...  bat8  bat9  bat10  \\\n",
       "0     0.745455  0.000000  0.000000  0.000000  ...   0.0   0.0    0.0   \n",
       "1     0.934545  0.354015  0.186131  0.574074  ...   0.0   0.0    0.0   \n",
       "2     0.512727  0.000000  0.000000  0.000000  ...   0.0   0.0    0.0   \n",
       "3     0.000000  0.000000  0.000000  0.000000  ...   0.0   0.0    0.0   \n",
       "4     0.854545  0.474453  0.000000  0.000000  ...   0.0   0.0    0.0   \n",
       "...        ...       ...       ...       ...  ...   ...   ...    ...   \n",
       "1454  0.000000  0.000000  0.000000  0.000000  ...   0.0   0.0    0.0   \n",
       "1455  0.872727  0.000000  0.000000  0.000000  ...   0.0   0.0    0.0   \n",
       "1456  0.000000  0.000000  0.000000  0.000000  ...   0.0   0.0    0.0   \n",
       "1457  0.174545  0.229927  0.000000  0.000000  ...   0.0   0.0    0.0   \n",
       "1458  0.000000  0.000000  0.000000  0.000000  ...   0.0   0.0    0.0   \n",
       "\n",
       "          bow1      bow2      bow3      bow4  bow5  bow6  Total_score  \n",
       "0     0.513595  0.827273  0.048193  0.000000   0.0   0.0     0.572816  \n",
       "1     0.051360  0.324242  0.024096  0.000000   0.0   0.0     0.233010  \n",
       "2     0.135952  0.806061  0.316265  0.000000   0.0   0.0     0.495146  \n",
       "3     0.377644  0.600000  0.000000  0.000000   0.0   0.0     0.592233  \n",
       "4     0.287009  0.124242  0.569277  0.000000   0.0   0.0     0.368932  \n",
       "...        ...       ...       ...       ...   ...   ...          ...  \n",
       "1454  0.244713  0.675758  0.515060  0.000000   0.0   0.0     0.543689  \n",
       "1455  0.129909  0.893939  0.765060  0.463855   0.0   0.0     0.388350  \n",
       "1456  0.501511  0.624242  0.174699  0.147590   0.0   0.0     0.533981  \n",
       "1457  0.326284  0.454545  0.328313  0.120482   0.0   0.0     0.359223  \n",
       "1458  0.743202  0.612121  0.771084  0.195783   0.0   0.0     0.592233  \n",
       "\n",
       "[1459 rows x 21 columns]"
      ],
      "text/html": "<div>\n<style scoped>\n    .dataframe tbody tr th:only-of-type {\n        vertical-align: middle;\n    }\n\n    .dataframe tbody tr th {\n        vertical-align: top;\n    }\n\n    .dataframe thead th {\n        text-align: right;\n    }\n</style>\n<table border=\"1\" class=\"dataframe\">\n  <thead>\n    <tr style=\"text-align: right;\">\n      <th></th>\n      <th>venue</th>\n      <th>innings</th>\n      <th>batting_team</th>\n      <th>bowling_team</th>\n      <th>bat1</th>\n      <th>bat2</th>\n      <th>bat3</th>\n      <th>bat4</th>\n      <th>bat5</th>\n      <th>bat6</th>\n      <th>...</th>\n      <th>bat8</th>\n      <th>bat9</th>\n      <th>bat10</th>\n      <th>bow1</th>\n      <th>bow2</th>\n      <th>bow3</th>\n      <th>bow4</th>\n      <th>bow5</th>\n      <th>bow6</th>\n      <th>Total_score</th>\n    </tr>\n  </thead>\n  <tbody>\n    <tr>\n      <th>0</th>\n      <td>0.441176</td>\n      <td>0.0</td>\n      <td>0.285714</td>\n      <td>0.714286</td>\n      <td>0.802198</td>\n      <td>0.129630</td>\n      <td>0.745455</td>\n      <td>0.000000</td>\n      <td>0.000000</td>\n      <td>0.000000</td>\n      <td>...</td>\n      <td>0.0</td>\n      <td>0.0</td>\n      <td>0.0</td>\n      <td>0.513595</td>\n      <td>0.827273</td>\n      <td>0.048193</td>\n      <td>0.000000</td>\n      <td>0.0</td>\n      <td>0.0</td>\n      <td>0.572816</td>\n    </tr>\n    <tr>\n      <th>1</th>\n      <td>0.441176</td>\n      <td>1.0</td>\n      <td>0.714286</td>\n      <td>0.285714</td>\n      <td>0.677656</td>\n      <td>0.974074</td>\n      <td>0.934545</td>\n      <td>0.354015</td>\n      <td>0.186131</td>\n      <td>0.574074</td>\n      <td>...</td>\n      <td>0.0</td>\n      <td>0.0</td>\n      <td>0.0</td>\n      <td>0.051360</td>\n      <td>0.324242</td>\n      <td>0.024096</td>\n      <td>0.000000</td>\n      <td>0.0</td>\n      <td>0.0</td>\n      <td>0.233010</td>\n    </tr>\n    <tr>\n      <th>2</th>\n      <td>0.676471</td>\n      <td>0.0</td>\n      <td>0.000000</td>\n      <td>0.428571</td>\n      <td>0.633700</td>\n      <td>0.544444</td>\n      <td>0.512727</td>\n      <td>0.000000</td>\n      <td>0.000000</td>\n      <td>0.000000</td>\n      <td>...</td>\n      <td>0.0</td>\n      <td>0.0</td>\n      <td>0.0</td>\n      <td>0.135952</td>\n      <td>0.806061</td>\n      <td>0.316265</td>\n      <td>0.000000</td>\n      <td>0.0</td>\n      <td>0.0</td>\n      <td>0.495146</td>\n    </tr>\n    <tr>\n      <th>3</th>\n      <td>0.676471</td>\n      <td>1.0</td>\n      <td>0.428571</td>\n      <td>0.000000</td>\n      <td>0.388278</td>\n      <td>0.385185</td>\n      <td>0.000000</td>\n      <td>0.000000</td>\n      <td>0.000000</td>\n      <td>0.000000</td>\n      <td>...</td>\n      <td>0.0</td>\n      <td>0.0</td>\n      <td>0.0</td>\n      <td>0.377644</td>\n      <td>0.600000</td>\n      <td>0.000000</td>\n      <td>0.000000</td>\n      <td>0.0</td>\n      <td>0.0</td>\n      <td>0.592233</td>\n    </tr>\n    <tr>\n      <th>4</th>\n      <td>0.294118</td>\n      <td>0.0</td>\n      <td>0.857143</td>\n      <td>0.142857</td>\n      <td>0.919414</td>\n      <td>0.996296</td>\n      <td>0.854545</td>\n      <td>0.474453</td>\n      <td>0.000000</td>\n      <td>0.000000</td>\n      <td>...</td>\n      <td>0.0</td>\n      <td>0.0</td>\n      <td>0.0</td>\n      <td>0.287009</td>\n      <td>0.124242</td>\n      <td>0.569277</td>\n      <td>0.000000</td>\n      <td>0.0</td>\n      <td>0.0</td>\n      <td>0.368932</td>\n    </tr>\n    <tr>\n      <th>...</th>\n      <td>...</td>\n      <td>...</td>\n      <td>...</td>\n      <td>...</td>\n      <td>...</td>\n      <td>...</td>\n      <td>...</td>\n      <td>...</td>\n      <td>...</td>\n      <td>...</td>\n      <td>...</td>\n      <td>...</td>\n      <td>...</td>\n      <td>...</td>\n      <td>...</td>\n      <td>...</td>\n      <td>...</td>\n      <td>...</td>\n      <td>...</td>\n      <td>...</td>\n      <td>...</td>\n    </tr>\n    <tr>\n      <th>1454</th>\n      <td>0.029412</td>\n      <td>1.0</td>\n      <td>0.571429</td>\n      <td>0.000000</td>\n      <td>0.666667</td>\n      <td>0.722222</td>\n      <td>0.000000</td>\n      <td>0.000000</td>\n      <td>0.000000</td>\n      <td>0.000000</td>\n      <td>...</td>\n      <td>0.0</td>\n      <td>0.0</td>\n      <td>0.0</td>\n      <td>0.244713</td>\n      <td>0.675758</td>\n      <td>0.515060</td>\n      <td>0.000000</td>\n      <td>0.0</td>\n      <td>0.0</td>\n      <td>0.543689</td>\n    </tr>\n    <tr>\n      <th>1455</th>\n      <td>0.029412</td>\n      <td>0.0</td>\n      <td>0.857143</td>\n      <td>1.000000</td>\n      <td>0.340659</td>\n      <td>0.992593</td>\n      <td>0.872727</td>\n      <td>0.000000</td>\n      <td>0.000000</td>\n      <td>0.000000</td>\n      <td>...</td>\n      <td>0.0</td>\n      <td>0.0</td>\n      <td>0.0</td>\n      <td>0.129909</td>\n      <td>0.893939</td>\n      <td>0.765060</td>\n      <td>0.463855</td>\n      <td>0.0</td>\n      <td>0.0</td>\n      <td>0.388350</td>\n    </tr>\n    <tr>\n      <th>1456</th>\n      <td>0.029412</td>\n      <td>1.0</td>\n      <td>1.000000</td>\n      <td>0.857143</td>\n      <td>0.531136</td>\n      <td>0.366667</td>\n      <td>0.000000</td>\n      <td>0.000000</td>\n      <td>0.000000</td>\n      <td>0.000000</td>\n      <td>...</td>\n      <td>0.0</td>\n      <td>0.0</td>\n      <td>0.0</td>\n      <td>0.501511</td>\n      <td>0.624242</td>\n      <td>0.174699</td>\n      <td>0.147590</td>\n      <td>0.0</td>\n      <td>0.0</td>\n      <td>0.533981</td>\n    </tr>\n    <tr>\n      <th>1457</th>\n      <td>0.529412</td>\n      <td>0.0</td>\n      <td>0.428571</td>\n      <td>0.142857</td>\n      <td>0.630037</td>\n      <td>0.500000</td>\n      <td>0.174545</td>\n      <td>0.229927</td>\n      <td>0.000000</td>\n      <td>0.000000</td>\n      <td>...</td>\n      <td>0.0</td>\n      <td>0.0</td>\n      <td>0.0</td>\n      <td>0.326284</td>\n      <td>0.454545</td>\n      <td>0.328313</td>\n      <td>0.120482</td>\n      <td>0.0</td>\n      <td>0.0</td>\n      <td>0.359223</td>\n    </tr>\n    <tr>\n      <th>1458</th>\n      <td>0.529412</td>\n      <td>1.0</td>\n      <td>0.142857</td>\n      <td>0.428571</td>\n      <td>0.659341</td>\n      <td>0.774074</td>\n      <td>0.000000</td>\n      <td>0.000000</td>\n      <td>0.000000</td>\n      <td>0.000000</td>\n      <td>...</td>\n      <td>0.0</td>\n      <td>0.0</td>\n      <td>0.0</td>\n      <td>0.743202</td>\n      <td>0.612121</td>\n      <td>0.771084</td>\n      <td>0.195783</td>\n      <td>0.0</td>\n      <td>0.0</td>\n      <td>0.592233</td>\n    </tr>\n  </tbody>\n</table>\n<p>1459 rows × 21 columns</p>\n</div>"
     },
     "metadata": {},
     "execution_count": 49
    }
   ],
   "source": [
    "mms = MinMaxScaler()\n",
    "df_norm = pd.DataFrame(mms.fit_transform(df),columns=df.columns)\n",
    "df_norm"
   ]
  },
  {
   "source": [
    "# Split Dataset "
   ],
   "cell_type": "markdown",
   "metadata": {}
  },
  {
   "cell_type": "code",
   "execution_count": 59,
   "metadata": {},
   "outputs": [
    {
     "output_type": "stream",
     "name": "stdout",
     "text": [
      "(1167, 21) (292, 21)\n"
     ]
    }
   ],
   "source": [
    "train_ds,val_ds = train_test_split(df_norm,test_size=0.2,shuffle=True)\n",
    "print(train_ds.shape,val_ds.shape)"
   ]
  },
  {
   "cell_type": "code",
   "execution_count": 57,
   "metadata": {},
   "outputs": [
    {
     "output_type": "execute_result",
     "data": {
      "text/plain": [
       "tensor([[ 10.,   2.,   7.,   1.,  21., 210.,  55., 168.,   0.,   0.,   0.,   0.,\n",
       "           0.,   0., 204., 261., 114., 236., 127.,   0.,  44.],\n",
       "        [ 34.,   1.,   4.,   6., 196., 183.,   0.,   0.,   0.,   0.,   0.,   0.,\n",
       "           0.,   0., 108.,  89.,  93., 125.,   0.,   0.,  57.],\n",
       "        [  8.,   2.,   4.,   1., 196., 183., 218.,   0.,   0.,   0.,   0.,   0.,\n",
       "           0.,   0., 184., 109.,  10., 152.,  27.,   0.,  61.],\n",
       "        [ 21.,   1.,   1.,   3.,  76., 258., 254.,  11.,   0.,   0.,   0.,   0.,\n",
       "           0.,   0.,  46.,  87., 180., 268.,   0.,   0.,  38.],\n",
       "        [ 20.,   1.,   4.,   0., 238., 234., 210.,   0.,   0.,   0.,   0.,   0.,\n",
       "           0.,   0., 200., 306.,   2.,   0.,   0.,   0.,  40.]])"
      ]
     },
     "metadata": {},
     "execution_count": 57
    }
   ],
   "source": [
    "tmp = torch.Tensor(train_ds.values.astype(np.float32))\n",
    "tmp"
   ]
  },
  {
   "cell_type": "code",
   "execution_count": 58,
   "metadata": {},
   "outputs": [
    {
     "output_type": "execute_result",
     "data": {
      "text/plain": [
       "tensor([44., 57., 61., 38., 40.])"
      ]
     },
     "metadata": {},
     "execution_count": 58
    }
   ],
   "source": [
    "tmp[:,-1]"
   ]
  },
  {
   "cell_type": "code",
   "execution_count": 62,
   "metadata": {},
   "outputs": [
    {
     "output_type": "stream",
     "name": "stdout",
     "text": [
      "torch.Size([1167, 20]) torch.Size([1167, 1])\n"
     ]
    }
   ],
   "source": [
    "x_train = torch.tensor(train_ds[input_params].values.astype(np.float32))\n",
    "\n",
    "y_train = torch.tensor(train_ds[output_param].values.astype(np.float32))\n",
    "\n",
    "print(x_train.shape,y_train.shape)"
   ]
  },
  {
   "cell_type": "code",
   "execution_count": 63,
   "metadata": {},
   "outputs": [
    {
     "output_type": "stream",
     "name": "stdout",
     "text": [
      "torch.Size([292, 20]) torch.Size([292, 1])\n"
     ]
    }
   ],
   "source": [
    "x_val = torch.tensor(val_ds[input_params].values.astype(np.float32))\n",
    "\n",
    "y_val = torch.tensor(val_ds[output_param].values.astype(np.float32))\n",
    "\n",
    "print(x_val.shape,y_val.shape)"
   ]
  },
  {
   "cell_type": "code",
   "execution_count": 64,
   "metadata": {},
   "outputs": [],
   "source": [
    "x_train_dl = torch.utils.data.DataLoader(x_train,batch_size=10,shuffle=True)\n",
    "y_train_dl = torch.utils.data.DataLoader(y_train,batch_size=10,shuffle=True)\n",
    "\n",
    "x_val_dl = torch.utils.data.DataLoader(x_val,batch_size=10,shuffle=True)\n",
    "y_val_dl = torch.utils.data.DataLoader(y_val,batch_size=10,shuffle=True)\n",
    "\n"
   ]
  },
  {
   "source": [
    "# Define model"
   ],
   "cell_type": "markdown",
   "metadata": {}
  },
  {
   "cell_type": "code",
   "execution_count": 67,
   "metadata": {},
   "outputs": [
    {
     "output_type": "stream",
     "name": "stdout",
     "text": [
      "torch.Size([1, 20])\ntorch.Size([1])\n"
     ]
    }
   ],
   "source": [
    "model = torch.nn.Linear(20, 1)\n",
    "print(model.weight.shape)\n",
    "print(model.bias.shape)"
   ]
  },
  {
   "cell_type": "code",
   "execution_count": 74,
   "metadata": {},
   "outputs": [
    {
     "output_type": "stream",
     "name": "stdout",
     "text": [
      "tensor([-0.0149], grad_fn=<AddBackward0>)\ntensor([0.1831], grad_fn=<AddBackward0>)\ntensor([0.3368], grad_fn=<AddBackward0>)\ntensor([0.0714], grad_fn=<AddBackward0>)\ntensor([0.1234], grad_fn=<AddBackward0>)\ntensor([-0.0606], grad_fn=<AddBackward0>)\ntensor([0.0422], grad_fn=<AddBackward0>)\ntensor([0.1370], grad_fn=<AddBackward0>)\ntensor([0.0621], grad_fn=<AddBackward0>)\ntensor([0.0449], grad_fn=<AddBackward0>)\n"
     ]
    }
   ],
   "source": [
    "dl = iter(x_train_dl)\n",
    "for j in dl.next():\n",
    "    print(model(j),)\n",
    "    #break"
   ]
  },
  {
   "cell_type": "code",
   "execution_count": null,
   "metadata": {},
   "outputs": [],
   "source": []
  }
 ]
}