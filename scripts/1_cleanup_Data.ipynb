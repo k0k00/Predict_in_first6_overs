{
 "metadata": {
  "language_info": {
   "codemirror_mode": {
    "name": "ipython",
    "version": 3
   },
   "file_extension": ".py",
   "mimetype": "text/x-python",
   "name": "python",
   "nbconvert_exporter": "python",
   "pygments_lexer": "ipython3",
   "version": ""
  },
  "orig_nbformat": 2,
  "kernelspec": {
   "name": "pythonjvsc74a57bd077dcdf196944021a492e8af9322675174f43bd84fa8cdc1beb5f85b333fd20f6",
   "display_name": "Python"
  },
  "metadata": {
   "interpreter": {
    "hash": "77dcdf196944021a492e8af9322675174f43bd84fa8cdc1beb5f85b333fd20f6"
   }
  }
 },
 "nbformat": 4,
 "nbformat_minor": 2,
 "cells": [
  {
   "source": [
    "\n",
    "# CRICKET AND CODING - CRACK THE CHALLENGE \n",
    "## Problem Statement:\n",
    "\n",
    "    Given certain input parameters regarding an innings of a T20 cricket match, predict the total runs scored by the batting team at the end of 6 overs.\n",
    "\n",
    "## Input Data:\n",
    "    the link to the Dataset (Source: cricsheet.org) which contains historic data of T20 matches that have occurred in the past. [https://cricsheet.org/downloads/ipl_male_csv2.zip] \n",
    "\n"
   ],
   "cell_type": "markdown",
   "metadata": {}
  },
  {
   "source": [
    "# 1. Download IPL Dataset"
   ],
   "cell_type": "markdown",
   "metadata": {}
  },
  {
   "cell_type": "code",
   "execution_count": 1,
   "metadata": {},
   "outputs": [],
   "source": [
    "import requests, zipfile, io,glob,shutil,json\n",
    "from pathlib import Path\n",
    "from sklearn.preprocessing import LabelEncoder\n",
    "from pprint import pprint\n",
    "\n",
    "import pandas as pd"
   ]
  },
  {
   "cell_type": "code",
   "execution_count": 2,
   "metadata": {},
   "outputs": [],
   "source": [
    "data_path = Path(Path.cwd(),'data')\n",
    "\n",
    "if not data_path.exists():\n",
    "    # https://internalapp.nptel.ac.in/contest/reference_docs/ipl_csv2.zip\n",
    "    # https://cricsheet.org/downloads/ipl_csv.zip\n",
    "    # https://cricsheet.org/downloads/ipl_male_csv2.zip\n",
    "    res = requests.get(r'https://internalapp.nptel.ac.in/contest/reference_docs/ipl_csv2.zip',stream=True)\n",
    "    if res.status_code == 200:\n",
    "        print('### Downloading the Dataset')\n",
    "        z = zipfile.ZipFile(io.BytesIO(res.content))\n",
    "        z.extractall(data_path)\n",
    "\n",
    "\n"
   ]
  },
  {
   "cell_type": "code",
   "execution_count": 3,
   "metadata": {},
   "outputs": [
    {
     "output_type": "stream",
     "name": "stdout",
     "text": [
      "(194354, 22)\n",
      "C:\\Users\\skanukollu\\AppData\\Roaming\\Python\\Python38\\site-packages\\IPython\\core\\interactiveshell.py:3165: DtypeWarning: Columns (1) have mixed types.Specify dtype option on import or set low_memory=False.\n",
      "  has_raised = await self.run_ast_nodes(code_ast.body, cell_name,\n"
     ]
    }
   ],
   "source": [
    "df = pd.read_csv('data\\\\all_matches.csv',parse_dates = ['start_date'])\n",
    "#df_orig = df\n",
    "print(df.shape)"
   ]
  },
  {
   "source": [
    "# 2. Clean the dataset\n",
    "1. Filter the current seasion -2021 match details (which we use to test)\n",
    "1. Drop columns :  'season','start_date'\n",
    "2. Delete the non existing teams : \n",
    "        'Kochi Tuskers Kerala' 'Pune Warriors','Rising Pune Supergiants', 'Rising Pune Supergiant','Gujarat Lions'\n",
    "        \n",
    "3. Replace the OLD team names with new team name\n",
    "4. Replace the same venue details with unique names \n",
    "5. Can remove the innings >2 details \n"
   ],
   "cell_type": "markdown",
   "metadata": {}
  },
  {
   "cell_type": "code",
   "execution_count": 4,
   "metadata": {},
   "outputs": [],
   "source": [
    "#df = df.loc[df['start_date'].dt.year < 2021]\n",
    "\n"
   ]
  },
  {
   "cell_type": "code",
   "execution_count": 5,
   "metadata": {},
   "outputs": [
    {
     "output_type": "stream",
     "name": "stderr",
     "text": [
      "<ipython-input-5-fba3b4729268>:20: UserWarning: Boolean Series key will be reindexed to match DataFrame index.\n",
      "  df = df[~mask_bow_team]\n",
      "(167335, 20)\n",
      "'### Total 33 : venue details present '\n",
      "'### Total 8  : Batting teams are there'\n",
      "'### Total 8  : Bowlling teams are there'\n",
      "(167335, 20)\n"
     ]
    }
   ],
   "source": [
    "# 1. Drop columns \n",
    "df = df.drop(columns=['season','start_date']) #,inplace=True)\n",
    "\n",
    "# 2. Delete Non-existing teams : 'Kochi Tuskers Kerala' 'Pune Warriors','Rising Pune Supergiants', 'Rising Pune Supergiant','Gujarat Lions'\n",
    "\n",
    "mask_bat_team = df['batting_team'].isin(['Kochi Tuskers Kerala',\n",
    "                                'Pune Warriors',\n",
    "                                'Rising Pune Supergiants',\n",
    "                                'Rising Pune Supergiant',\n",
    "                                'Gujarat Lions'                                \n",
    "                            ])\n",
    "\n",
    "mask_bow_team = df['bowling_team'].isin(['Kochi Tuskers Kerala',\n",
    "                                'Pune Warriors',\n",
    "                                'Rising Pune Supergiants',\n",
    "                                'Rising Pune Supergiant',\n",
    "                                'Gujarat Lions'                                \n",
    "                            ])\n",
    "df = df[~mask_bat_team]\n",
    "df = df[~mask_bow_team]\n",
    "print(df.shape)\n",
    "\n",
    "#3. Replace the old team names with new team name:\n",
    "df.loc[df.batting_team == 'Delhi Daredevils','batting_team'] = 'Delhi Capitals'\n",
    "df.loc[df.batting_team == 'Deccan Chargers','batting_team'] = 'Sunrisers Hyderabad'\n",
    "\n",
    "df.loc[df.bowling_team == 'Delhi Daredevils','bowling_team'] = 'Delhi Capitals'\n",
    "df.loc[df.bowling_team == 'Deccan Chargers','bowling_team'] = 'Sunrisers Hyderabad'\n",
    "\n",
    "\n",
    "\n",
    "# 4. Replace venue column unique names :\n",
    "df.loc[df.venue == 'M.Chinnaswamy Stadium','venue'] = 'M Chinnaswamy Stadium'\n",
    "df.loc[df.venue == 'Punjab Cricket Association IS Bindra Stadium, Mohali','venue'] = 'Punjab Cricket Association Stadium'\n",
    "df.loc[df.venue == 'Punjab Cricket Association IS Bindra Stadium','venue'] = 'Punjab Cricket Association Stadium'\n",
    "df.loc[df.venue == 'Wankhede Stadium, Mumbai','venue'] = 'Wankhede Stadium'\n",
    "df.loc[df.venue == 'Rajiv Gandhi International Stadium, Uppal','venue'] = 'Rajiv Gandhi International Stadium'\n",
    "df.loc[df.venue == 'MA Chidambaram Stadium, Chepauk' ,'venue'] = 'MA Chidambaram Stadium'\n",
    "df.loc[df.venue == 'MA Chidambaram Stadium, Chepauk, Chennai' ,'venue'] = 'MA Chidambaram Stadium'\n",
    "\n",
    "pprint('### Total {} : venue details present '.format(len(df.venue.unique())))\n",
    "pprint('### Total {}  : Batting teams are there'.format(len(df.batting_team.unique())))\n",
    "pprint('### Total {}  : Bowlling teams are there'.format(len(df.bowling_team.unique())))\n",
    "\n",
    "print(df.shape)"
   ]
  },
  {
   "source": [
    "### Replace the team name in short"
   ],
   "cell_type": "markdown",
   "metadata": {}
  },
  {
   "cell_type": "code",
   "execution_count": 6,
   "metadata": {},
   "outputs": [
    {
     "output_type": "execute_result",
     "data": {
      "text/plain": [
       "array(['KKR', 'RCB', 'CSK', 'KXIP', 'RR', 'DC', 'SRH', 'MI'], dtype=object)"
      ]
     },
     "metadata": {},
     "execution_count": 6
    }
   ],
   "source": [
    "\n",
    "df.loc[df.batting_team == 'Kolkata Knight Riders', 'batting_team'] = 'KKR'\n",
    "df.loc[df.batting_team == 'Royal Challengers Bangalore', 'batting_team'] = 'RCB'\n",
    "df.loc[df.batting_team == 'Chennai Super Kings', 'batting_team'] = 'CSK'\n",
    "df.loc[df.batting_team == 'Kings XI Punjab', 'batting_team'] = 'KXIP'\n",
    "df.loc[df.batting_team == 'Rajasthan Royals', 'batting_team'] = 'RR'\n",
    "df.loc[df.batting_team == 'Delhi Capitals', 'batting_team'] = 'DC'\n",
    "df.loc[df.batting_team == 'Sunrisers Hyderabad', 'batting_team'] = 'SRH'\n",
    "df.loc[df.batting_team == 'Mumbai Indians', 'batting_team'] = 'MI'\n",
    "\n",
    "df.loc[df.bowling_team == 'Kolkata Knight Riders', 'bowling_team'] = 'KKR'\n",
    "df.loc[df.bowling_team == 'Royal Challengers Bangalore', 'bowling_team'] = 'RCB'\n",
    "df.loc[df.bowling_team == 'Chennai Super Kings', 'bowling_team'] = 'CSK'\n",
    "df.loc[df.bowling_team == 'Kings XI Punjab', 'bowling_team'] = 'KXIP'\n",
    "df.loc[df.bowling_team == 'Rajasthan Royals', 'bowling_team'] = 'RR'\n",
    "df.loc[df.bowling_team == 'Delhi Capitals', 'bowling_team'] = 'DC'\n",
    "df.loc[df.bowling_team == 'Sunrisers Hyderabad', 'bowling_team'] = 'SRH'\n",
    "df.loc[df.bowling_team == 'Mumbai Indians', 'bowling_team'] = 'MI'\n",
    "\n",
    "df.batting_team.unique()"
   ]
  },
  {
   "source": [
    "# Rename striker and bowler column names:\n"
   ],
   "cell_type": "markdown",
   "metadata": {}
  },
  {
   "cell_type": "code",
   "execution_count": 7,
   "metadata": {
    "tags": []
   },
   "outputs": [
    {
     "output_type": "stream",
     "name": "stdout",
     "text": [
      "<class 'pandas.core.frame.DataFrame'>\nInt64Index: 167335 entries, 0 to 194353\nData columns (total 20 columns):\n #   Column                  Non-Null Count   Dtype  \n---  ------                  --------------   -----  \n 0   match_id                167335 non-null  int64  \n 1   venue                   167335 non-null  object \n 2   innings                 167335 non-null  int64  \n 3   ball                    167335 non-null  float64\n 4   batting_team            167335 non-null  object \n 5   bowling_team            167335 non-null  object \n 6   batsmen                 167335 non-null  object \n 7   batsmen_non_striker     167335 non-null  object \n 8   bowlers                 167335 non-null  object \n 9   runs_off_bat            167335 non-null  int64  \n 10  extras                  167335 non-null  int64  \n 11  wides                   5119 non-null    float64\n 12  noballs                 674 non-null     float64\n 13  byes                    450 non-null     float64\n 14  legbyes                 2703 non-null    float64\n 15  penalty                 2 non-null       float64\n 16  wicket_type             8236 non-null    object \n 17  player_dismissed        8236 non-null    object \n 18  other_wicket_type       0 non-null       float64\n 19  other_player_dismissed  0 non-null       float64\ndtypes: float64(8), int64(4), object(8)\nmemory usage: 26.8+ MB\n"
     ]
    }
   ],
   "source": [
    "df = df.rename(columns= {'striker' : 'batsmen','non_striker' : 'batsmen_non_striker','bowler' : 'bowlers'})\n",
    "df.info()"
   ]
  },
  {
   "cell_type": "code",
   "execution_count": 8,
   "metadata": {},
   "outputs": [],
   "source": [
    "df['Total_score']  = df.runs_off_bat + df.extras\n",
    "df = df.drop(columns = ['wides','noballs', 'byes', 'legbyes', 'penalty', 'wicket_type', 'other_wicket_type', 'other_player_dismissed'],axis=1)\n",
    "df[(df.ball<6.0) & (df.innings < 3)].to_csv('1_cleaned_Data.csv',index=False)\n"
   ]
  },
  {
   "cell_type": "code",
   "execution_count": 9,
   "metadata": {},
   "outputs": [
    {
     "output_type": "execute_result",
     "data": {
      "text/plain": [
       "(52597, 13)"
      ]
     },
     "metadata": {},
     "execution_count": 9
    }
   ],
   "source": [
    "df = pd.read_csv('1_cleaned_Data.csv')\n",
    "df.shape"
   ]
  },
  {
   "cell_type": "code",
   "execution_count": null,
   "metadata": {},
   "outputs": [],
   "source": [
    "label_encode_dict = {}\n",
    "\n",
    "le = LabelEncoder()\n",
    "le.fit(df.batsmen)\n",
    "batsmen_e = le.transform(df.batsmen)\n",
    "batsmen_e_inv = le.inverse_transform(batsmen_e)\n",
    "\n",
    "label_encode_dict['batsmen'] = dict(zip(batsmen_e_inv,map(int,batsmen_e)))\n",
    "\n",
    "le.fit(df.bowlers)\n",
    "bowlers_e = le.transform(df.bowlers)\n",
    "bowlers_e_inv = le.inverse_transform(bowlers_e)\n",
    "\n",
    "label_encode_dict['bowlers'] = dict(zip(bowlers_e_inv,map(int,bowlers_e)))\n",
    "\n",
    "le.fit(df.venue)\n",
    "venue_e = le.transform(df.venue)\n",
    "venue_e_inv = le.inverse_transform(venue_e)\n",
    "\n",
    "label_encode_dict['venue'] = dict(zip(venue_e_inv,map(int,venue_e)))\n",
    "\n",
    "\n",
    "le.fit(df.batting_team)\n",
    "batting_team_e = le.transform(df.batting_team)\n",
    "batting_team_e_inv = le.inverse_transform(batting_team_e)\n",
    "\n",
    "label_encode_dict['batting_team'] = dict(zip(batting_team_e_inv,map(int,batting_team_e)))\n",
    "\n",
    "le.fit(df.bowling_team)\n",
    "bowling_team_e = le.transform(df.bowling_team)\n",
    "bowling_team_e_inv = le.inverse_transform(bowling_team_e)\n",
    "\n",
    "label_encode_dict['bowling_team'] = dict(zip(bowling_team_e_inv,map(int,bowling_team_e)))\n",
    "\n",
    "\n",
    "\n",
    "with open('label_encode.json','w') as f:\n",
    "    json.dump(label_encode_dict,f)"
   ]
  },
  {
   "cell_type": "code",
   "execution_count": null,
   "metadata": {},
   "outputs": [],
   "source": []
  }
 ]
}