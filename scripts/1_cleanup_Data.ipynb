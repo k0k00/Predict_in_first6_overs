{
 "metadata": {
  "language_info": {
   "codemirror_mode": {
    "name": "ipython",
    "version": 3
   },
   "file_extension": ".py",
   "mimetype": "text/x-python",
   "name": "python",
   "nbconvert_exporter": "python",
   "pygments_lexer": "ipython3",
   "version": "3.8.5"
  },
  "orig_nbformat": 2,
  "kernelspec": {
   "name": "python385jvsc74a57bd077dcdf196944021a492e8af9322675174f43bd84fa8cdc1beb5f85b333fd20f6",
   "display_name": "Python 3.8.5 64-bit"
  },
  "metadata": {
   "interpreter": {
    "hash": "77dcdf196944021a492e8af9322675174f43bd84fa8cdc1beb5f85b333fd20f6"
   }
  }
 },
 "nbformat": 4,
 "nbformat_minor": 2,
 "cells": [
  {
   "source": [
    "\n",
    "# CRICKET AND CODING - CRACK THE CHALLENGE \n",
    "## Problem Statement:\n",
    "\n",
    "    Given certain input parameters regarding an innings of a T20 cricket match, predict the total runs scored by the batting team at the end of 6 overs.\n",
    "\n",
    "## Input Data:\n",
    "    the link to the Dataset (Source: cricsheet.org) which contains historic data of T20 matches that have occurred in the past. [https://cricsheet.org/downloads/ipl_male_csv2.zip] \n",
    "\n"
   ],
   "cell_type": "markdown",
   "metadata": {}
  },
  {
   "source": [
    "# 1. Download IPL Dataset"
   ],
   "cell_type": "markdown",
   "metadata": {}
  },
  {
   "cell_type": "code",
   "execution_count": 1,
   "metadata": {},
   "outputs": [],
   "source": [
    "import requests, zipfile, io,glob,shutil,json\n",
    "from pathlib import Path\n",
    "from sklearn.preprocessing import LabelEncoder\n",
    "from pprint import pprint\n",
    "\n",
    "import pandas as pd"
   ]
  },
  {
   "cell_type": "code",
   "execution_count": 2,
   "metadata": {},
   "outputs": [],
   "source": [
    "data_path = Path(Path.cwd(),'data')\n",
    "\n",
    "if not data_path.exists():\n",
    "    # https://internalapp.nptel.ac.in/contest/reference_docs/ipl_csv2.zip\n",
    "    # https://cricsheet.org/downloads/ipl_csv.zip\n",
    "    # https://cricsheet.org/downloads/ipl_male_csv2.zip\n",
    "    res = requests.get(r'https://internalapp.nptel.ac.in/contest/reference_docs/ipl_csv2.zip',stream=True)\n",
    "    if res.status_code == 200:\n",
    "        print('### Downloading the Dataset')\n",
    "        z = zipfile.ZipFile(io.BytesIO(res.content))\n",
    "        z.extractall(data_path)\n",
    "\n",
    "\n"
   ]
  },
  {
   "cell_type": "code",
   "execution_count": 23,
   "metadata": {},
   "outputs": [
    {
     "output_type": "stream",
     "name": "stdout",
     "text": [
      "Index(['match_id', 'season', 'start_date', 'venue', 'innings', 'ball',\n",
      "       'batting_team', 'bowling_team', 'striker', 'non_striker', 'bowler',\n",
      "       'runs_off_bat', 'extras', 'wides', 'noballs', 'byes', 'legbyes',\n",
      "       'penalty', 'wicket_type', 'player_dismissed', 'other_wicket_type',\n",
      "       'other_player_dismissed'],\n",
      "      dtype='object')\n",
      "C:\\Users\\skanukollu\\AppData\\Roaming\\Python\\Python38\\site-packages\\IPython\\core\\interactiveshell.py:3165: DtypeWarning: Columns (1) have mixed types.Specify dtype option on import or set low_memory=False.\n",
      "  has_raised = await self.run_ast_nodes(code_ast.body, cell_name,\n"
     ]
    },
    {
     "output_type": "execute_result",
     "data": {
      "text/plain": [
       "   match_id   season start_date                  venue  innings  ball  \\\n",
       "0    335982  2007/08 2008-04-18  M Chinnaswamy Stadium        1   0.1   \n",
       "1    335982  2007/08 2008-04-18  M Chinnaswamy Stadium        1   0.2   \n",
       "2    335982  2007/08 2008-04-18  M Chinnaswamy Stadium        1   0.3   \n",
       "3    335982  2007/08 2008-04-18  M Chinnaswamy Stadium        1   0.4   \n",
       "4    335982  2007/08 2008-04-18  M Chinnaswamy Stadium        1   0.5   \n",
       "\n",
       "            batting_team                 bowling_team      striker  \\\n",
       "0  Kolkata Knight Riders  Royal Challengers Bangalore   SC Ganguly   \n",
       "1  Kolkata Knight Riders  Royal Challengers Bangalore  BB McCullum   \n",
       "2  Kolkata Knight Riders  Royal Challengers Bangalore  BB McCullum   \n",
       "3  Kolkata Knight Riders  Royal Challengers Bangalore  BB McCullum   \n",
       "4  Kolkata Knight Riders  Royal Challengers Bangalore  BB McCullum   \n",
       "\n",
       "   non_striker  ... extras  wides  noballs  byes  legbyes  penalty  \\\n",
       "0  BB McCullum  ...      1    NaN      NaN   NaN      1.0      NaN   \n",
       "1   SC Ganguly  ...      0    NaN      NaN   NaN      NaN      NaN   \n",
       "2   SC Ganguly  ...      1    1.0      NaN   NaN      NaN      NaN   \n",
       "3   SC Ganguly  ...      0    NaN      NaN   NaN      NaN      NaN   \n",
       "4   SC Ganguly  ...      0    NaN      NaN   NaN      NaN      NaN   \n",
       "\n",
       "   wicket_type  player_dismissed other_wicket_type other_player_dismissed  \n",
       "0          NaN               NaN               NaN                    NaN  \n",
       "1          NaN               NaN               NaN                    NaN  \n",
       "2          NaN               NaN               NaN                    NaN  \n",
       "3          NaN               NaN               NaN                    NaN  \n",
       "4          NaN               NaN               NaN                    NaN  \n",
       "\n",
       "[5 rows x 22 columns]"
      ],
      "text/html": "<div>\n<style scoped>\n    .dataframe tbody tr th:only-of-type {\n        vertical-align: middle;\n    }\n\n    .dataframe tbody tr th {\n        vertical-align: top;\n    }\n\n    .dataframe thead th {\n        text-align: right;\n    }\n</style>\n<table border=\"1\" class=\"dataframe\">\n  <thead>\n    <tr style=\"text-align: right;\">\n      <th></th>\n      <th>match_id</th>\n      <th>season</th>\n      <th>start_date</th>\n      <th>venue</th>\n      <th>innings</th>\n      <th>ball</th>\n      <th>batting_team</th>\n      <th>bowling_team</th>\n      <th>striker</th>\n      <th>non_striker</th>\n      <th>...</th>\n      <th>extras</th>\n      <th>wides</th>\n      <th>noballs</th>\n      <th>byes</th>\n      <th>legbyes</th>\n      <th>penalty</th>\n      <th>wicket_type</th>\n      <th>player_dismissed</th>\n      <th>other_wicket_type</th>\n      <th>other_player_dismissed</th>\n    </tr>\n  </thead>\n  <tbody>\n    <tr>\n      <th>0</th>\n      <td>335982</td>\n      <td>2007/08</td>\n      <td>2008-04-18</td>\n      <td>M Chinnaswamy Stadium</td>\n      <td>1</td>\n      <td>0.1</td>\n      <td>Kolkata Knight Riders</td>\n      <td>Royal Challengers Bangalore</td>\n      <td>SC Ganguly</td>\n      <td>BB McCullum</td>\n      <td>...</td>\n      <td>1</td>\n      <td>NaN</td>\n      <td>NaN</td>\n      <td>NaN</td>\n      <td>1.0</td>\n      <td>NaN</td>\n      <td>NaN</td>\n      <td>NaN</td>\n      <td>NaN</td>\n      <td>NaN</td>\n    </tr>\n    <tr>\n      <th>1</th>\n      <td>335982</td>\n      <td>2007/08</td>\n      <td>2008-04-18</td>\n      <td>M Chinnaswamy Stadium</td>\n      <td>1</td>\n      <td>0.2</td>\n      <td>Kolkata Knight Riders</td>\n      <td>Royal Challengers Bangalore</td>\n      <td>BB McCullum</td>\n      <td>SC Ganguly</td>\n      <td>...</td>\n      <td>0</td>\n      <td>NaN</td>\n      <td>NaN</td>\n      <td>NaN</td>\n      <td>NaN</td>\n      <td>NaN</td>\n      <td>NaN</td>\n      <td>NaN</td>\n      <td>NaN</td>\n      <td>NaN</td>\n    </tr>\n    <tr>\n      <th>2</th>\n      <td>335982</td>\n      <td>2007/08</td>\n      <td>2008-04-18</td>\n      <td>M Chinnaswamy Stadium</td>\n      <td>1</td>\n      <td>0.3</td>\n      <td>Kolkata Knight Riders</td>\n      <td>Royal Challengers Bangalore</td>\n      <td>BB McCullum</td>\n      <td>SC Ganguly</td>\n      <td>...</td>\n      <td>1</td>\n      <td>1.0</td>\n      <td>NaN</td>\n      <td>NaN</td>\n      <td>NaN</td>\n      <td>NaN</td>\n      <td>NaN</td>\n      <td>NaN</td>\n      <td>NaN</td>\n      <td>NaN</td>\n    </tr>\n    <tr>\n      <th>3</th>\n      <td>335982</td>\n      <td>2007/08</td>\n      <td>2008-04-18</td>\n      <td>M Chinnaswamy Stadium</td>\n      <td>1</td>\n      <td>0.4</td>\n      <td>Kolkata Knight Riders</td>\n      <td>Royal Challengers Bangalore</td>\n      <td>BB McCullum</td>\n      <td>SC Ganguly</td>\n      <td>...</td>\n      <td>0</td>\n      <td>NaN</td>\n      <td>NaN</td>\n      <td>NaN</td>\n      <td>NaN</td>\n      <td>NaN</td>\n      <td>NaN</td>\n      <td>NaN</td>\n      <td>NaN</td>\n      <td>NaN</td>\n    </tr>\n    <tr>\n      <th>4</th>\n      <td>335982</td>\n      <td>2007/08</td>\n      <td>2008-04-18</td>\n      <td>M Chinnaswamy Stadium</td>\n      <td>1</td>\n      <td>0.5</td>\n      <td>Kolkata Knight Riders</td>\n      <td>Royal Challengers Bangalore</td>\n      <td>BB McCullum</td>\n      <td>SC Ganguly</td>\n      <td>...</td>\n      <td>0</td>\n      <td>NaN</td>\n      <td>NaN</td>\n      <td>NaN</td>\n      <td>NaN</td>\n      <td>NaN</td>\n      <td>NaN</td>\n      <td>NaN</td>\n      <td>NaN</td>\n      <td>NaN</td>\n    </tr>\n  </tbody>\n</table>\n<p>5 rows × 22 columns</p>\n</div>"
     },
     "metadata": {},
     "execution_count": 23
    }
   ],
   "source": [
    "df = pd.read_csv('data\\\\all_matches.csv',parse_dates = ['start_date'])\n",
    "#df_orig = df\n",
    "print(df.columns)\n",
    "df.head()"
   ]
  },
  {
   "cell_type": "code",
   "execution_count": 35,
   "metadata": {},
   "outputs": [
    {
     "output_type": "execute_result",
     "data": {
      "text/plain": [
       "{'Chennai Super Kings': array(['RD Gaikwad', 'F du Plessis', 'MM Ali', 'SK Raina', 'AT Rayudu',\n",
       "        'RA Jadeja', 'MS Dhoni', 'SM Curran'], dtype=object),\n",
       " 'Delhi Capitals': array(['PP Shaw', 'S Dhawan', 'RR Pant', 'MP Stoinis'], dtype=object),\n",
       " 'Kolkata Knight Riders': array(['N Rana', 'Shubman Gill', 'RA Tripathi', 'AD Russell',\n",
       "        'EJG Morgan', 'KD Karthik', 'Shakib Al Hasan'], dtype=object),\n",
       " 'Mumbai Indians': array(['RG Sharma', 'CA Lynn', 'SA Yadav', 'Ishan Kishan', 'HH Pandya',\n",
       "        'KA Pollard', 'KH Pandya', 'M Jansen', 'JJ Bumrah'], dtype=object),\n",
       " 'Royal Challengers Bangalore': array(['Washington Sundar', 'V Kohli', 'RM Patidar', 'GJ Maxwell',\n",
       "        'AB de Villiers', 'Shahbaz Ahmed', 'DT Christian', 'KA Jamieson',\n",
       "        'HV Patel', 'Mohammed Siraj'], dtype=object),\n",
       " 'Sunrisers Hyderabad': array(['WP Saha', 'DA Warner', 'MK Pandey', 'JM Bairstow',\n",
       "        'Mohammad Nabi', 'V Shankar', 'Abdul Samad'], dtype=object)}"
      ]
     },
     "metadata": {},
     "execution_count": 35
    }
   ],
   "source": [
    "df.loc[df['start_date'].dt.year == 2021].groupby('batting_team')['striker'].unique().to_dict()"
   ]
  },
  {
   "source": [
    "# 2. Clean the dataset\n",
    "1. Filter the current seasion -2021 match details (which we use to test)\n",
    "1. Drop columns :  'season','start_date'\n",
    "2. Delete the non existing teams : \n",
    "        'Kochi Tuskers Kerala' 'Pune Warriors','Rising Pune Supergiants', 'Rising Pune Supergiant','Gujarat Lions'\n",
    "        \n",
    "3. Replace the OLD team names with new team name\n",
    "4. Replace the same venue details with unique names \n",
    "5. Can remove the innings >2 details \n"
   ],
   "cell_type": "markdown",
   "metadata": {}
  },
  {
   "cell_type": "code",
   "execution_count": 4,
   "metadata": {},
   "outputs": [],
   "source": [
    "#df = df.loc[df['start_date'].dt.year < 2021]\n",
    "\n"
   ]
  },
  {
   "cell_type": "code",
   "execution_count": 14,
   "metadata": {},
   "outputs": [
    {
     "output_type": "stream",
     "name": "stderr",
     "text": [
      "<ipython-input-14-fba3b4729268>:20: UserWarning: Boolean Series key will be reindexed to match DataFrame index.\n",
      "  df = df[~mask_bow_team]\n",
      "(167335, 20)\n",
      "'### Total 33 : venue details present '\n",
      "'### Total 8  : Batting teams are there'\n",
      "'### Total 8  : Bowlling teams are there'\n",
      "(167335, 20)\n"
     ]
    }
   ],
   "source": [
    "# 1. Drop columns \n",
    "df = df.drop(columns=['season','start_date']) #,inplace=True)\n",
    "\n",
    "# 2. Delete Non-existing teams : 'Kochi Tuskers Kerala' 'Pune Warriors','Rising Pune Supergiants', 'Rising Pune Supergiant','Gujarat Lions'\n",
    "\n",
    "mask_bat_team = df['batting_team'].isin(['Kochi Tuskers Kerala',\n",
    "                                'Pune Warriors',\n",
    "                                'Rising Pune Supergiants',\n",
    "                                'Rising Pune Supergiant',\n",
    "                                'Gujarat Lions'                                \n",
    "                            ])\n",
    "\n",
    "mask_bow_team = df['bowling_team'].isin(['Kochi Tuskers Kerala',\n",
    "                                'Pune Warriors',\n",
    "                                'Rising Pune Supergiants',\n",
    "                                'Rising Pune Supergiant',\n",
    "                                'Gujarat Lions'                                \n",
    "                            ])\n",
    "df = df[~mask_bat_team]\n",
    "df = df[~mask_bow_team]\n",
    "print(df.shape)\n",
    "\n",
    "#3. Replace the old team names with new team name:\n",
    "df.loc[df.batting_team == 'Delhi Daredevils','batting_team'] = 'Delhi Capitals'\n",
    "df.loc[df.batting_team == 'Deccan Chargers','batting_team'] = 'Sunrisers Hyderabad'\n",
    "\n",
    "df.loc[df.bowling_team == 'Delhi Daredevils','bowling_team'] = 'Delhi Capitals'\n",
    "df.loc[df.bowling_team == 'Deccan Chargers','bowling_team'] = 'Sunrisers Hyderabad'\n",
    "\n",
    "\n",
    "\n",
    "# 4. Replace venue column unique names :\n",
    "df.loc[df.venue == 'M.Chinnaswamy Stadium','venue'] = 'M Chinnaswamy Stadium'\n",
    "df.loc[df.venue == 'Punjab Cricket Association IS Bindra Stadium, Mohali','venue'] = 'Punjab Cricket Association Stadium'\n",
    "df.loc[df.venue == 'Punjab Cricket Association IS Bindra Stadium','venue'] = 'Punjab Cricket Association Stadium'\n",
    "df.loc[df.venue == 'Wankhede Stadium, Mumbai','venue'] = 'Wankhede Stadium'\n",
    "df.loc[df.venue == 'Rajiv Gandhi International Stadium, Uppal','venue'] = 'Rajiv Gandhi International Stadium'\n",
    "df.loc[df.venue == 'MA Chidambaram Stadium, Chepauk' ,'venue'] = 'MA Chidambaram Stadium'\n",
    "df.loc[df.venue == 'MA Chidambaram Stadium, Chepauk, Chennai' ,'venue'] = 'MA Chidambaram Stadium'\n",
    "\n",
    "pprint('### Total {} : venue details present '.format(len(df.venue.unique())))\n",
    "pprint('### Total {}  : Batting teams are there'.format(len(df.batting_team.unique())))\n",
    "pprint('### Total {}  : Bowlling teams are there'.format(len(df.bowling_team.unique())))\n",
    "\n",
    "print(df.shape)"
   ]
  },
  {
   "cell_type": "code",
   "execution_count": 20,
   "metadata": {},
   "outputs": [
    {
     "output_type": "execute_result",
     "data": {
      "text/plain": [
       "{'Chennai Super Kings': array(['JDP Oram', 'MS Gony', 'M Muralitharan', 'P Amarnath',\n",
       "        'Joginder Sharma', 'JA Morkel', 'M Ntini', 'SK Raina', 'S Vidyut',\n",
       "        'L Balaji', 'CK Kapugedera', 'T Thushara', 'A Flintoff', 'S Tyagi',\n",
       "        'SB Jakati', 'R Ashwin', 'JM Kemp', 'NLTC Perera', 'C Ganapathy',\n",
       "        'DE Bollinger', 'TG Southee', 'S Randiv', 'SB Styris', 'DJ Bravo',\n",
       "        'RA Jadeja', 'F du Plessis', 'KMDN Kulasekara', 'VY Mahesh',\n",
       "        'BW Hilfenhaus', 'DP Nannes', 'AS Rajpoot', 'B Laughlin',\n",
       "        'CH Morris', 'MM Sharma', 'JO Holder', 'A Nehra', 'P Negi',\n",
       "        'DR Smith', 'IC Pandey', 'S Badree', 'V Shankar', 'DJ Hussey',\n",
       "        'JW Hastings', 'RG More', 'DL Chahar', 'Harbhajan Singh',\n",
       "        'Imran Tahir', 'SN Thakur', 'MJ Santner', 'SC Kuggeleijn',\n",
       "        'KV Sharma', 'SR Watson', 'MA Wood', 'L Ngidi', 'KM Asif',\n",
       "        'DJ Willey', 'SM Curran', 'PP Chawla', 'JR Hazlewood',\n",
       "        'Monu Kumar', 'MM Ali'], dtype=object),\n",
       " 'Delhi Capitals': array(['GD McGrath', 'B Geeves', 'MF Maharoof', 'R Bhatia', 'DL Vettori',\n",
       "        'Mohammad Asif', 'VY Mahesh', 'Shoaib Malik', 'V Sehwag',\n",
       "        'PJ Sangwan', 'A Mishra', 'TM Dilshan', 'DP Nannes', 'AM Salvi',\n",
       "        'A Nehra', 'MK Tiwary', 'AB McDonald', 'Y Nagar', 'S Ladda',\n",
       "        'UT Yadav', 'MC Henriques', 'PD Collingwood', 'AB Dinda',\n",
       "        'M Morkel', 'IK Pathan', 'RE van der Merwe', 'AJ Finch',\n",
       "        'S Nadeem', 'JR Hopes', 'VR Aaron', 'AB Agarkar',\n",
       "        'Y Venugopal Rao', 'S Sriram', 'GJ Maxwell', 'DAJ Bracewell',\n",
       "        'KP Pietersen', 'P Negi', 'AD Russell', 'Sunny Gupta', 'J Botha',\n",
       "        'BMAJ Mendis', 'S Kaul', 'BJ Rohrer', 'JP Duminy',\n",
       "        'Mohammed Shami', 'WD Parnell', 'R Sharma', 'JDS Neesham',\n",
       "        'NM Coulter-Nile', 'JD Unadkat', 'M Vijay', 'LR Shukla',\n",
       "        'Imran Tahir', 'R Shukla', 'DJ Muthuswami', 'AD Mathews',\n",
       "        'JA Morkel', 'Yuvraj Singh', 'Z Khan', 'GS Sandhu', 'J Yadav',\n",
       "        'CH Morris', 'CR Brathwaite', 'PJ Cummins', 'CJ Anderson',\n",
       "        'K Rabada', 'TA Boult', 'I Sharma', 'R Tewatia', 'KMA Paul',\n",
       "        'AR Patel', 'S Lamichhane', 'HV Patel', 'Avesh Khan', 'GH Vihari',\n",
       "        'DT Christian', 'V Shankar', 'LE Plunkett', 'CJ Dala',\n",
       "        'SE Rutherford', 'J Suchith', 'A Nortje', 'MM Sharma', 'R Ashwin',\n",
       "        'MP Stoinis', 'TU Deshpande', 'DR Sams', 'P Dubey', 'CR Woakes',\n",
       "        'TK Curran'], dtype=object),\n",
       " 'Kings XI Punjab': array(['B Lee', 'S Sreesanth', 'JR Hopes', 'IK Pathan', 'K Goel',\n",
       "        'PP Chawla', 'WA Mota', 'VRV Singh', 'Yuvraj Singh',\n",
       "        'Gagandeep Singh', 'RR Powar', 'YA Abdulla', 'VS Malik',\n",
       "        'RS Bopara', 'RR Bose', 'Bipul Sharma', 'SJ Srivastava',\n",
       "        'J Theron', 'L Ablish', 'P Kumar', 'RJ Harris', 'R McLaren',\n",
       "        'AM Nayar', 'BA Bhatt', 'PC Valthaty', 'DJ Hussey', 'JP Faulkner',\n",
       "        'Harmeet Singh', 'AD Mascarenhas', 'P Awana', 'Azhar Mahmood',\n",
       "        'R Sathish', 'MS Gony', 'MG Neser', 'Sandeep Sharma',\n",
       "        'AC Gilchrist', 'AR Patel', 'MG Johnson', 'L Balaji', 'R Dhawan',\n",
       "        'GJ Maxwell', 'M Kartik', 'Shivam Sharma', 'BE Hendricks',\n",
       "        'Karanveer Singh', 'Anureet Singh', 'NLTC Perera', 'M Vijay',\n",
       "        'SN Thakur', 'Gurkeerat Singh', 'MM Sharma', 'P Sahu', 'KJ Abbott',\n",
       "        'MP Stoinis', 'Swapnil Singh', 'KC Cariappa', 'VR Aaron',\n",
       "        'T Natarajan', 'I Sharma', 'MJ Henry', 'R Tewatia', 'SM Curran',\n",
       "        'Mujeeb Ur Rahman', 'Mohammed Shami', 'R Ashwin', 'AS Rajpoot',\n",
       "        'CV Varun', 'GC Viljoen', 'AJ Tye', 'Mandeep Singh', 'M Ashwin',\n",
       "        'SN Khan', 'Arshdeep Singh', 'BB Sran', 'MK Tiwary',\n",
       "        'Harpreet Brar', 'SS Cottrell', 'CJ Jordan', 'K Gowtham',\n",
       "        'Ravi Bishnoi', 'JDS Neesham', 'DJ Hooda', 'CH Gayle'],\n",
       "       dtype=object),\n",
       " 'Kolkata Knight Riders': array(['AB Dinda', 'I Sharma', 'AB Agarkar', 'SC Ganguly', 'LR Shukla',\n",
       "        'M Kartik', 'Mohammad Hafeez', 'DJ Hussey', 'Umar Gul',\n",
       "        'Shoaib Akhtar', 'Iqbal Abdulla', 'BAW Mendis', 'CH Gayle',\n",
       "        'MC Henriques', 'Anureet Singh', 'BJ Hodge', 'SS Sarkar',\n",
       "        'AD Mathews', 'Mashrafe Mortaza', 'CK Langeveldt', 'RS Gavaskar',\n",
       "        'SE Bond', 'MB Parmar', 'JD Unadkat', 'MK Tiwary', 'YK Pathan',\n",
       "        'L Balaji', 'JH Kallis', 'S Ladda', 'R Bhatia', 'RN ten Doeschate',\n",
       "        'B Lee', 'Shakib Al Hasan', 'M de Lange', 'SP Narine',\n",
       "        'PJ Sangwan', 'Mohammed Shami', 'R McLaren', 'SMSM Senanayake',\n",
       "        'S Narwal', 'R Vinay Kumar', 'M Morkel', 'PP Chawla', 'UT Yadav',\n",
       "        'AD Russell', 'SA Yadav', 'PJ Cummins', 'J Botha', 'KC Cariappa',\n",
       "        'GB Hogg', 'Azhar Mahmood', 'JW Hastings', 'C Munro',\n",
       "        'Kuldeep Yadav', 'R Sathish', 'JO Holder', 'AS Rajpoot',\n",
       "        'TA Boult', 'CR Woakes', 'C de Grandhomme', 'NM Coulter-Nile',\n",
       "        'M Prasidh Krishna', 'LH Ferguson', 'N Rana', 'HF Gurney',\n",
       "        'CR Brathwaite', 'MG Johnson', 'TK Curran', 'Shivam Mavi',\n",
       "        'JPR Scantlebury-Searles', 'Y Prithvi Raj', 'S Sandeep Warrier',\n",
       "        'CV Varun', 'KL Nagarkoti', 'CJ Green', 'Harbhajan Singh'],\n",
       "       dtype=object),\n",
       " 'Mumbai Indians': array(['A Nehra', 'SM Pollock', 'DS Kulkarni', 'ST Jayasuriya',\n",
       "        'Harbhajan Singh', 'AM Nayar', 'DJ Bravo', 'VS Yeligati',\n",
       "        'MA Khote', 'SD Chitnis', 'CRD Fernando', 'DJ Thornely', 'RR Raje',\n",
       "        'DR Smith', 'A Nel', 'SL Malinga', 'Z Khan', 'SR Tendulkar',\n",
       "        'JP Duminy', 'GR Napier', 'C Nanda', 'AM Rahane', 'RA Shaikh',\n",
       "        'R McLaren', 'AG Murtaza', 'R Sathish', 'KA Pollard', 'AN Ahmed',\n",
       "        'STR Binny', 'MM Patel', 'JEC Franklin', 'RG Sharma', 'TL Suman',\n",
       "        'A Symonds', 'RW Price', 'PP Ojha', 'RP Singh', 'CJ McKay',\n",
       "        'NLTC Perera', 'RJ Peterson', 'R Shukla', 'MG Johnson',\n",
       "        'JJ Bumrah', 'JDP Oram', 'R Dhawan', 'YS Chahal', 'P Suyal',\n",
       "        'NM Coulter-Nile', 'GJ Maxwell', 'CJ Anderson', 'P Kumar',\n",
       "        'LMP Simmons', 'K Santokie', 'S Gopal', 'M de Lange',\n",
       "        'MJ McClenaghan', 'HH Pandya', 'R Vinay Kumar', 'J Suchith',\n",
       "        'TG Southee', 'KH Pandya', 'N Rana', 'KV Sharma', 'Rasikh Salam',\n",
       "        'BCJ Cutting', 'M Markande', 'JP Behrendorff', 'RD Chahar',\n",
       "        'AS Joseph', 'Mustafizur Rahman', 'PJ Sangwan', 'A Dananjaya',\n",
       "        'J Yadav', 'AS Roy', 'BB Sran', 'TA Boult', 'JL Pattinson',\n",
       "        'M Jansen'], dtype=object),\n",
       " 'Rajasthan Royals': array(['MM Patel', 'SR Watson', 'SK Trivedi', 'SK Warne', 'YK Pathan',\n",
       "        'D Salunkhe', 'Pankaj Singh', 'Sohail Tanvir', 'AD Mascarenhas',\n",
       "        'RA Jadeja', 'Kamran Khan', 'T Henderson', 'SM Harwood', 'AS Raut',\n",
       "        'A Singh', 'M Morkel', 'LA Carseldine', 'J Botha', 'SW Tait',\n",
       "        'A Uniyal', 'AA Jhunjhunwala', 'S Narwal', 'AC Voges', 'SB Wagh',\n",
       "        'AP Dole', 'FY Fazal', 'AJ Finch', 'JDP Oram', 'AL Menaria',\n",
       "        'STR Binny', 'ND Doshi', 'LRPL Taylor', 'AA Chavan', 'KK Cooper',\n",
       "        'BJ Hodge', 'GB Hogg', 'A Chandila', 'S Badree', 'S Sreesanth',\n",
       "        'R Shukla', 'JP Faulkner', 'PV Tambe', 'VS Malik', 'DS Kulkarni',\n",
       "        'KW Richardson', 'R Bhatia', 'TG Southee', 'Iqbal Abdulla',\n",
       "        'R Tewatia', 'Ankit Sharma', 'BCJ Cutting', 'CH Morris',\n",
       "        'DJ Hooda', 'J Theron', 'BB Sran', 'K Gowtham', 'JC Archer',\n",
       "        'BA Stokes', 'JD Unadkat', 'S Gopal', 'VR Aaron', 'S Midhun',\n",
       "        'R Parag', 'LS Livingstone', 'IS Sodhi', 'B Laughlin', 'DJM Short',\n",
       "        'MK Lomror', 'Anureet Singh', 'O Thomas', 'TK Curran',\n",
       "        'AS Rajpoot', 'Kartik Tyagi', 'AJ Tye'], dtype=object),\n",
       " 'Royal Challengers Bangalore': array(['P Kumar', 'Z Khan', 'AA Noffke', 'JH Kallis', 'SB Joshi',\n",
       "        'CL White', 'R Vinay Kumar', 'B Akhil', 'A Kumble', 'DW Steyn',\n",
       "        'V Kohli', 'Abdur Razzak', 'JD Ryder', 'KP Pietersen',\n",
       "        'LRPL Taylor', 'Pankaj Singh', 'KP Appanna', 'RE van der Merwe',\n",
       "        'D du Preez', 'A Mithun', 'S Sriram', 'ND Doshi', 'DL Vettori',\n",
       "        'DP Nannes', 'TM Dilshan', 'AUK Pathan', 'JJ van der Wath',\n",
       "        'S Aravind', 'R Ninan', 'J Syed Mohammad', 'CH Gayle',\n",
       "        'CK Langeveldt', 'AA Kazi', 'AB McDonald', 'M Muralitharan',\n",
       "        'HV Patel', 'RR Bhatkal', 'P Parameswaran', 'JD Unadkat',\n",
       "        'DT Christian', 'M Kartik', 'MC Henriques', 'RP Singh',\n",
       "        'R Rampaul', 'MA Starc', 'JA Morkel', 'VR Aaron', 'YS Chahal',\n",
       "        'AB Dinda', 'Yuvraj Singh', 'AN Ahmed', 'S Rana', 'SB Jakati',\n",
       "        'Iqbal Abdulla', 'D Wiese', 'SA Abbott', 'DJG Sammy', 'AF Milne',\n",
       "        'SR Watson', 'Parvez Rasool', 'KW Richardson', 'STR Binny',\n",
       "        'T Shamsi', 'CJ Jordan', 'Sachin Baby', 'TS Mills', 'A Choudhary',\n",
       "        'TM Head', 'B Stanlake', 'P Negi', 'S Badree', 'Avesh Khan',\n",
       "        'NA Saini', 'MM Ali', 'UT Yadav', 'Mohammed Siraj', 'S Dube',\n",
       "        'C de Grandhomme', 'P Ray Barman', 'MP Stoinis', 'TG Southee',\n",
       "        'CR Woakes', 'Washington Sundar', 'K Khejroliya', 'CJ Anderson',\n",
       "        'M Ashwin', 'I Udana', 'A Zampa', 'CH Morris', 'Shahbaz Ahmed',\n",
       "        'KA Jamieson'], dtype=object),\n",
       " 'Sunrisers Hyderabad': array(['WPUJC Vaas', 'RP Singh', 'SB Styris', 'SB Bangar', 'A Symonds',\n",
       "        'PP Ojha', 'Shahid Afridi', 'D Kalyankrishna', 'DNT Zoysa',\n",
       "        'Y Venugopal Rao', 'DP Vijaykumar', 'PM Sarvesh Kumar',\n",
       "        'RG Sharma', 'DB Ravi Teja', 'LPC Silva', 'FH Edwards',\n",
       "        'Harmeet Singh', 'DR Smith', 'Shoaib Ahmed', 'RJ Harris',\n",
       "        'TL Suman', 'Jaskaran Singh', 'R Sharma', 'KAJ Roach', 'MR Marsh',\n",
       "        'DW Steyn', 'I Sharma', 'DT Christian', 'A Mishra', 'JP Duminy',\n",
       "        'MS Gony', 'S Dhawan', 'I Malhotra', 'B Chipli', 'Anand Rajan',\n",
       "        'Ankit Sharma', 'DJ Harris', 'TP Sudhindra', 'CL White',\n",
       "        'V Pratap Singh', 'A Ashish Reddy', 'AA Jhunjhunwala', 'J Theron',\n",
       "        'GH Vihari', 'NLTC Perera', 'KV Sharma', 'DJG Sammy', 'B Kumar',\n",
       "        'IK Pathan', 'MC Henriques', 'Parvez Rasool', 'JO Holder',\n",
       "        'P Kumar', 'Bipul Sharma', 'RS Bopara', 'TA Boult', 'A Nehra',\n",
       "        'Mustafizur Rahman', 'BB Sran', 'DJ Hooda', 'Yuvraj Singh',\n",
       "        'BCJ Cutting', 'KS Williamson', 'Rashid Khan', 'S Kaul',\n",
       "        'Mohammad Nabi', 'Mohammed Siraj', 'CJ Jordan', 'Shakib Al Hasan',\n",
       "        'Sandeep Sharma', 'S Nadeem', 'V Shankar', 'YK Pathan', 'KK Ahmed',\n",
       "        'Abhishek Sharma', 'B Stanlake', 'Basil Thampi', 'CR Brathwaite',\n",
       "        'T Natarajan', 'Abdul Samad', 'DA Warner'], dtype=object)}"
      ]
     },
     "metadata": {},
     "execution_count": 20
    }
   ],
   "source": [
    "#pd.DataFrame(df.groupby(['batting_team'])['striker'].unique())\n",
    "df.groupby(['bowling_team'])['bowler'].unique().to_dict()"
   ]
  },
  {
   "cell_type": "code",
   "execution_count": null,
   "metadata": {},
   "outputs": [],
   "source": []
  },
  {
   "cell_type": "code",
   "execution_count": 19,
   "metadata": {},
   "outputs": [
    {
     "output_type": "execute_result",
     "data": {
      "text/plain": [
       "['M Chinnaswamy Stadium',\n",
       " 'Punjab Cricket Association Stadium, Mohali',\n",
       " 'Feroz Shah Kotla',\n",
       " 'Eden Gardens',\n",
       " 'Wankhede Stadium',\n",
       " 'Sawai Mansingh Stadium',\n",
       " 'Rajiv Gandhi International Stadium',\n",
       " 'MA Chidambaram Stadium',\n",
       " 'Dr DY Patil Sports Academy',\n",
       " 'Newlands',\n",
       " \"St George's Park\",\n",
       " 'Kingsmead',\n",
       " 'SuperSport Park',\n",
       " 'Buffalo Park',\n",
       " 'New Wanderers Stadium',\n",
       " 'De Beers Diamond Oval',\n",
       " 'OUTsurance Oval',\n",
       " 'Brabourne Stadium',\n",
       " 'Sardar Patel Stadium, Motera',\n",
       " 'Barabati Stadium',\n",
       " 'Vidarbha Cricket Association Stadium, Jamtha',\n",
       " 'Himachal Pradesh Cricket Association Stadium',\n",
       " 'Dr. Y.S. Rajasekhara Reddy ACA-VDCA Cricket Stadium',\n",
       " 'Subrata Roy Sahara Stadium',\n",
       " 'Shaheed Veer Narayan Singh International Stadium',\n",
       " 'JSCA International Stadium Complex',\n",
       " 'Sheikh Zayed Stadium',\n",
       " 'Sharjah Cricket Stadium',\n",
       " 'Dubai International Cricket Stadium',\n",
       " 'Maharashtra Cricket Association Stadium',\n",
       " 'Punjab Cricket Association Stadium',\n",
       " 'Holkar Cricket Stadium',\n",
       " 'Arun Jaitley Stadium']"
      ]
     },
     "metadata": {},
     "execution_count": 19
    }
   ],
   "source": [
    "list(df.venue.unique())"
   ]
  },
  {
   "source": [
    "### Replace the team name in short"
   ],
   "cell_type": "markdown",
   "metadata": {}
  },
  {
   "cell_type": "code",
   "execution_count": 6,
   "metadata": {},
   "outputs": [
    {
     "output_type": "execute_result",
     "data": {
      "text/plain": [
       "array(['KKR', 'RCB', 'CSK', 'KXIP', 'RR', 'DC', 'SRH', 'MI'], dtype=object)"
      ]
     },
     "metadata": {},
     "execution_count": 6
    }
   ],
   "source": [
    "\n",
    "df.loc[df.batting_team == 'Kolkata Knight Riders', 'batting_team'] = 'KKR'\n",
    "df.loc[df.batting_team == 'Royal Challengers Bangalore', 'batting_team'] = 'RCB'\n",
    "df.loc[df.batting_team == 'Chennai Super Kings', 'batting_team'] = 'CSK'\n",
    "df.loc[df.batting_team == 'Kings XI Punjab', 'batting_team'] = 'KXIP'\n",
    "df.loc[df.batting_team == 'Rajasthan Royals', 'batting_team'] = 'RR'\n",
    "df.loc[df.batting_team == 'Delhi Capitals', 'batting_team'] = 'DC'\n",
    "df.loc[df.batting_team == 'Sunrisers Hyderabad', 'batting_team'] = 'SRH'\n",
    "df.loc[df.batting_team == 'Mumbai Indians', 'batting_team'] = 'MI'\n",
    "\n",
    "df.loc[df.bowling_team == 'Kolkata Knight Riders', 'bowling_team'] = 'KKR'\n",
    "df.loc[df.bowling_team == 'Royal Challengers Bangalore', 'bowling_team'] = 'RCB'\n",
    "df.loc[df.bowling_team == 'Chennai Super Kings', 'bowling_team'] = 'CSK'\n",
    "df.loc[df.bowling_team == 'Kings XI Punjab', 'bowling_team'] = 'KXIP'\n",
    "df.loc[df.bowling_team == 'Rajasthan Royals', 'bowling_team'] = 'RR'\n",
    "df.loc[df.bowling_team == 'Delhi Capitals', 'bowling_team'] = 'DC'\n",
    "df.loc[df.bowling_team == 'Sunrisers Hyderabad', 'bowling_team'] = 'SRH'\n",
    "df.loc[df.bowling_team == 'Mumbai Indians', 'bowling_team'] = 'MI'\n",
    "\n",
    "df.batting_team.unique()"
   ]
  },
  {
   "source": [
    "# Rename striker and bowler column names:\n"
   ],
   "cell_type": "markdown",
   "metadata": {}
  },
  {
   "cell_type": "code",
   "execution_count": 7,
   "metadata": {
    "tags": []
   },
   "outputs": [
    {
     "output_type": "stream",
     "name": "stdout",
     "text": [
      "<class 'pandas.core.frame.DataFrame'>\nInt64Index: 167335 entries, 0 to 194353\nData columns (total 20 columns):\n #   Column                  Non-Null Count   Dtype  \n---  ------                  --------------   -----  \n 0   match_id                167335 non-null  int64  \n 1   venue                   167335 non-null  object \n 2   innings                 167335 non-null  int64  \n 3   ball                    167335 non-null  float64\n 4   batting_team            167335 non-null  object \n 5   bowling_team            167335 non-null  object \n 6   batsmen                 167335 non-null  object \n 7   batsmen_non_striker     167335 non-null  object \n 8   bowlers                 167335 non-null  object \n 9   runs_off_bat            167335 non-null  int64  \n 10  extras                  167335 non-null  int64  \n 11  wides                   5119 non-null    float64\n 12  noballs                 674 non-null     float64\n 13  byes                    450 non-null     float64\n 14  legbyes                 2703 non-null    float64\n 15  penalty                 2 non-null       float64\n 16  wicket_type             8236 non-null    object \n 17  player_dismissed        8236 non-null    object \n 18  other_wicket_type       0 non-null       float64\n 19  other_player_dismissed  0 non-null       float64\ndtypes: float64(8), int64(4), object(8)\nmemory usage: 26.8+ MB\n"
     ]
    }
   ],
   "source": [
    "df = df.rename(columns= {'striker' : 'batsmen','non_striker' : 'batsmen_non_striker','bowler' : 'bowlers'})\n",
    "df.info()"
   ]
  },
  {
   "cell_type": "code",
   "execution_count": 8,
   "metadata": {},
   "outputs": [],
   "source": [
    "df['Total_score']  = df.runs_off_bat + df.extras\n",
    "df = df.drop(columns = ['wides','noballs', 'byes', 'legbyes', 'penalty', 'wicket_type', 'other_wicket_type', 'other_player_dismissed'],axis=1)\n",
    "df[(df.ball<6.0) & (df.innings < 3)].to_csv('1_cleaned_Data.csv',index=False)\n"
   ]
  },
  {
   "cell_type": "code",
   "execution_count": 9,
   "metadata": {},
   "outputs": [
    {
     "output_type": "execute_result",
     "data": {
      "text/plain": [
       "(52597, 13)"
      ]
     },
     "metadata": {},
     "execution_count": 9
    }
   ],
   "source": [
    "df = pd.read_csv('1_cleaned_Data.csv')\n",
    "df.shape"
   ]
  },
  {
   "cell_type": "code",
   "execution_count": null,
   "metadata": {},
   "outputs": [],
   "source": [
    "label_encode_dict = {}\n",
    "\n",
    "le = LabelEncoder()\n",
    "le.fit(df.batsmen)\n",
    "batsmen_e = le.transform(df.batsmen)\n",
    "batsmen_e_inv = le.inverse_transform(batsmen_e)\n",
    "\n",
    "label_encode_dict['batsmen'] = dict(zip(batsmen_e_inv,map(int,batsmen_e)))\n",
    "\n",
    "le.fit(df.bowlers)\n",
    "bowlers_e = le.transform(df.bowlers)\n",
    "bowlers_e_inv = le.inverse_transform(bowlers_e)\n",
    "\n",
    "label_encode_dict['bowlers'] = dict(zip(bowlers_e_inv,map(int,bowlers_e)))\n",
    "\n",
    "le.fit(df.venue)\n",
    "venue_e = le.transform(df.venue)\n",
    "venue_e_inv = le.inverse_transform(venue_e)\n",
    "\n",
    "label_encode_dict['venue'] = dict(zip(venue_e_inv,map(int,venue_e)))\n",
    "\n",
    "\n",
    "le.fit(df.batting_team)\n",
    "batting_team_e = le.transform(df.batting_team)\n",
    "batting_team_e_inv = le.inverse_transform(batting_team_e)\n",
    "\n",
    "label_encode_dict['batting_team'] = dict(zip(batting_team_e_inv,map(int,batting_team_e)))\n",
    "\n",
    "le.fit(df.bowling_team)\n",
    "bowling_team_e = le.transform(df.bowling_team)\n",
    "bowling_team_e_inv = le.inverse_transform(bowling_team_e)\n",
    "\n",
    "label_encode_dict['bowling_team'] = dict(zip(bowling_team_e_inv,map(int,bowling_team_e)))\n",
    "\n",
    "\n",
    "\n",
    "with open('label_encode.json','w') as f:\n",
    "    json.dump(label_encode_dict,f)"
   ]
  },
  {
   "cell_type": "code",
   "execution_count": null,
   "metadata": {},
   "outputs": [],
   "source": []
  }
 ]
}